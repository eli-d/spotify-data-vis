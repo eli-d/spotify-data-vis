{
 "metadata": {
  "language_info": {
   "codemirror_mode": {
    "name": "ipython",
    "version": 3
   },
   "file_extension": ".py",
   "mimetype": "text/x-python",
   "name": "python",
   "nbconvert_exporter": "python",
   "pygments_lexer": "ipython3",
   "version": "3.8.6-final"
  },
  "orig_nbformat": 2,
  "kernelspec": {
   "name": "Python 3.8.6 64-bit",
   "display_name": "Python 3.8.6 64-bit",
   "metadata": {
    "interpreter": {
     "hash": "d2152fd7f0bbc62aa1baff8c990435d1e2c7175d001561303988032604c11a48"
    }
   }
  }
 },
 "nbformat": 4,
 "nbformat_minor": 2,
 "cells": [
  {
   "cell_type": "code",
   "execution_count": 3,
   "metadata": {},
   "outputs": [
    {
     "output_type": "display_data",
     "data": {
      "text/html": "        <script type=\"text/javascript\">\n        window.PlotlyConfig = {MathJaxConfig: 'local'};\n        if (window.MathJax) {MathJax.Hub.Config({SVG: {font: \"STIX-Web\"}});}\n        if (typeof require !== 'undefined') {\n        require.undef(\"plotly\");\n        requirejs.config({\n            paths: {\n                'plotly': ['https://cdn.plot.ly/plotly-latest.min']\n            }\n        });\n        require(['plotly'], function(Plotly) {\n            window._Plotly = Plotly;\n        });\n        }\n        </script>\n        "
     },
     "metadata": {}
    }
   ],
   "source": [
    "#notebook to create bar plots\n",
    "import pandas as pd\n",
    "import numpy as np\n",
    "from plotly.offline import init_notebook_mode, iplot, plot\n",
    "init_notebook_mode(connected=True)\n",
    "import plotly.graph_objs as go\n",
    "import plotly.express as px\n",
    "import math\n",
    "#import map\n",
    "import requests\n",
    "countries_map = requests.get('https://raw.githubusercontent.com/datasets/geo-countries/master/data/countries.geojson').json()\n",
    "#df = pd.read_csv('data_clean.csv')\n",
    "#convert dates to pandas date object\n",
    "import datetime\n",
    "#choose template\n",
    "import plotly.io as pio\n",
    "pio.templates.default=\"seaborn\"\n",
    "#take colourmaps from matplotlib\n",
    "import matplotlib\n",
    "import matplotlib.cm as cm\n",
    "import colorcet as cc\n",
    "import bar_chart_race as bcr\n"
   ]
  },
  {
   "cell_type": "code",
   "execution_count": 48,
   "metadata": {},
   "outputs": [
    {
     "output_type": "execute_result",
     "data": {
      "text/plain": "            Look What You Made Me Do  Malibu  Driving Home For Christmas  \\\nindex                                                                      \n2017-01-01                       0.0     0.0                         0.0   \n2017-01-02                       0.0     0.0                         0.0   \n2017-01-03                       0.0     0.0                         0.0   \n2017-01-04                       0.0     0.0                         0.0   \n2017-01-05                       0.0     0.0                         0.0   \n...                              ...     ...                         ...   \n2018-01-05                       0.0     0.0                         0.0   \n2018-01-06                       0.0     0.0                         0.0   \n2018-01-07                       0.0     0.0                         0.0   \n2018-01-08                       0.0     0.0                         0.0   \n2018-01-09                       0.0     0.0                         0.0   \n\n            Perfect Duet (Ed Sheeran &amp; Beyoncé)  \\\nindex                                             \n2017-01-01                                  0.0   \n2017-01-02                                  0.0   \n2017-01-03                                  0.0   \n2017-01-04                                  0.0   \n2017-01-05                                  0.0   \n...                                         ...   \n2018-01-05                                  0.0   \n2018-01-06                                  0.0   \n2018-01-07                                  0.0   \n2018-01-08                                  0.0   \n2018-01-09                                  0.0   \n\n            Rockin&#39; Around The Christmas Tree - Single Version  \\\nindex                                                            \n2017-01-01                                                0.0    \n2017-01-02                                                0.0    \n2017-01-03                                                0.0    \n2017-01-04                                                0.0    \n2017-01-05                                                0.0    \n...                                                       ...    \n2018-01-05                                                0.0    \n2018-01-06                                                0.0    \n2018-01-07                                                0.0    \n2018-01-08                                                0.0    \n2018-01-09                                                0.0    \n\n            It&#39;s Beginning To Look A Lot Like Christmas  Gorgeous  \\\nindex                                                               \n2017-01-01                                          0.0       0.0   \n2017-01-02                                          0.0       0.0   \n2017-01-03                                          0.0       0.0   \n2017-01-04                                          0.0       0.0   \n2017-01-05                                          0.0       0.0   \n...                                                 ...       ...   \n2018-01-05                                          0.0       0.0   \n2018-01-06                                          0.0       0.0   \n2018-01-07                                          0.0       0.0   \n2018-01-08                                          0.0       0.0   \n2018-01-09                                          0.0       0.0   \n\n            Last Christmas  LOYALTY. FEAT. RIHANNA.  Dive  ...  Free Smoke  \\\nindex                                                      ...               \n2017-01-01             0.0                      0.0   0.0  ...         0.0   \n2017-01-02             0.0                      0.0   0.0  ...         0.0   \n2017-01-03             0.0                      0.0   0.0  ...         0.0   \n2017-01-04             0.0                      0.0   0.0  ...         0.0   \n2017-01-05             0.0                      0.0   0.0  ...         0.0   \n...                    ...                      ...   ...  ...         ...   \n2018-01-05             0.0                      0.0   0.0  ...         0.0   \n2018-01-06             0.0                      0.0   0.0  ...         0.0   \n2018-01-07             0.0                      0.0   0.0  ...         0.0   \n2018-01-08             0.0                      0.0   0.0  ...         0.0   \n2018-01-09             0.0                      0.0   0.0  ...         0.0   \n\n            HUMBLE.  Gyalchester  ...Ready For It?  \\\nindex                                                \n2017-01-01      0.0          0.0               0.0   \n2017-01-02      0.0          0.0               0.0   \n2017-01-03      0.0          0.0               0.0   \n2017-01-04      0.0          0.0               0.0   \n2017-01-05      0.0          0.0               0.0   \n...             ...          ...               ...   \n2018-01-05      0.0          0.0               0.0   \n2018-01-06      0.0          0.0               0.0   \n2018-01-07      0.0          0.0               0.0   \n2018-01-08      0.0          0.0               0.0   \n2018-01-09      0.0          0.0               0.0   \n\n            I Don&#39;t Wanna Live Forever  Fetish (feat. Gucci Mane)  Bad Liar  \\\nindex                                                                         \n2017-01-01                         0.0                        0.0       0.0   \n2017-01-02                   2329762.0                        0.0       0.0   \n2017-01-03                   2710150.0                        0.0       0.0   \n2017-01-04                   2878313.0                        0.0       0.0   \n2017-01-05                   2898180.0                        0.0       0.0   \n...                                ...                        ...       ...   \n2018-01-05                         0.0                        0.0       0.0   \n2018-01-06                         0.0                        0.0       0.0   \n2018-01-07                         0.0                        0.0       0.0   \n2018-01-08                         0.0                        0.0       0.0   \n2018-01-09                         0.0                        0.0       0.0   \n\n            I Fall Apart  Wild Thoughts  Silence  \nindex                                             \n2017-01-01           0.0            0.0      0.0  \n2017-01-02           0.0            0.0      0.0  \n2017-01-03           0.0            0.0      0.0  \n2017-01-04           0.0            0.0      0.0  \n2017-01-05           0.0            0.0      0.0  \n...                  ...            ...      ...  \n2018-01-05           0.0            0.0      0.0  \n2018-01-06           0.0            0.0      0.0  \n2018-01-07           0.0            0.0      0.0  \n2018-01-08           0.0            0.0      0.0  \n2018-01-09           0.0            0.0      0.0  \n\n[369 rows x 93 columns]",
      "text/html": "<div>\n<style scoped>\n    .dataframe tbody tr th:only-of-type {\n        vertical-align: middle;\n    }\n\n    .dataframe tbody tr th {\n        vertical-align: top;\n    }\n\n    .dataframe thead th {\n        text-align: right;\n    }\n</style>\n<table border=\"1\" class=\"dataframe\">\n  <thead>\n    <tr style=\"text-align: right;\">\n      <th></th>\n      <th>Look What You Made Me Do</th>\n      <th>Malibu</th>\n      <th>Driving Home For Christmas</th>\n      <th>Perfect Duet (Ed Sheeran &amp; Beyoncé)</th>\n      <th>Rockin' Around The Christmas Tree - Single Version</th>\n      <th>It's Beginning To Look A Lot Like Christmas</th>\n      <th>Gorgeous</th>\n      <th>Last Christmas</th>\n      <th>LOYALTY. FEAT. RIHANNA.</th>\n      <th>Dive</th>\n      <th>...</th>\n      <th>Free Smoke</th>\n      <th>HUMBLE.</th>\n      <th>Gyalchester</th>\n      <th>...Ready For It?</th>\n      <th>I Don't Wanna Live Forever</th>\n      <th>Fetish (feat. Gucci Mane)</th>\n      <th>Bad Liar</th>\n      <th>I Fall Apart</th>\n      <th>Wild Thoughts</th>\n      <th>Silence</th>\n    </tr>\n    <tr>\n      <th>index</th>\n      <th></th>\n      <th></th>\n      <th></th>\n      <th></th>\n      <th></th>\n      <th></th>\n      <th></th>\n      <th></th>\n      <th></th>\n      <th></th>\n      <th></th>\n      <th></th>\n      <th></th>\n      <th></th>\n      <th></th>\n      <th></th>\n      <th></th>\n      <th></th>\n      <th></th>\n      <th></th>\n      <th></th>\n    </tr>\n  </thead>\n  <tbody>\n    <tr>\n      <th>2017-01-01</th>\n      <td>0.0</td>\n      <td>0.0</td>\n      <td>0.0</td>\n      <td>0.0</td>\n      <td>0.0</td>\n      <td>0.0</td>\n      <td>0.0</td>\n      <td>0.0</td>\n      <td>0.0</td>\n      <td>0.0</td>\n      <td>...</td>\n      <td>0.0</td>\n      <td>0.0</td>\n      <td>0.0</td>\n      <td>0.0</td>\n      <td>0.0</td>\n      <td>0.0</td>\n      <td>0.0</td>\n      <td>0.0</td>\n      <td>0.0</td>\n      <td>0.0</td>\n    </tr>\n    <tr>\n      <th>2017-01-02</th>\n      <td>0.0</td>\n      <td>0.0</td>\n      <td>0.0</td>\n      <td>0.0</td>\n      <td>0.0</td>\n      <td>0.0</td>\n      <td>0.0</td>\n      <td>0.0</td>\n      <td>0.0</td>\n      <td>0.0</td>\n      <td>...</td>\n      <td>0.0</td>\n      <td>0.0</td>\n      <td>0.0</td>\n      <td>0.0</td>\n      <td>2329762.0</td>\n      <td>0.0</td>\n      <td>0.0</td>\n      <td>0.0</td>\n      <td>0.0</td>\n      <td>0.0</td>\n    </tr>\n    <tr>\n      <th>2017-01-03</th>\n      <td>0.0</td>\n      <td>0.0</td>\n      <td>0.0</td>\n      <td>0.0</td>\n      <td>0.0</td>\n      <td>0.0</td>\n      <td>0.0</td>\n      <td>0.0</td>\n      <td>0.0</td>\n      <td>0.0</td>\n      <td>...</td>\n      <td>0.0</td>\n      <td>0.0</td>\n      <td>0.0</td>\n      <td>0.0</td>\n      <td>2710150.0</td>\n      <td>0.0</td>\n      <td>0.0</td>\n      <td>0.0</td>\n      <td>0.0</td>\n      <td>0.0</td>\n    </tr>\n    <tr>\n      <th>2017-01-04</th>\n      <td>0.0</td>\n      <td>0.0</td>\n      <td>0.0</td>\n      <td>0.0</td>\n      <td>0.0</td>\n      <td>0.0</td>\n      <td>0.0</td>\n      <td>0.0</td>\n      <td>0.0</td>\n      <td>0.0</td>\n      <td>...</td>\n      <td>0.0</td>\n      <td>0.0</td>\n      <td>0.0</td>\n      <td>0.0</td>\n      <td>2878313.0</td>\n      <td>0.0</td>\n      <td>0.0</td>\n      <td>0.0</td>\n      <td>0.0</td>\n      <td>0.0</td>\n    </tr>\n    <tr>\n      <th>2017-01-05</th>\n      <td>0.0</td>\n      <td>0.0</td>\n      <td>0.0</td>\n      <td>0.0</td>\n      <td>0.0</td>\n      <td>0.0</td>\n      <td>0.0</td>\n      <td>0.0</td>\n      <td>0.0</td>\n      <td>0.0</td>\n      <td>...</td>\n      <td>0.0</td>\n      <td>0.0</td>\n      <td>0.0</td>\n      <td>0.0</td>\n      <td>2898180.0</td>\n      <td>0.0</td>\n      <td>0.0</td>\n      <td>0.0</td>\n      <td>0.0</td>\n      <td>0.0</td>\n    </tr>\n    <tr>\n      <th>...</th>\n      <td>...</td>\n      <td>...</td>\n      <td>...</td>\n      <td>...</td>\n      <td>...</td>\n      <td>...</td>\n      <td>...</td>\n      <td>...</td>\n      <td>...</td>\n      <td>...</td>\n      <td>...</td>\n      <td>...</td>\n      <td>...</td>\n      <td>...</td>\n      <td>...</td>\n      <td>...</td>\n      <td>...</td>\n      <td>...</td>\n      <td>...</td>\n      <td>...</td>\n      <td>...</td>\n    </tr>\n    <tr>\n      <th>2018-01-05</th>\n      <td>0.0</td>\n      <td>0.0</td>\n      <td>0.0</td>\n      <td>0.0</td>\n      <td>0.0</td>\n      <td>0.0</td>\n      <td>0.0</td>\n      <td>0.0</td>\n      <td>0.0</td>\n      <td>0.0</td>\n      <td>...</td>\n      <td>0.0</td>\n      <td>0.0</td>\n      <td>0.0</td>\n      <td>0.0</td>\n      <td>0.0</td>\n      <td>0.0</td>\n      <td>0.0</td>\n      <td>0.0</td>\n      <td>0.0</td>\n      <td>0.0</td>\n    </tr>\n    <tr>\n      <th>2018-01-06</th>\n      <td>0.0</td>\n      <td>0.0</td>\n      <td>0.0</td>\n      <td>0.0</td>\n      <td>0.0</td>\n      <td>0.0</td>\n      <td>0.0</td>\n      <td>0.0</td>\n      <td>0.0</td>\n      <td>0.0</td>\n      <td>...</td>\n      <td>0.0</td>\n      <td>0.0</td>\n      <td>0.0</td>\n      <td>0.0</td>\n      <td>0.0</td>\n      <td>0.0</td>\n      <td>0.0</td>\n      <td>0.0</td>\n      <td>0.0</td>\n      <td>0.0</td>\n    </tr>\n    <tr>\n      <th>2018-01-07</th>\n      <td>0.0</td>\n      <td>0.0</td>\n      <td>0.0</td>\n      <td>0.0</td>\n      <td>0.0</td>\n      <td>0.0</td>\n      <td>0.0</td>\n      <td>0.0</td>\n      <td>0.0</td>\n      <td>0.0</td>\n      <td>...</td>\n      <td>0.0</td>\n      <td>0.0</td>\n      <td>0.0</td>\n      <td>0.0</td>\n      <td>0.0</td>\n      <td>0.0</td>\n      <td>0.0</td>\n      <td>0.0</td>\n      <td>0.0</td>\n      <td>0.0</td>\n    </tr>\n    <tr>\n      <th>2018-01-08</th>\n      <td>0.0</td>\n      <td>0.0</td>\n      <td>0.0</td>\n      <td>0.0</td>\n      <td>0.0</td>\n      <td>0.0</td>\n      <td>0.0</td>\n      <td>0.0</td>\n      <td>0.0</td>\n      <td>0.0</td>\n      <td>...</td>\n      <td>0.0</td>\n      <td>0.0</td>\n      <td>0.0</td>\n      <td>0.0</td>\n      <td>0.0</td>\n      <td>0.0</td>\n      <td>0.0</td>\n      <td>0.0</td>\n      <td>0.0</td>\n      <td>0.0</td>\n    </tr>\n    <tr>\n      <th>2018-01-09</th>\n      <td>0.0</td>\n      <td>0.0</td>\n      <td>0.0</td>\n      <td>0.0</td>\n      <td>0.0</td>\n      <td>0.0</td>\n      <td>0.0</td>\n      <td>0.0</td>\n      <td>0.0</td>\n      <td>0.0</td>\n      <td>...</td>\n      <td>0.0</td>\n      <td>0.0</td>\n      <td>0.0</td>\n      <td>0.0</td>\n      <td>0.0</td>\n      <td>0.0</td>\n      <td>0.0</td>\n      <td>0.0</td>\n      <td>0.0</td>\n      <td>0.0</td>\n    </tr>\n  </tbody>\n</table>\n<p>369 rows × 93 columns</p>\n</div>"
     },
     "metadata": {},
     "execution_count": 48
    }
   ],
   "source": [
    "df = pd.read_csv('data_dates.csv',index_col='index')\n",
    "df"
   ]
  },
  {
   "cell_type": "code",
   "execution_count": 3,
   "metadata": {},
   "outputs": [],
   "source": []
  },
  {
   "cell_type": "code",
   "execution_count": 130,
   "metadata": {},
   "outputs": [
    {
     "output_type": "execute_result",
     "data": {
      "text/plain": "&#39;temp-plot.html&#39;"
     },
     "metadata": {},
     "execution_count": 130
    }
   ],
   "source": [
    "#create plotly fig between start and end\n",
    "start = '2017-01-01'\n",
    "end = '2017-01-03'\n",
    "fig = bcr.bar_chart_race_plotly(df.loc[start:end].iloc[::2],steps_per_period=30, period_length=200,sort='asc',bar_textposition='auto',n_bars=10)\n",
    "#fig.update_yaxes(range=[0,11],fixedrange=True,autorange=False)\n",
    "#fig.update_layout(color_discrete_sequence=cc.glasbey_light)\n",
    "plot(fig)"
   ]
  },
  {
   "cell_type": "code",
   "execution_count": 95,
   "metadata": {},
   "outputs": [
    {
     "output_type": "execute_result",
     "data": {
      "text/plain": "1.00003852382923"
     },
     "metadata": {},
     "execution_count": 95
    }
   ],
   "source": [
    "#fig.frames[0]['layout']\n",
    "list(fig.layout['yaxis']['ticktext']).index('Starboy')\n",
    "fig.layout['yaxis']['tickvals'][17]"
   ]
  },
  {
   "cell_type": "code",
   "execution_count": 16,
   "metadata": {
    "tags": []
   },
   "outputs": [
    {
     "output_type": "execute_result",
     "data": {
      "text/plain": "Scatter({\n    &#39;hovertemplate&#39;: &#39;streams=%{x}&lt;br&gt;position=%{y}&lt;extra&gt;&lt;/extra&gt;&#39;,\n    &#39;legendgroup&#39;: &#39;&#39;,\n    &#39;line&#39;: {&#39;color&#39;: &#39;rgb(76,114,176)&#39;, &#39;dash&#39;: &#39;solid&#39;},\n    &#39;mode&#39;: &#39;lines&#39;,\n    &#39;name&#39;: &#39;&#39;,\n    &#39;orientation&#39;: &#39;v&#39;,\n    &#39;showlegend&#39;: False,\n    &#39;uid&#39;: &#39;f2eef011-5a0c-4c2f-8553-83f3988a12d5&#39;,\n    &#39;x&#39;: array([19272, 19270, 15761, 14954, 14269, 12843, 10986, 10653,  9807,  9612,\n                 9611,  8982,  8834,  8309,  7822,  7586,  7472,  7416,  7006,  6779]),\n    &#39;xaxis&#39;: &#39;x&#39;,\n    &#39;y&#39;: array([ 1,  2,  3,  4,  5,  6,  7,  8,  9, 10, 11, 12, 13, 14, 15, 16, 17, 18,\n                19, 20]),\n    &#39;yaxis&#39;: &#39;y&#39;\n})"
     },
     "metadata": {},
     "execution_count": 16
    }
   ],
   "source": [
    "df = pd.read_csv('data_clean.csv')\n",
    "a = px.line(df.head(20),'streams','position')\n",
    "fig = go.FigureWidget(a.data,a.layout)\n"
   ]
  }
 ]
}