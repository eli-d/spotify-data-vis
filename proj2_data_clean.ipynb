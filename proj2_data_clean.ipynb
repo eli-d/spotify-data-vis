{
 "cells": [
  {
   "cell_type": "code",
   "execution_count": 1,
   "metadata": {},
   "outputs": [],
   "source": [
    "#notebook to clean/modify data to a suitable format\n",
    "import pandas as pd\n",
    "import numpy as np\n",
    "import math"
   ]
  },
  {
   "cell_type": "code",
   "execution_count": 3,
   "metadata": {
    "tags": []
   },
   "outputs": [
    {
     "output_type": "execute_result",
     "data": {
      "text/plain": "         position                  track_name              artist  streams  \\\n0               1  Reggaetón Lento (Bailemos)                CNCO    19272   \n1               2                    Chantaje             Shakira    19270   \n2               3   Otra Vez (feat. J Balvin)       Zion & Lennox    15761   \n3               4                Vente Pa' Ca        Ricky Martin    14954   \n4               5                      Safari            J Balvin    14269   \n...           ...                         ...                 ...      ...   \n3441192       196          More Than You Know  Axwell /\\ Ingrosso     2126   \n3441193       197                      Issues      Julia Michaels     2117   \n3441194       198                 Tuo Fei Lun          Eason Chan     2112   \n3441195       199                          面具          Alfred Hui     2102   \n3441196       200                  Let Her Go           Passenger     2088   \n\n                             id        date region  \n0        3AEZUABDXNtecAOSC1qTfo  2017-01-01     ec  \n1        6mICuAdrwEjh6Y6lroV2Kg  2017-01-01     ec  \n2        3QwBODjSEzelZyVjxPOHdq  2017-01-01     ec  \n3        7DM4BPaS7uofFul3ywMe46  2017-01-01     ec  \n4        6rQSrBHf7HlZjtcMZ4S4bO  2017-01-01     ec  \n...                         ...         ...    ...  \n3441192  71bBFbfn2OBK5QwUJSLS44  2018-01-09     hk  \n3441193  7vu0JkJh0ldukEYbTVcqd0  2018-01-09     hk  \n3441194  0pmGleExiQyd0HxV5kAOwK  2018-01-09     hk  \n3441195  58SUsgamkW6vFFq0YNKGrf  2018-01-09     hk  \n3441196  2jyjhRf6DVbMPU5zxagN2h  2018-01-09     hk  \n\n[3441197 rows x 7 columns]",
      "text/html": "<div>\n<style scoped>\n    .dataframe tbody tr th:only-of-type {\n        vertical-align: middle;\n    }\n\n    .dataframe tbody tr th {\n        vertical-align: top;\n    }\n\n    .dataframe thead th {\n        text-align: right;\n    }\n</style>\n<table border=\"1\" class=\"dataframe\">\n  <thead>\n    <tr style=\"text-align: right;\">\n      <th></th>\n      <th>position</th>\n      <th>track_name</th>\n      <th>artist</th>\n      <th>streams</th>\n      <th>id</th>\n      <th>date</th>\n      <th>region</th>\n    </tr>\n  </thead>\n  <tbody>\n    <tr>\n      <th>0</th>\n      <td>1</td>\n      <td>Reggaetón Lento (Bailemos)</td>\n      <td>CNCO</td>\n      <td>19272</td>\n      <td>3AEZUABDXNtecAOSC1qTfo</td>\n      <td>2017-01-01</td>\n      <td>ec</td>\n    </tr>\n    <tr>\n      <th>1</th>\n      <td>2</td>\n      <td>Chantaje</td>\n      <td>Shakira</td>\n      <td>19270</td>\n      <td>6mICuAdrwEjh6Y6lroV2Kg</td>\n      <td>2017-01-01</td>\n      <td>ec</td>\n    </tr>\n    <tr>\n      <th>2</th>\n      <td>3</td>\n      <td>Otra Vez (feat. J Balvin)</td>\n      <td>Zion &amp; Lennox</td>\n      <td>15761</td>\n      <td>3QwBODjSEzelZyVjxPOHdq</td>\n      <td>2017-01-01</td>\n      <td>ec</td>\n    </tr>\n    <tr>\n      <th>3</th>\n      <td>4</td>\n      <td>Vente Pa' Ca</td>\n      <td>Ricky Martin</td>\n      <td>14954</td>\n      <td>7DM4BPaS7uofFul3ywMe46</td>\n      <td>2017-01-01</td>\n      <td>ec</td>\n    </tr>\n    <tr>\n      <th>4</th>\n      <td>5</td>\n      <td>Safari</td>\n      <td>J Balvin</td>\n      <td>14269</td>\n      <td>6rQSrBHf7HlZjtcMZ4S4bO</td>\n      <td>2017-01-01</td>\n      <td>ec</td>\n    </tr>\n    <tr>\n      <th>...</th>\n      <td>...</td>\n      <td>...</td>\n      <td>...</td>\n      <td>...</td>\n      <td>...</td>\n      <td>...</td>\n      <td>...</td>\n    </tr>\n    <tr>\n      <th>3441192</th>\n      <td>196</td>\n      <td>More Than You Know</td>\n      <td>Axwell /\\ Ingrosso</td>\n      <td>2126</td>\n      <td>71bBFbfn2OBK5QwUJSLS44</td>\n      <td>2018-01-09</td>\n      <td>hk</td>\n    </tr>\n    <tr>\n      <th>3441193</th>\n      <td>197</td>\n      <td>Issues</td>\n      <td>Julia Michaels</td>\n      <td>2117</td>\n      <td>7vu0JkJh0ldukEYbTVcqd0</td>\n      <td>2018-01-09</td>\n      <td>hk</td>\n    </tr>\n    <tr>\n      <th>3441194</th>\n      <td>198</td>\n      <td>Tuo Fei Lun</td>\n      <td>Eason Chan</td>\n      <td>2112</td>\n      <td>0pmGleExiQyd0HxV5kAOwK</td>\n      <td>2018-01-09</td>\n      <td>hk</td>\n    </tr>\n    <tr>\n      <th>3441195</th>\n      <td>199</td>\n      <td>面具</td>\n      <td>Alfred Hui</td>\n      <td>2102</td>\n      <td>58SUsgamkW6vFFq0YNKGrf</td>\n      <td>2018-01-09</td>\n      <td>hk</td>\n    </tr>\n    <tr>\n      <th>3441196</th>\n      <td>200</td>\n      <td>Let Her Go</td>\n      <td>Passenger</td>\n      <td>2088</td>\n      <td>2jyjhRf6DVbMPU5zxagN2h</td>\n      <td>2018-01-09</td>\n      <td>hk</td>\n    </tr>\n  </tbody>\n</table>\n<p>3441197 rows × 7 columns</p>\n</div>"
     },
     "metadata": {},
     "execution_count": 3
    }
   ],
   "source": [
    "#import data\n",
    "#https://www.kaggle.com/edumucelli/spotifys-worldwide-daily-song-ranking from user 'Eduardo'\n",
    "df = pd.read_csv('data.csv')\n",
    "\n",
    "#fix column names\n",
    "colname_new = []\n",
    "for col in df.columns:\n",
    "    colname_new.append(col.lower().replace(' ','_'))\n",
    "df.columns = colname_new\n",
    "\n",
    "#extract id from url and rename col\n",
    "df['url'] = df['url'].str[-22:]\n",
    "df = df.rename(columns={'url': 'id'})\n",
    "df"
   ]
  },
  {
   "cell_type": "code",
   "execution_count": 4,
   "metadata": {},
   "outputs": [
    {
     "output_type": "execute_result",
     "data": {
      "text/plain": "         position                               track_name            artist  \\\n3116643         1                                  Starboy        The Weeknd   \n3116644         2                                   Closer  The Chainsmokers   \n3116645         3                          Let Me Love You          DJ Snake   \n3116646         4  Rockabye (feat. Sean Paul & Anne-Marie)      Clean Bandit   \n3116647         5                                One Dance             Drake   \n...           ...                                      ...               ...   \n3190438       196                                 Delicate      Taylor Swift   \n3190439       197                              Look At Me!      XXXTENTACION   \n3190440       198                            The Scientist          Coldplay   \n3190441       199                         'Till I Collapse            Eminem   \n3190442       200     Feels Great (feat. Fetty Wap & CVBZ)       Cheat Codes   \n\n         streams                      id        date  region  \n3116643  3135625  5aAx2yezTd8zXrkmtKl66Z  2017-01-01  global  \n3116644  3015525  7BKLCZ1jbUBVqRi2FVlTVw  2017-01-01  global  \n3116645  2545384  4pdPtRcBmOSQDlJ3Fk945m  2017-01-01  global  \n3116646  2356604  5knuzwU65gJK7IF5yJsuaW  2017-01-01  global  \n3116647  2259887  1xznGGDReH1oQq0xzbwXa3  2017-01-01  global  \n...          ...                     ...         ...     ...  \n3190438   507893  6NFyWDv5CjfwuzoCkw47Xf  2018-01-09  global  \n3190439   505171  6eYxmK9fdL4hwLnXG2zY3s  2018-01-09  global  \n3190440   504066  75JFxkI2RXiU7L9VXzMkle  2018-01-09  global  \n3190441   501337  6yr8GiTHWvFfi4o6Q5ebdT  2018-01-09  global  \n3190442   500311  5uu28fUesZMl89lf9CLrgN  2018-01-09  global  \n\n[73800 rows x 7 columns]",
      "text/html": "<div>\n<style scoped>\n    .dataframe tbody tr th:only-of-type {\n        vertical-align: middle;\n    }\n\n    .dataframe tbody tr th {\n        vertical-align: top;\n    }\n\n    .dataframe thead th {\n        text-align: right;\n    }\n</style>\n<table border=\"1\" class=\"dataframe\">\n  <thead>\n    <tr style=\"text-align: right;\">\n      <th></th>\n      <th>position</th>\n      <th>track_name</th>\n      <th>artist</th>\n      <th>streams</th>\n      <th>id</th>\n      <th>date</th>\n      <th>region</th>\n    </tr>\n  </thead>\n  <tbody>\n    <tr>\n      <th>3116643</th>\n      <td>1</td>\n      <td>Starboy</td>\n      <td>The Weeknd</td>\n      <td>3135625</td>\n      <td>5aAx2yezTd8zXrkmtKl66Z</td>\n      <td>2017-01-01</td>\n      <td>global</td>\n    </tr>\n    <tr>\n      <th>3116644</th>\n      <td>2</td>\n      <td>Closer</td>\n      <td>The Chainsmokers</td>\n      <td>3015525</td>\n      <td>7BKLCZ1jbUBVqRi2FVlTVw</td>\n      <td>2017-01-01</td>\n      <td>global</td>\n    </tr>\n    <tr>\n      <th>3116645</th>\n      <td>3</td>\n      <td>Let Me Love You</td>\n      <td>DJ Snake</td>\n      <td>2545384</td>\n      <td>4pdPtRcBmOSQDlJ3Fk945m</td>\n      <td>2017-01-01</td>\n      <td>global</td>\n    </tr>\n    <tr>\n      <th>3116646</th>\n      <td>4</td>\n      <td>Rockabye (feat. Sean Paul &amp; Anne-Marie)</td>\n      <td>Clean Bandit</td>\n      <td>2356604</td>\n      <td>5knuzwU65gJK7IF5yJsuaW</td>\n      <td>2017-01-01</td>\n      <td>global</td>\n    </tr>\n    <tr>\n      <th>3116647</th>\n      <td>5</td>\n      <td>One Dance</td>\n      <td>Drake</td>\n      <td>2259887</td>\n      <td>1xznGGDReH1oQq0xzbwXa3</td>\n      <td>2017-01-01</td>\n      <td>global</td>\n    </tr>\n    <tr>\n      <th>...</th>\n      <td>...</td>\n      <td>...</td>\n      <td>...</td>\n      <td>...</td>\n      <td>...</td>\n      <td>...</td>\n      <td>...</td>\n    </tr>\n    <tr>\n      <th>3190438</th>\n      <td>196</td>\n      <td>Delicate</td>\n      <td>Taylor Swift</td>\n      <td>507893</td>\n      <td>6NFyWDv5CjfwuzoCkw47Xf</td>\n      <td>2018-01-09</td>\n      <td>global</td>\n    </tr>\n    <tr>\n      <th>3190439</th>\n      <td>197</td>\n      <td>Look At Me!</td>\n      <td>XXXTENTACION</td>\n      <td>505171</td>\n      <td>6eYxmK9fdL4hwLnXG2zY3s</td>\n      <td>2018-01-09</td>\n      <td>global</td>\n    </tr>\n    <tr>\n      <th>3190440</th>\n      <td>198</td>\n      <td>The Scientist</td>\n      <td>Coldplay</td>\n      <td>504066</td>\n      <td>75JFxkI2RXiU7L9VXzMkle</td>\n      <td>2018-01-09</td>\n      <td>global</td>\n    </tr>\n    <tr>\n      <th>3190441</th>\n      <td>199</td>\n      <td>'Till I Collapse</td>\n      <td>Eminem</td>\n      <td>501337</td>\n      <td>6yr8GiTHWvFfi4o6Q5ebdT</td>\n      <td>2018-01-09</td>\n      <td>global</td>\n    </tr>\n    <tr>\n      <th>3190442</th>\n      <td>200</td>\n      <td>Feels Great (feat. Fetty Wap &amp; CVBZ)</td>\n      <td>Cheat Codes</td>\n      <td>500311</td>\n      <td>5uu28fUesZMl89lf9CLrgN</td>\n      <td>2018-01-09</td>\n      <td>global</td>\n    </tr>\n  </tbody>\n</table>\n<p>73800 rows × 7 columns</p>\n</div>"
     },
     "metadata": {},
     "execution_count": 4
    }
   ],
   "source": [
    "df[df['region'] == 'global']"
   ]
  },
  {
   "cell_type": "code",
   "execution_count": 96,
   "metadata": {
    "tags": []
   },
   "outputs": [
    {
     "output_type": "execute_result",
     "data": {
      "text/plain": [
       "            country code_2 code_3  Unnamed: 3\n",
       "0       Afghanistan     AF    AFG           4\n",
       "1           Albania     AL    ALB           8\n",
       "2           Algeria     DZ    DZA          12\n",
       "3    American Samoa     AS    ASM          16\n",
       "4           Andorra     AD    AND          20\n",
       "..              ...    ...    ...         ...\n",
       "244  Western Sahara     EH    ESH         732\n",
       "245           Yemen     YE    YEM         887\n",
       "246          Zambia     ZM    ZMB         894\n",
       "247        Zimbabwe     ZW    ZWE         716\n",
       "248   Åland Islands     AX    ALA         248\n",
       "\n",
       "[249 rows x 4 columns]"
      ],
      "text/html": "<div>\n<style scoped>\n    .dataframe tbody tr th:only-of-type {\n        vertical-align: middle;\n    }\n\n    .dataframe tbody tr th {\n        vertical-align: top;\n    }\n\n    .dataframe thead th {\n        text-align: right;\n    }\n</style>\n<table border=\"1\" class=\"dataframe\">\n  <thead>\n    <tr style=\"text-align: right;\">\n      <th></th>\n      <th>country</th>\n      <th>code_2</th>\n      <th>code_3</th>\n      <th>Unnamed: 3</th>\n    </tr>\n  </thead>\n  <tbody>\n    <tr>\n      <th>0</th>\n      <td>Afghanistan</td>\n      <td>AF</td>\n      <td>AFG</td>\n      <td>4</td>\n    </tr>\n    <tr>\n      <th>1</th>\n      <td>Albania</td>\n      <td>AL</td>\n      <td>ALB</td>\n      <td>8</td>\n    </tr>\n    <tr>\n      <th>2</th>\n      <td>Algeria</td>\n      <td>DZ</td>\n      <td>DZA</td>\n      <td>12</td>\n    </tr>\n    <tr>\n      <th>3</th>\n      <td>American Samoa</td>\n      <td>AS</td>\n      <td>ASM</td>\n      <td>16</td>\n    </tr>\n    <tr>\n      <th>4</th>\n      <td>Andorra</td>\n      <td>AD</td>\n      <td>AND</td>\n      <td>20</td>\n    </tr>\n    <tr>\n      <th>...</th>\n      <td>...</td>\n      <td>...</td>\n      <td>...</td>\n      <td>...</td>\n    </tr>\n    <tr>\n      <th>244</th>\n      <td>Western Sahara</td>\n      <td>EH</td>\n      <td>ESH</td>\n      <td>732</td>\n    </tr>\n    <tr>\n      <th>245</th>\n      <td>Yemen</td>\n      <td>YE</td>\n      <td>YEM</td>\n      <td>887</td>\n    </tr>\n    <tr>\n      <th>246</th>\n      <td>Zambia</td>\n      <td>ZM</td>\n      <td>ZMB</td>\n      <td>894</td>\n    </tr>\n    <tr>\n      <th>247</th>\n      <td>Zimbabwe</td>\n      <td>ZW</td>\n      <td>ZWE</td>\n      <td>716</td>\n    </tr>\n    <tr>\n      <th>248</th>\n      <td>Åland Islands</td>\n      <td>AX</td>\n      <td>ALA</td>\n      <td>248</td>\n    </tr>\n  </tbody>\n</table>\n<p>249 rows × 4 columns</p>\n</div>"
     },
     "metadata": {},
     "execution_count": 96
    }
   ],
   "source": [
    "#need to convert country codes from ISO 2 to ISO 3 to use chloropleth map\n",
    "codes = pd.read_csv('country_codes.csv')\n",
    "codes"
   ]
  },
  {
   "cell_type": "code",
   "execution_count": 7,
   "metadata": {},
   "outputs": [
    {
     "output_type": "execute_result",
     "data": {
      "text/plain": "         position                  track_name              artist  streams  \\\n0               1  Reggaetón Lento (Bailemos)                CNCO    19272   \n1               2                    Chantaje             Shakira    19270   \n2               3   Otra Vez (feat. J Balvin)       Zion & Lennox    15761   \n3               4                Vente Pa' Ca        Ricky Martin    14954   \n4               5                      Safari            J Balvin    14269   \n...           ...                         ...                 ...      ...   \n3441192       196          More Than You Know  Axwell /\\ Ingrosso     2126   \n3441193       197                      Issues      Julia Michaels     2117   \n3441194       198                 Tuo Fei Lun          Eason Chan     2112   \n3441195       199                          面具          Alfred Hui     2102   \n3441196       200                  Let Her Go           Passenger     2088   \n\n                             id        date region  \n0        3AEZUABDXNtecAOSC1qTfo  2017-01-01    ECU  \n1        6mICuAdrwEjh6Y6lroV2Kg  2017-01-01    ECU  \n2        3QwBODjSEzelZyVjxPOHdq  2017-01-01    ECU  \n3        7DM4BPaS7uofFul3ywMe46  2017-01-01    ECU  \n4        6rQSrBHf7HlZjtcMZ4S4bO  2017-01-01    ECU  \n...                         ...         ...    ...  \n3441192  71bBFbfn2OBK5QwUJSLS44  2018-01-09    HKG  \n3441193  7vu0JkJh0ldukEYbTVcqd0  2018-01-09    HKG  \n3441194  0pmGleExiQyd0HxV5kAOwK  2018-01-09    HKG  \n3441195  58SUsgamkW6vFFq0YNKGrf  2018-01-09    HKG  \n3441196  2jyjhRf6DVbMPU5zxagN2h  2018-01-09    HKG  \n\n[3441197 rows x 7 columns]",
      "text/html": "<div>\n<style scoped>\n    .dataframe tbody tr th:only-of-type {\n        vertical-align: middle;\n    }\n\n    .dataframe tbody tr th {\n        vertical-align: top;\n    }\n\n    .dataframe thead th {\n        text-align: right;\n    }\n</style>\n<table border=\"1\" class=\"dataframe\">\n  <thead>\n    <tr style=\"text-align: right;\">\n      <th></th>\n      <th>position</th>\n      <th>track_name</th>\n      <th>artist</th>\n      <th>streams</th>\n      <th>id</th>\n      <th>date</th>\n      <th>region</th>\n    </tr>\n  </thead>\n  <tbody>\n    <tr>\n      <th>0</th>\n      <td>1</td>\n      <td>Reggaetón Lento (Bailemos)</td>\n      <td>CNCO</td>\n      <td>19272</td>\n      <td>3AEZUABDXNtecAOSC1qTfo</td>\n      <td>2017-01-01</td>\n      <td>ECU</td>\n    </tr>\n    <tr>\n      <th>1</th>\n      <td>2</td>\n      <td>Chantaje</td>\n      <td>Shakira</td>\n      <td>19270</td>\n      <td>6mICuAdrwEjh6Y6lroV2Kg</td>\n      <td>2017-01-01</td>\n      <td>ECU</td>\n    </tr>\n    <tr>\n      <th>2</th>\n      <td>3</td>\n      <td>Otra Vez (feat. J Balvin)</td>\n      <td>Zion &amp; Lennox</td>\n      <td>15761</td>\n      <td>3QwBODjSEzelZyVjxPOHdq</td>\n      <td>2017-01-01</td>\n      <td>ECU</td>\n    </tr>\n    <tr>\n      <th>3</th>\n      <td>4</td>\n      <td>Vente Pa' Ca</td>\n      <td>Ricky Martin</td>\n      <td>14954</td>\n      <td>7DM4BPaS7uofFul3ywMe46</td>\n      <td>2017-01-01</td>\n      <td>ECU</td>\n    </tr>\n    <tr>\n      <th>4</th>\n      <td>5</td>\n      <td>Safari</td>\n      <td>J Balvin</td>\n      <td>14269</td>\n      <td>6rQSrBHf7HlZjtcMZ4S4bO</td>\n      <td>2017-01-01</td>\n      <td>ECU</td>\n    </tr>\n    <tr>\n      <th>...</th>\n      <td>...</td>\n      <td>...</td>\n      <td>...</td>\n      <td>...</td>\n      <td>...</td>\n      <td>...</td>\n      <td>...</td>\n    </tr>\n    <tr>\n      <th>3441192</th>\n      <td>196</td>\n      <td>More Than You Know</td>\n      <td>Axwell /\\ Ingrosso</td>\n      <td>2126</td>\n      <td>71bBFbfn2OBK5QwUJSLS44</td>\n      <td>2018-01-09</td>\n      <td>HKG</td>\n    </tr>\n    <tr>\n      <th>3441193</th>\n      <td>197</td>\n      <td>Issues</td>\n      <td>Julia Michaels</td>\n      <td>2117</td>\n      <td>7vu0JkJh0ldukEYbTVcqd0</td>\n      <td>2018-01-09</td>\n      <td>HKG</td>\n    </tr>\n    <tr>\n      <th>3441194</th>\n      <td>198</td>\n      <td>Tuo Fei Lun</td>\n      <td>Eason Chan</td>\n      <td>2112</td>\n      <td>0pmGleExiQyd0HxV5kAOwK</td>\n      <td>2018-01-09</td>\n      <td>HKG</td>\n    </tr>\n    <tr>\n      <th>3441195</th>\n      <td>199</td>\n      <td>面具</td>\n      <td>Alfred Hui</td>\n      <td>2102</td>\n      <td>58SUsgamkW6vFFq0YNKGrf</td>\n      <td>2018-01-09</td>\n      <td>HKG</td>\n    </tr>\n    <tr>\n      <th>3441196</th>\n      <td>200</td>\n      <td>Let Her Go</td>\n      <td>Passenger</td>\n      <td>2088</td>\n      <td>2jyjhRf6DVbMPU5zxagN2h</td>\n      <td>2018-01-09</td>\n      <td>HKG</td>\n    </tr>\n  </tbody>\n</table>\n<p>3441197 rows × 7 columns</p>\n</div>"
     },
     "metadata": {},
     "execution_count": 7
    }
   ],
   "source": [
    "#convert regions into ISO 3\n",
    "df.region = df.region.str.upper()\n",
    "df_global = df[df['region'] == 'GLOBAL']\n",
    "df = df.merge(codes[['code_2','code_3']],left_on='region',right_on='code_2',how='left').drop(['region','code_2'],axis=1)\n",
    "#df['code_3'] '\n",
    "df = df.rename(columns={'code_3' : 'region'})\n",
    "df"
   ]
  },
  {
   "cell_type": "code",
   "execution_count": 18,
   "metadata": {},
   "outputs": [],
   "source": [
    "#remove global/missing songs (separate df for global)\n",
    "df = df.drop(df[df['region'].isna()].index)\n",
    "df = df.dropna()"
   ]
  },
  {
   "cell_type": "code",
   "execution_count": null,
   "metadata": {},
   "outputs": [],
   "source": [
    "#add artist nationalities to df\n",
    "artist_loc = pd.read_csv('artist-locations.csv')\n",
    "df = df.merge(artist_loc,left_on='artist',right_on='artist').rename(columns={'country' : 'nationality'})\n",
    "\n",
    "#create df containing a nationality (index) and how popular its artists are in each other region (columns)\n",
    "artist_weightings_df = pd.DataFrame(index=df['nationality'].unique())\n",
    "for nat in df['nationality'].unique():\n",
    "   artist_weightings_df[nat] = df[df['nationality'] == nat][['region','streams']].groupby('region').sum()\n",
    "artist_weightings_df.to_csv('artist_weightings.csv',index=True)\n"
   ]
  },
  {
   "cell_type": "code",
   "execution_count": 20,
   "metadata": {},
   "outputs": [],
   "source": [
    "#save to csvs\n",
    "df.to_csv('data_clean.csv',index=False)\n",
    "df_global.to_csv('data_global.csv',index=False)"
   ]
  },
  {
   "cell_type": "code",
   "execution_count": 38,
   "metadata": {},
   "outputs": [],
   "source": [
    "#3441197 #df\n",
    "#3367397 #removed nans\n",
    "#3441197 - 3367397 == 73800 #total removals expected"
   ]
  },
  {
   "cell_type": "code",
   "execution_count": 2,
   "metadata": {},
   "outputs": [],
   "source": [
    "df = pd.read_csv('data_clean.csv')\n",
    "df2 = pd.read_csv('spotify-data/data.csv')"
   ]
  },
  {
   "cell_type": "code",
   "execution_count": 102,
   "metadata": {},
   "outputs": [
    {
     "output_type": "execute_result",
     "data": {
      "text/plain": "5CtI0qwDJkDQGwXD1H1cLb    5076\n0ofbQMrRDsUaVKq2mGLEAb    3512\n4aWmUDTfIPGksMNLV2rQP2    3338\n2rb5MvYT7ZIxbKW5hfcHx8    3305\n3eR23VReFzcdmS7TYCrhCe    3107\n                          ... \n0RBLY1OUdwvaTgFZhULRnG       1\n4QOTOTJsJjgrAf0BgnfaRF       1\n5Sg8ZU4sLqsTOEd8PuGmvv       1\n2UYG331lOP6amEWplE7eno       1\n5uMkdWf1H6JEcpcdnPOSZM       1\nName: id, Length: 1282, dtype: int64"
     },
     "metadata": {},
     "execution_count": 102
    }
   ],
   "source": [
    "#how many top 10 songs are NOT in the original df (df2)\n",
    "df_top10 = df[df['position'] <= 10]\n",
    "df_top10[[not x for x in df_top10['id'].isin(df2['id'])]]['id'].value_counts()\n"
   ]
  },
  {
   "cell_type": "code",
   "execution_count": 97,
   "metadata": {},
   "outputs": [
    {
     "output_type": "execute_result",
     "data": {
      "text/plain": "2036"
     },
     "metadata": {},
     "execution_count": 97
    }
   ],
   "source": [
    "len(df['id'].value_counts()) - len(df_top10[[not x for x in df_top10['id'].isin(df2['id'])]]['id'].value_counts())\n"
   ]
  },
  {
   "cell_type": "code",
   "execution_count": 79,
   "metadata": {
    "tags": []
   },
   "outputs": [
    {
     "output_type": "execute_result",
     "data": {
      "text/plain": "7qiZfU4dY1lWllzX7mPBI3    19001\n4aWmUDTfIPGksMNLV2rQP2    15928\n6RUKPb4LETWmmr3iAEQktW    15878\n5knuzwU65gJK7IF5yJsuaW    15816\n3NdDpSvN911VPGivFlV5d0    15082\n                          ...  \n5UTkoeLEHv0zPy6XtKsCZK        1\n2UheWm8tYwjkkeEBqJDMd2        1\n2P4OICZRVAQcYAV2JReRfj        1\n2Qoz5ApumwSHeSL0GFEfUT        1\n3SR45x3OBpDUMNnizoZgOZ        1\nName: id, Length: 21746, dtype: int64"
     },
     "metadata": {},
     "execution_count": 79
    }
   ],
   "source": [
    "df['track_name'].value_counts()\n",
    "df['id'].value_counts()\n",
    "\n",
    "#len(set(df['track_name']))"
   ]
  },
  {
   "cell_type": "code",
   "execution_count": 123,
   "metadata": {},
   "outputs": [
    {
     "output_type": "execute_result",
     "data": {
      "text/plain": "        acousticness                                            artists  \\\n7754          0.0447                     [&#39;YoungBoy Never Broke Again&#39;]   \n7755          0.1350                                    [&#39;Sky Fall SF&#39;]   \n7756          0.7520                                         [&#39;chief.&#39;]   \n7757          0.0884              [&#39;Nicki Minaj&#39;, &#39;Drake&#39;, &#39;Lil Wayne&#39;]   \n7758          0.0142                                     [&#39;amazarashi&#39;]   \n...              ...                                                ...   \n169604        0.4040                                             [&#39;NF&#39;]   \n169605        0.1640                                [&#39;Greta Van Fleet&#39;]   \n169606        0.1850                                           [&#39;Ramz&#39;]   \n169607        0.6890  [&#39;Rain Sounds&#39;, &#39;Mindfulness Meditation Music ...   \n169608        0.0137                                   [&#39;BROCKHAMPTON&#39;]   \n\n        danceability  duration_ms  energy  explicit                      id  \\\n7754           0.780       180706   0.784         1  4MofYf0f4ijlVV6elUW5S3   \n7755           0.190       209938   0.635         0  03E06FTE8LrhTfdOfDBb2q   \n7756           0.548        77922   0.302         0  6gyYI35SD576xiwstBIX7Y   \n7757           0.867       272453   0.558         1  7KcGEssn7BnJdTgildK5y0   \n7758           0.594       217627   0.951         0  6wZcefZGc6vrd3zLCQoOYe   \n...              ...          ...     ...       ...                     ...   \n169604         0.797       239480   0.715         0  5n4ZzdO7KtpxsDpoDTa3D6   \n169605         0.362       234600   0.928         0  1BfR5GMOgW0peHkPxrwf11   \n169606         0.450       202827   0.465         0  2U5cq89GCnsR1yixKkC8d5   \n169607         0.290       130901   0.997         0  7wOv2XP17ZZHzEWoBmbi9t   \n169608         0.604       193155   0.933         1  3NuN59jpH3B5cNa2M4r7XG   \n\n        instrumentalness  key  liveness  loudness  mode                  name  \\\n7754            0.000000    1    0.1220    -5.039     1           Untouchable   \n7755            0.995000   10    0.5510   -16.847     1  Rain Sounds: Raining   \n7756            0.893000   10    0.3140   -12.869     1                 sorry   \n7757            0.000004    1    0.5410    -6.975     1             No Frauds   \n7758            0.000001    6    0.0965    -1.339     0        Sora Ni Utaeba   \n...                  ...  ...       ...       ...   ...                   ...   \n169604          0.000000   10    0.0891    -6.054     0               Destiny   \n169605          0.000016    2    0.3150    -4.015     1           Safari Song   \n169606          0.000000    7    0.0782    -7.867     0               Barking   \n169607          0.962000    1    0.9130   -22.985     0        Awakening Rain   \n169608          0.000000    1    0.3700    -3.034     1                BOOGIE   \n\n        popularity release_date  speechiness    tempo  valence  year  \n7754            60   2017-05-31       0.1860   85.023  0.43000  2017  \n7755            64   2017-05-05       0.0669   91.361  0.00001  2017  \n7756            65   2017-12-08       0.1200  127.159  0.54600  2017  \n7757            64   2017-03-10       0.2580  139.061  0.43200  2017  \n7758            66   2017-12-13       0.0696  102.040  0.64100  2017  \n...            ...          ...          ...      ...      ...   ...  \n169604          63   2017-10-06       0.2330  112.044  0.24300  2017  \n169605          64   2017-11-10       0.0503  175.868  0.67800  2017  \n169606          71   2017-12-01       0.2680   70.231  0.78800  2017  \n169607          65   2017-10-15       0.0492   78.730  0.00447  2017  \n169608          64   2017-12-15       0.2140  110.029  0.28000  2017  \n\n[2000 rows x 19 columns]",
      "text/html": "<div>\n<style scoped>\n    .dataframe tbody tr th:only-of-type {\n        vertical-align: middle;\n    }\n\n    .dataframe tbody tr th {\n        vertical-align: top;\n    }\n\n    .dataframe thead th {\n        text-align: right;\n    }\n</style>\n<table border=\"1\" class=\"dataframe\">\n  <thead>\n    <tr style=\"text-align: right;\">\n      <th></th>\n      <th>acousticness</th>\n      <th>artists</th>\n      <th>danceability</th>\n      <th>duration_ms</th>\n      <th>energy</th>\n      <th>explicit</th>\n      <th>id</th>\n      <th>instrumentalness</th>\n      <th>key</th>\n      <th>liveness</th>\n      <th>loudness</th>\n      <th>mode</th>\n      <th>name</th>\n      <th>popularity</th>\n      <th>release_date</th>\n      <th>speechiness</th>\n      <th>tempo</th>\n      <th>valence</th>\n      <th>year</th>\n    </tr>\n  </thead>\n  <tbody>\n    <tr>\n      <th>7754</th>\n      <td>0.0447</td>\n      <td>['YoungBoy Never Broke Again']</td>\n      <td>0.780</td>\n      <td>180706</td>\n      <td>0.784</td>\n      <td>1</td>\n      <td>4MofYf0f4ijlVV6elUW5S3</td>\n      <td>0.000000</td>\n      <td>1</td>\n      <td>0.1220</td>\n      <td>-5.039</td>\n      <td>1</td>\n      <td>Untouchable</td>\n      <td>60</td>\n      <td>2017-05-31</td>\n      <td>0.1860</td>\n      <td>85.023</td>\n      <td>0.43000</td>\n      <td>2017</td>\n    </tr>\n    <tr>\n      <th>7755</th>\n      <td>0.1350</td>\n      <td>['Sky Fall SF']</td>\n      <td>0.190</td>\n      <td>209938</td>\n      <td>0.635</td>\n      <td>0</td>\n      <td>03E06FTE8LrhTfdOfDBb2q</td>\n      <td>0.995000</td>\n      <td>10</td>\n      <td>0.5510</td>\n      <td>-16.847</td>\n      <td>1</td>\n      <td>Rain Sounds: Raining</td>\n      <td>64</td>\n      <td>2017-05-05</td>\n      <td>0.0669</td>\n      <td>91.361</td>\n      <td>0.00001</td>\n      <td>2017</td>\n    </tr>\n    <tr>\n      <th>7756</th>\n      <td>0.7520</td>\n      <td>['chief.']</td>\n      <td>0.548</td>\n      <td>77922</td>\n      <td>0.302</td>\n      <td>0</td>\n      <td>6gyYI35SD576xiwstBIX7Y</td>\n      <td>0.893000</td>\n      <td>10</td>\n      <td>0.3140</td>\n      <td>-12.869</td>\n      <td>1</td>\n      <td>sorry</td>\n      <td>65</td>\n      <td>2017-12-08</td>\n      <td>0.1200</td>\n      <td>127.159</td>\n      <td>0.54600</td>\n      <td>2017</td>\n    </tr>\n    <tr>\n      <th>7757</th>\n      <td>0.0884</td>\n      <td>['Nicki Minaj', 'Drake', 'Lil Wayne']</td>\n      <td>0.867</td>\n      <td>272453</td>\n      <td>0.558</td>\n      <td>1</td>\n      <td>7KcGEssn7BnJdTgildK5y0</td>\n      <td>0.000004</td>\n      <td>1</td>\n      <td>0.5410</td>\n      <td>-6.975</td>\n      <td>1</td>\n      <td>No Frauds</td>\n      <td>64</td>\n      <td>2017-03-10</td>\n      <td>0.2580</td>\n      <td>139.061</td>\n      <td>0.43200</td>\n      <td>2017</td>\n    </tr>\n    <tr>\n      <th>7758</th>\n      <td>0.0142</td>\n      <td>['amazarashi']</td>\n      <td>0.594</td>\n      <td>217627</td>\n      <td>0.951</td>\n      <td>0</td>\n      <td>6wZcefZGc6vrd3zLCQoOYe</td>\n      <td>0.000001</td>\n      <td>6</td>\n      <td>0.0965</td>\n      <td>-1.339</td>\n      <td>0</td>\n      <td>Sora Ni Utaeba</td>\n      <td>66</td>\n      <td>2017-12-13</td>\n      <td>0.0696</td>\n      <td>102.040</td>\n      <td>0.64100</td>\n      <td>2017</td>\n    </tr>\n    <tr>\n      <th>...</th>\n      <td>...</td>\n      <td>...</td>\n      <td>...</td>\n      <td>...</td>\n      <td>...</td>\n      <td>...</td>\n      <td>...</td>\n      <td>...</td>\n      <td>...</td>\n      <td>...</td>\n      <td>...</td>\n      <td>...</td>\n      <td>...</td>\n      <td>...</td>\n      <td>...</td>\n      <td>...</td>\n      <td>...</td>\n      <td>...</td>\n      <td>...</td>\n    </tr>\n    <tr>\n      <th>169604</th>\n      <td>0.4040</td>\n      <td>['NF']</td>\n      <td>0.797</td>\n      <td>239480</td>\n      <td>0.715</td>\n      <td>0</td>\n      <td>5n4ZzdO7KtpxsDpoDTa3D6</td>\n      <td>0.000000</td>\n      <td>10</td>\n      <td>0.0891</td>\n      <td>-6.054</td>\n      <td>0</td>\n      <td>Destiny</td>\n      <td>63</td>\n      <td>2017-10-06</td>\n      <td>0.2330</td>\n      <td>112.044</td>\n      <td>0.24300</td>\n      <td>2017</td>\n    </tr>\n    <tr>\n      <th>169605</th>\n      <td>0.1640</td>\n      <td>['Greta Van Fleet']</td>\n      <td>0.362</td>\n      <td>234600</td>\n      <td>0.928</td>\n      <td>0</td>\n      <td>1BfR5GMOgW0peHkPxrwf11</td>\n      <td>0.000016</td>\n      <td>2</td>\n      <td>0.3150</td>\n      <td>-4.015</td>\n      <td>1</td>\n      <td>Safari Song</td>\n      <td>64</td>\n      <td>2017-11-10</td>\n      <td>0.0503</td>\n      <td>175.868</td>\n      <td>0.67800</td>\n      <td>2017</td>\n    </tr>\n    <tr>\n      <th>169606</th>\n      <td>0.1850</td>\n      <td>['Ramz']</td>\n      <td>0.450</td>\n      <td>202827</td>\n      <td>0.465</td>\n      <td>0</td>\n      <td>2U5cq89GCnsR1yixKkC8d5</td>\n      <td>0.000000</td>\n      <td>7</td>\n      <td>0.0782</td>\n      <td>-7.867</td>\n      <td>0</td>\n      <td>Barking</td>\n      <td>71</td>\n      <td>2017-12-01</td>\n      <td>0.2680</td>\n      <td>70.231</td>\n      <td>0.78800</td>\n      <td>2017</td>\n    </tr>\n    <tr>\n      <th>169607</th>\n      <td>0.6890</td>\n      <td>['Rain Sounds', 'Mindfulness Meditation Music ...</td>\n      <td>0.290</td>\n      <td>130901</td>\n      <td>0.997</td>\n      <td>0</td>\n      <td>7wOv2XP17ZZHzEWoBmbi9t</td>\n      <td>0.962000</td>\n      <td>1</td>\n      <td>0.9130</td>\n      <td>-22.985</td>\n      <td>0</td>\n      <td>Awakening Rain</td>\n      <td>65</td>\n      <td>2017-10-15</td>\n      <td>0.0492</td>\n      <td>78.730</td>\n      <td>0.00447</td>\n      <td>2017</td>\n    </tr>\n    <tr>\n      <th>169608</th>\n      <td>0.0137</td>\n      <td>['BROCKHAMPTON']</td>\n      <td>0.604</td>\n      <td>193155</td>\n      <td>0.933</td>\n      <td>1</td>\n      <td>3NuN59jpH3B5cNa2M4r7XG</td>\n      <td>0.000000</td>\n      <td>1</td>\n      <td>0.3700</td>\n      <td>-3.034</td>\n      <td>1</td>\n      <td>BOOGIE</td>\n      <td>64</td>\n      <td>2017-12-15</td>\n      <td>0.2140</td>\n      <td>110.029</td>\n      <td>0.28000</td>\n      <td>2017</td>\n    </tr>\n  </tbody>\n</table>\n<p>2000 rows × 19 columns</p>\n</div>"
     },
     "metadata": {},
     "execution_count": 123
    }
   ],
   "source": [
    "df2[df2['year'] == 2017]"
   ]
  },
  {
   "cell_type": "code",
   "execution_count": 122,
   "metadata": {},
   "outputs": [
    {
     "output_type": "execute_result",
     "data": {
      "text/plain": "        acousticness                          artists  danceability  \\\n2381         0.88500                 [&#39;The Crystals&#39;]         0.418   \n5517         0.36700                 [&#39;Mariah Carey&#39;]         0.362   \n5747         0.00158                 [&#39;Robert Miles&#39;]         0.621   \n5847         0.30500            [&#39;Five For Fighting&#39;]         0.523   \n6058         0.12200                   [&#39;Steve Chou&#39;]         0.501   \n...              ...                              ...           ...   \n169592       0.00430                 [&#39;Lil Uzi Vert&#39;]         0.623   \n169596       0.48400                [&#39;Vince Staples&#39;]         0.898   \n169597       0.04380                    [&#39;21 Savage&#39;]         0.839   \n169603       0.51000  [&#39;Tyler, The Creator&#39;, &#39;Jaden&#39;]         0.543   \n169608       0.01370                 [&#39;BROCKHAMPTON&#39;]         0.604   \n\n        duration_ms  energy  explicit                      id  \\\n2381         204000   0.831         0  2lT2w8qVNDUAzrdO4yCdxE   \n5517         266933   0.505         0  3B7FO3kJ5kv3mX7yiaB7sT   \n5747         453400   0.648         0  4d6HyxARNCeUEw3sDntLb5   \n5847         222160   0.464         0  3FvCy00Wz75HmhlXPMmnOx   \n6058         344200   0.511         0  4mronxcllhfyhBRqyZi8kU   \n...             ...     ...       ...                     ...   \n169592       173798   0.580         1  5tRmoZRoupvMYPV1oezFrH   \n169596       198133   0.547         0  6eL1ncVDtQHgSm3E288TS7   \n169597       271307   0.437         1  1vc2YF7ZvUtwr45HNpdGch   \n169603       237000   0.572         1  5SxlUF7J8tyFIEF22EomeP   \n169608       193155   0.933         1  3NuN59jpH3B5cNa2M4r7XG   \n\n        instrumentalness  key  liveness  loudness  mode  \\\n2381            0.001880    7    0.3450    -7.462     1   \n5517            0.000006    4    0.1540    -7.208     1   \n5747            0.824000    0    0.0532   -11.787     1   \n5847            0.000000    0    0.0992    -8.912     1   \n6058            0.000000    7    0.2790    -9.836     0   \n...                  ...  ...       ...       ...   ...   \n169592          0.000000    8    0.3940    -7.076     1   \n169596          0.000010    3    0.3700    -5.707     0   \n169597          0.000003    5    0.1310   -11.344     0   \n169603          0.000007   11    0.2800    -8.974     1   \n169608          0.000000    1    0.3700    -3.034     1   \n\n                                 name  popularity release_date  speechiness  \\\n2381    Santa Claus Is Coming to Town          22         1963       0.0870   \n5517                     O Holy Night          43   1994-11-01       0.0287   \n5747           Children - Full Length          50   1996-07-11       0.0358   \n5847         Superman (It&#39;s Not Easy)          36         1997       0.0288   \n6058                               黃昏          53   2000-12-25       0.0291   \n...                               ...         ...          ...          ...   \n169592                              X          61   2017-08-25       0.3320   \n169596                       Big Fish          62   2017-06-23       0.3130   \n169597                           Numb          63   2017-09-23       0.2850   \n169603    Pothole (feat. Jaden Smith)          63   2017-07-21       0.3380   \n169608                         BOOGIE          64   2017-12-15       0.2140   \n\n          tempo  valence  year  \n2381     77.934    0.254  1963  \n5517    174.066    0.192  1994  \n5747    137.070    0.213  1996  \n5847    106.547    0.176  1997  \n6058     78.045    0.113  2000  \n...         ...      ...   ...  \n169592  163.159    0.301  2017  \n169596  100.010    0.763  2017  \n169597   82.008    0.464  2017  \n169603   89.386    0.569  2017  \n169608  110.029    0.280  2017  \n\n[2036 rows x 19 columns]",
      "text/html": "<div>\n<style scoped>\n    .dataframe tbody tr th:only-of-type {\n        vertical-align: middle;\n    }\n\n    .dataframe tbody tr th {\n        vertical-align: top;\n    }\n\n    .dataframe thead th {\n        text-align: right;\n    }\n</style>\n<table border=\"1\" class=\"dataframe\">\n  <thead>\n    <tr style=\"text-align: right;\">\n      <th></th>\n      <th>acousticness</th>\n      <th>artists</th>\n      <th>danceability</th>\n      <th>duration_ms</th>\n      <th>energy</th>\n      <th>explicit</th>\n      <th>id</th>\n      <th>instrumentalness</th>\n      <th>key</th>\n      <th>liveness</th>\n      <th>loudness</th>\n      <th>mode</th>\n      <th>name</th>\n      <th>popularity</th>\n      <th>release_date</th>\n      <th>speechiness</th>\n      <th>tempo</th>\n      <th>valence</th>\n      <th>year</th>\n    </tr>\n  </thead>\n  <tbody>\n    <tr>\n      <th>2381</th>\n      <td>0.88500</td>\n      <td>['The Crystals']</td>\n      <td>0.418</td>\n      <td>204000</td>\n      <td>0.831</td>\n      <td>0</td>\n      <td>2lT2w8qVNDUAzrdO4yCdxE</td>\n      <td>0.001880</td>\n      <td>7</td>\n      <td>0.3450</td>\n      <td>-7.462</td>\n      <td>1</td>\n      <td>Santa Claus Is Coming to Town</td>\n      <td>22</td>\n      <td>1963</td>\n      <td>0.0870</td>\n      <td>77.934</td>\n      <td>0.254</td>\n      <td>1963</td>\n    </tr>\n    <tr>\n      <th>5517</th>\n      <td>0.36700</td>\n      <td>['Mariah Carey']</td>\n      <td>0.362</td>\n      <td>266933</td>\n      <td>0.505</td>\n      <td>0</td>\n      <td>3B7FO3kJ5kv3mX7yiaB7sT</td>\n      <td>0.000006</td>\n      <td>4</td>\n      <td>0.1540</td>\n      <td>-7.208</td>\n      <td>1</td>\n      <td>O Holy Night</td>\n      <td>43</td>\n      <td>1994-11-01</td>\n      <td>0.0287</td>\n      <td>174.066</td>\n      <td>0.192</td>\n      <td>1994</td>\n    </tr>\n    <tr>\n      <th>5747</th>\n      <td>0.00158</td>\n      <td>['Robert Miles']</td>\n      <td>0.621</td>\n      <td>453400</td>\n      <td>0.648</td>\n      <td>0</td>\n      <td>4d6HyxARNCeUEw3sDntLb5</td>\n      <td>0.824000</td>\n      <td>0</td>\n      <td>0.0532</td>\n      <td>-11.787</td>\n      <td>1</td>\n      <td>Children - Full Length</td>\n      <td>50</td>\n      <td>1996-07-11</td>\n      <td>0.0358</td>\n      <td>137.070</td>\n      <td>0.213</td>\n      <td>1996</td>\n    </tr>\n    <tr>\n      <th>5847</th>\n      <td>0.30500</td>\n      <td>['Five For Fighting']</td>\n      <td>0.523</td>\n      <td>222160</td>\n      <td>0.464</td>\n      <td>0</td>\n      <td>3FvCy00Wz75HmhlXPMmnOx</td>\n      <td>0.000000</td>\n      <td>0</td>\n      <td>0.0992</td>\n      <td>-8.912</td>\n      <td>1</td>\n      <td>Superman (It's Not Easy)</td>\n      <td>36</td>\n      <td>1997</td>\n      <td>0.0288</td>\n      <td>106.547</td>\n      <td>0.176</td>\n      <td>1997</td>\n    </tr>\n    <tr>\n      <th>6058</th>\n      <td>0.12200</td>\n      <td>['Steve Chou']</td>\n      <td>0.501</td>\n      <td>344200</td>\n      <td>0.511</td>\n      <td>0</td>\n      <td>4mronxcllhfyhBRqyZi8kU</td>\n      <td>0.000000</td>\n      <td>7</td>\n      <td>0.2790</td>\n      <td>-9.836</td>\n      <td>0</td>\n      <td>黃昏</td>\n      <td>53</td>\n      <td>2000-12-25</td>\n      <td>0.0291</td>\n      <td>78.045</td>\n      <td>0.113</td>\n      <td>2000</td>\n    </tr>\n    <tr>\n      <th>...</th>\n      <td>...</td>\n      <td>...</td>\n      <td>...</td>\n      <td>...</td>\n      <td>...</td>\n      <td>...</td>\n      <td>...</td>\n      <td>...</td>\n      <td>...</td>\n      <td>...</td>\n      <td>...</td>\n      <td>...</td>\n      <td>...</td>\n      <td>...</td>\n      <td>...</td>\n      <td>...</td>\n      <td>...</td>\n      <td>...</td>\n      <td>...</td>\n    </tr>\n    <tr>\n      <th>169592</th>\n      <td>0.00430</td>\n      <td>['Lil Uzi Vert']</td>\n      <td>0.623</td>\n      <td>173798</td>\n      <td>0.580</td>\n      <td>1</td>\n      <td>5tRmoZRoupvMYPV1oezFrH</td>\n      <td>0.000000</td>\n      <td>8</td>\n      <td>0.3940</td>\n      <td>-7.076</td>\n      <td>1</td>\n      <td>X</td>\n      <td>61</td>\n      <td>2017-08-25</td>\n      <td>0.3320</td>\n      <td>163.159</td>\n      <td>0.301</td>\n      <td>2017</td>\n    </tr>\n    <tr>\n      <th>169596</th>\n      <td>0.48400</td>\n      <td>['Vince Staples']</td>\n      <td>0.898</td>\n      <td>198133</td>\n      <td>0.547</td>\n      <td>0</td>\n      <td>6eL1ncVDtQHgSm3E288TS7</td>\n      <td>0.000010</td>\n      <td>3</td>\n      <td>0.3700</td>\n      <td>-5.707</td>\n      <td>0</td>\n      <td>Big Fish</td>\n      <td>62</td>\n      <td>2017-06-23</td>\n      <td>0.3130</td>\n      <td>100.010</td>\n      <td>0.763</td>\n      <td>2017</td>\n    </tr>\n    <tr>\n      <th>169597</th>\n      <td>0.04380</td>\n      <td>['21 Savage']</td>\n      <td>0.839</td>\n      <td>271307</td>\n      <td>0.437</td>\n      <td>1</td>\n      <td>1vc2YF7ZvUtwr45HNpdGch</td>\n      <td>0.000003</td>\n      <td>5</td>\n      <td>0.1310</td>\n      <td>-11.344</td>\n      <td>0</td>\n      <td>Numb</td>\n      <td>63</td>\n      <td>2017-09-23</td>\n      <td>0.2850</td>\n      <td>82.008</td>\n      <td>0.464</td>\n      <td>2017</td>\n    </tr>\n    <tr>\n      <th>169603</th>\n      <td>0.51000</td>\n      <td>['Tyler, The Creator', 'Jaden']</td>\n      <td>0.543</td>\n      <td>237000</td>\n      <td>0.572</td>\n      <td>1</td>\n      <td>5SxlUF7J8tyFIEF22EomeP</td>\n      <td>0.000007</td>\n      <td>11</td>\n      <td>0.2800</td>\n      <td>-8.974</td>\n      <td>1</td>\n      <td>Pothole (feat. Jaden Smith)</td>\n      <td>63</td>\n      <td>2017-07-21</td>\n      <td>0.3380</td>\n      <td>89.386</td>\n      <td>0.569</td>\n      <td>2017</td>\n    </tr>\n    <tr>\n      <th>169608</th>\n      <td>0.01370</td>\n      <td>['BROCKHAMPTON']</td>\n      <td>0.604</td>\n      <td>193155</td>\n      <td>0.933</td>\n      <td>1</td>\n      <td>3NuN59jpH3B5cNa2M4r7XG</td>\n      <td>0.000000</td>\n      <td>1</td>\n      <td>0.3700</td>\n      <td>-3.034</td>\n      <td>1</td>\n      <td>BOOGIE</td>\n      <td>64</td>\n      <td>2017-12-15</td>\n      <td>0.2140</td>\n      <td>110.029</td>\n      <td>0.280</td>\n      <td>2017</td>\n    </tr>\n  </tbody>\n</table>\n<p>2036 rows × 19 columns</p>\n</div>"
     },
     "metadata": {},
     "execution_count": 122
    }
   ],
   "source": [
    "df2[df2['id'].isin(df['id'])]"
   ]
  },
  {
   "cell_type": "code",
   "execution_count": 23,
   "metadata": {},
   "outputs": [
    {
     "output_type": "execute_result",
     "data": {
      "text/plain": "&quot;[&#39;Carl Woitschach&#39;]&quot;"
     },
     "metadata": {},
     "execution_count": 23
    }
   ],
   "source": [
    "df2['artists'][0]"
   ]
  },
  {
   "cell_type": "code",
   "execution_count": 88,
   "metadata": {},
   "outputs": [
    {
     "output_type": "execute_result",
     "data": {
      "text/plain": "Empty DataFrame\nColumns: [acousticness, artists, danceability, duration_ms, energy, explicit, id, instrumentalness, key, liveness, loudness, mode, name, popularity, release_date, speechiness, tempo, valence, year]\nIndex: []",
      "text/html": "<div>\n<style scoped>\n    .dataframe tbody tr th:only-of-type {\n        vertical-align: middle;\n    }\n\n    .dataframe tbody tr th {\n        vertical-align: top;\n    }\n\n    .dataframe thead th {\n        text-align: right;\n    }\n</style>\n<table border=\"1\" class=\"dataframe\">\n  <thead>\n    <tr style=\"text-align: right;\">\n      <th></th>\n      <th>acousticness</th>\n      <th>artists</th>\n      <th>danceability</th>\n      <th>duration_ms</th>\n      <th>energy</th>\n      <th>explicit</th>\n      <th>id</th>\n      <th>instrumentalness</th>\n      <th>key</th>\n      <th>liveness</th>\n      <th>loudness</th>\n      <th>mode</th>\n      <th>name</th>\n      <th>popularity</th>\n      <th>release_date</th>\n      <th>speechiness</th>\n      <th>tempo</th>\n      <th>valence</th>\n      <th>year</th>\n    </tr>\n  </thead>\n  <tbody>\n  </tbody>\n</table>\n</div>"
     },
     "metadata": {},
     "execution_count": 88
    }
   ],
   "source": [
    "df2[df2['id'] == '5UEnHoDYpsxlfzWLZIc7LD']"
   ]
  },
  {
   "cell_type": "code",
   "execution_count": 107,
   "metadata": {
    "tags": []
   },
   "outputs": [
    {
     "output_type": "execute_result",
     "data": {
      "text/plain": "       position                  track_name            artist  streams  \\\n0             1  Reggaetón Lento (Bailemos)              CNCO    19272   \n1582          2                    Chantaje           Shakira    19270   \n3120          3   Otra Vez (feat. J Balvin)     Zion &amp; Lennox    15761   \n4920          4                Vente Pa&#39; Ca      Ricky Martin    14954   \n5340          8                      Closer  The Chainsmokers     9244   \n...         ...                         ...               ...      ...   \n77196        10                 No Te Hagas          Jory Boy     5842   \n77223        10                     Me Mata         Bad Bunny     6417   \n77271         6                  Sobredosis      Romeo Santos     9076   \n77277        10                 Don&#39;t Leave         Snakehips   115530   \n77288        10                Now Or Never            Halsey   118740   \n\n                           id        date region  acousticness  \\\n0      3AEZUABDXNtecAOSC1qTfo  2017-01-01    ECU       0.40000   \n1582   6mICuAdrwEjh6Y6lroV2Kg  2017-01-01    ECU       0.18700   \n3120   3QwBODjSEzelZyVjxPOHdq  2017-01-01    ECU       0.05590   \n4920   7DM4BPaS7uofFul3ywMe46  2017-01-01    ECU       0.00431   \n5340   7BKLCZ1jbUBVqRi2FVlTVw  2017-01-03    ECU       0.41400   \n...                       ...         ...    ...           ...   \n77196  5hKjEpYrJIJs6uPl7zw6Y6  2017-03-31    DOM       0.03530   \n77223  2wgDAPgBhFA7pnIbm0YOhP  2017-05-15    DOM       0.55100   \n77271  1WbXIpiGBJkCiv3hn40iPB  2017-07-21    DOM       0.20700   \n77277  0Zx8khUcEfCFK2AEoIhC92  2017-02-15    AUS       0.22200   \n77288  7i2DJ88J7jQ8K7zqFX2fW8  2017-06-05    AUS       0.10700   \n\n                                                 artists  danceability  ...  \\\n0                                               [&#39;CNCO&#39;]         0.761  ...   \n1582                               [&#39;Shakira&#39;, &#39;Maluma&#39;]         0.852  ...   \n3120                       [&#39;Zion &amp; Lennox&#39;, &#39;J Balvin&#39;]         0.832  ...   \n4920                          [&#39;Ricky Martin&#39;, &#39;Maluma&#39;]         0.663  ...   \n5340                      [&#39;The Chainsmokers&#39;, &#39;Halsey&#39;]         0.748  ...   \n...                                                  ...           ...  ...   \n77196                          [&#39;Jory Boy&#39;, &#39;Bad Bunny&#39;]         0.748  ...   \n77223  [&#39;Bad Bunny&#39;, &#39;Mambo Kingz&#39;, &#39;DJ Luian&#39;, &#39;Arca...         0.841  ...   \n77271                          [&#39;Romeo Santos&#39;, &#39;Ozuna&#39;]         0.759  ...   \n77277                                [&#39;Snakehips&#39;, &#39;MØ&#39;]         0.657  ...   \n77288                                         [&#39;Halsey&#39;]         0.670  ...   \n\n       liveness  loudness  mode                         name  popularity  \\\n0         0.176    -3.073     0   Reggaetón Lento (Bailemos)          74   \n1582      0.159    -2.921     0      Chantaje (feat. Maluma)          76   \n3120      0.440    -5.429     1    Otra vez (feat. J Balvin)          73   \n4920      0.101    -4.070     0  Vente Pa&#39; Ca (feat. Maluma)          73   \n5340      0.111    -5.599     1                       Closer          84   \n...         ...       ...   ...                          ...         ...   \n77196     0.315    -3.812     0                  No Te Hagas          66   \n77223     0.119   -11.467     1                      Me Mata          68   \n77271     0.230    -8.085     0     Sobredosis (feat. Ozuna)          71   \n77277     0.256    -3.402     1                  Don&#39;t Leave          67   \n77288     0.131    -4.861     0                 Now Or Never          69   \n\n       release_date  speechiness    tempo valence  year  \n0        2016-08-26       0.0502   93.974   0.710  2016  \n1582     2017-05-26       0.0776  102.034   0.907  2017  \n3120     2016-09-30       0.1000   96.016   0.704  2016  \n4920     2016-09-22       0.2260   99.935   0.533  2016  \n5340     2016-07-29       0.0338   95.010   0.661  2016  \n...             ...          ...      ...     ...   ...  \n77196    2017-03-11       0.0477  131.972   0.433  2017  \n77223    2017-04-11       0.2050  114.028   0.686  2017  \n77271    2017-07-21       0.0511  128.010   0.682  2017  \n77277    2017-01-06       0.0753  122.381   0.338  2017  \n77288    2017-06-02       0.0354  110.030   0.447  2017  \n\n[201 rows x 25 columns]",
      "text/html": "<div>\n<style scoped>\n    .dataframe tbody tr th:only-of-type {\n        vertical-align: middle;\n    }\n\n    .dataframe tbody tr th {\n        vertical-align: top;\n    }\n\n    .dataframe thead th {\n        text-align: right;\n    }\n</style>\n<table border=\"1\" class=\"dataframe\">\n  <thead>\n    <tr style=\"text-align: right;\">\n      <th></th>\n      <th>position</th>\n      <th>track_name</th>\n      <th>artist</th>\n      <th>streams</th>\n      <th>id</th>\n      <th>date</th>\n      <th>region</th>\n      <th>acousticness</th>\n      <th>artists</th>\n      <th>danceability</th>\n      <th>...</th>\n      <th>liveness</th>\n      <th>loudness</th>\n      <th>mode</th>\n      <th>name</th>\n      <th>popularity</th>\n      <th>release_date</th>\n      <th>speechiness</th>\n      <th>tempo</th>\n      <th>valence</th>\n      <th>year</th>\n    </tr>\n  </thead>\n  <tbody>\n    <tr>\n      <th>0</th>\n      <td>1</td>\n      <td>Reggaetón Lento (Bailemos)</td>\n      <td>CNCO</td>\n      <td>19272</td>\n      <td>3AEZUABDXNtecAOSC1qTfo</td>\n      <td>2017-01-01</td>\n      <td>ECU</td>\n      <td>0.40000</td>\n      <td>['CNCO']</td>\n      <td>0.761</td>\n      <td>...</td>\n      <td>0.176</td>\n      <td>-3.073</td>\n      <td>0</td>\n      <td>Reggaetón Lento (Bailemos)</td>\n      <td>74</td>\n      <td>2016-08-26</td>\n      <td>0.0502</td>\n      <td>93.974</td>\n      <td>0.710</td>\n      <td>2016</td>\n    </tr>\n    <tr>\n      <th>1582</th>\n      <td>2</td>\n      <td>Chantaje</td>\n      <td>Shakira</td>\n      <td>19270</td>\n      <td>6mICuAdrwEjh6Y6lroV2Kg</td>\n      <td>2017-01-01</td>\n      <td>ECU</td>\n      <td>0.18700</td>\n      <td>['Shakira', 'Maluma']</td>\n      <td>0.852</td>\n      <td>...</td>\n      <td>0.159</td>\n      <td>-2.921</td>\n      <td>0</td>\n      <td>Chantaje (feat. Maluma)</td>\n      <td>76</td>\n      <td>2017-05-26</td>\n      <td>0.0776</td>\n      <td>102.034</td>\n      <td>0.907</td>\n      <td>2017</td>\n    </tr>\n    <tr>\n      <th>3120</th>\n      <td>3</td>\n      <td>Otra Vez (feat. J Balvin)</td>\n      <td>Zion &amp; Lennox</td>\n      <td>15761</td>\n      <td>3QwBODjSEzelZyVjxPOHdq</td>\n      <td>2017-01-01</td>\n      <td>ECU</td>\n      <td>0.05590</td>\n      <td>['Zion &amp; Lennox', 'J Balvin']</td>\n      <td>0.832</td>\n      <td>...</td>\n      <td>0.440</td>\n      <td>-5.429</td>\n      <td>1</td>\n      <td>Otra vez (feat. J Balvin)</td>\n      <td>73</td>\n      <td>2016-09-30</td>\n      <td>0.1000</td>\n      <td>96.016</td>\n      <td>0.704</td>\n      <td>2016</td>\n    </tr>\n    <tr>\n      <th>4920</th>\n      <td>4</td>\n      <td>Vente Pa' Ca</td>\n      <td>Ricky Martin</td>\n      <td>14954</td>\n      <td>7DM4BPaS7uofFul3ywMe46</td>\n      <td>2017-01-01</td>\n      <td>ECU</td>\n      <td>0.00431</td>\n      <td>['Ricky Martin', 'Maluma']</td>\n      <td>0.663</td>\n      <td>...</td>\n      <td>0.101</td>\n      <td>-4.070</td>\n      <td>0</td>\n      <td>Vente Pa' Ca (feat. Maluma)</td>\n      <td>73</td>\n      <td>2016-09-22</td>\n      <td>0.2260</td>\n      <td>99.935</td>\n      <td>0.533</td>\n      <td>2016</td>\n    </tr>\n    <tr>\n      <th>5340</th>\n      <td>8</td>\n      <td>Closer</td>\n      <td>The Chainsmokers</td>\n      <td>9244</td>\n      <td>7BKLCZ1jbUBVqRi2FVlTVw</td>\n      <td>2017-01-03</td>\n      <td>ECU</td>\n      <td>0.41400</td>\n      <td>['The Chainsmokers', 'Halsey']</td>\n      <td>0.748</td>\n      <td>...</td>\n      <td>0.111</td>\n      <td>-5.599</td>\n      <td>1</td>\n      <td>Closer</td>\n      <td>84</td>\n      <td>2016-07-29</td>\n      <td>0.0338</td>\n      <td>95.010</td>\n      <td>0.661</td>\n      <td>2016</td>\n    </tr>\n    <tr>\n      <th>...</th>\n      <td>...</td>\n      <td>...</td>\n      <td>...</td>\n      <td>...</td>\n      <td>...</td>\n      <td>...</td>\n      <td>...</td>\n      <td>...</td>\n      <td>...</td>\n      <td>...</td>\n      <td>...</td>\n      <td>...</td>\n      <td>...</td>\n      <td>...</td>\n      <td>...</td>\n      <td>...</td>\n      <td>...</td>\n      <td>...</td>\n      <td>...</td>\n      <td>...</td>\n      <td>...</td>\n    </tr>\n    <tr>\n      <th>77196</th>\n      <td>10</td>\n      <td>No Te Hagas</td>\n      <td>Jory Boy</td>\n      <td>5842</td>\n      <td>5hKjEpYrJIJs6uPl7zw6Y6</td>\n      <td>2017-03-31</td>\n      <td>DOM</td>\n      <td>0.03530</td>\n      <td>['Jory Boy', 'Bad Bunny']</td>\n      <td>0.748</td>\n      <td>...</td>\n      <td>0.315</td>\n      <td>-3.812</td>\n      <td>0</td>\n      <td>No Te Hagas</td>\n      <td>66</td>\n      <td>2017-03-11</td>\n      <td>0.0477</td>\n      <td>131.972</td>\n      <td>0.433</td>\n      <td>2017</td>\n    </tr>\n    <tr>\n      <th>77223</th>\n      <td>10</td>\n      <td>Me Mata</td>\n      <td>Bad Bunny</td>\n      <td>6417</td>\n      <td>2wgDAPgBhFA7pnIbm0YOhP</td>\n      <td>2017-05-15</td>\n      <td>DOM</td>\n      <td>0.55100</td>\n      <td>['Bad Bunny', 'Mambo Kingz', 'DJ Luian', 'Arca...</td>\n      <td>0.841</td>\n      <td>...</td>\n      <td>0.119</td>\n      <td>-11.467</td>\n      <td>1</td>\n      <td>Me Mata</td>\n      <td>68</td>\n      <td>2017-04-11</td>\n      <td>0.2050</td>\n      <td>114.028</td>\n      <td>0.686</td>\n      <td>2017</td>\n    </tr>\n    <tr>\n      <th>77271</th>\n      <td>6</td>\n      <td>Sobredosis</td>\n      <td>Romeo Santos</td>\n      <td>9076</td>\n      <td>1WbXIpiGBJkCiv3hn40iPB</td>\n      <td>2017-07-21</td>\n      <td>DOM</td>\n      <td>0.20700</td>\n      <td>['Romeo Santos', 'Ozuna']</td>\n      <td>0.759</td>\n      <td>...</td>\n      <td>0.230</td>\n      <td>-8.085</td>\n      <td>0</td>\n      <td>Sobredosis (feat. Ozuna)</td>\n      <td>71</td>\n      <td>2017-07-21</td>\n      <td>0.0511</td>\n      <td>128.010</td>\n      <td>0.682</td>\n      <td>2017</td>\n    </tr>\n    <tr>\n      <th>77277</th>\n      <td>10</td>\n      <td>Don't Leave</td>\n      <td>Snakehips</td>\n      <td>115530</td>\n      <td>0Zx8khUcEfCFK2AEoIhC92</td>\n      <td>2017-02-15</td>\n      <td>AUS</td>\n      <td>0.22200</td>\n      <td>['Snakehips', 'MØ']</td>\n      <td>0.657</td>\n      <td>...</td>\n      <td>0.256</td>\n      <td>-3.402</td>\n      <td>1</td>\n      <td>Don't Leave</td>\n      <td>67</td>\n      <td>2017-01-06</td>\n      <td>0.0753</td>\n      <td>122.381</td>\n      <td>0.338</td>\n      <td>2017</td>\n    </tr>\n    <tr>\n      <th>77288</th>\n      <td>10</td>\n      <td>Now Or Never</td>\n      <td>Halsey</td>\n      <td>118740</td>\n      <td>7i2DJ88J7jQ8K7zqFX2fW8</td>\n      <td>2017-06-05</td>\n      <td>AUS</td>\n      <td>0.10700</td>\n      <td>['Halsey']</td>\n      <td>0.670</td>\n      <td>...</td>\n      <td>0.131</td>\n      <td>-4.861</td>\n      <td>0</td>\n      <td>Now Or Never</td>\n      <td>69</td>\n      <td>2017-06-02</td>\n      <td>0.0354</td>\n      <td>110.030</td>\n      <td>0.447</td>\n      <td>2017</td>\n    </tr>\n  </tbody>\n</table>\n<p>201 rows × 25 columns</p>\n</div>"
     },
     "metadata": {},
     "execution_count": 107
    }
   ],
   "source": [
    " #test merge of old dataset (incomplete)\n",
    " df_top10.merge(df2,on='id').drop_duplicates(subset=['id'])"
   ]
  },
  {
   "cell_type": "code",
   "execution_count": 10,
   "metadata": {},
   "outputs": [],
   "source": [
    "#Create bar plot race dataframe\n",
    "#import global data with date as index\n",
    "df_global = pd.read_csv('data_global.csv',index_col=5)\n",
    "#take top 10 songs per day\n",
    "df_fig = df_global[df_global['position'] <= 10]\n",
    "#create a column for each song, with each row being date\n",
    "df_dates = pd.DataFrame(index=set(df_fig.index))\n",
    "df_dates = df_dates.sort_index()\n",
    "for song in set(df_fig['track_name']):\n",
    "    df_song = df_fig[df_fig['track_name'] == song]\n",
    "    df_dates[song] = df_song['streams']\n",
    "#remove null columns\n",
    "df_dates = df_dates.dropna(axis='columns',how='all')\n",
    "df_dates = df_dates.fillna(0)\n",
    "#replace long name\n",
    "df_dates = df_dates.rename(columns={'I Don’t Wanna Live Forever (Fifty Shades Darker) - From \"Fifty Shades Darker (Original Motion Picture Soundtrack)\"' : \"I Don't Wanna Live Forever\"})\n",
    "df_dates.to_csv('data_dates.csv',index_label='index')"
   ]
  },
  {
   "cell_type": "code",
   "execution_count": 215,
   "metadata": {},
   "outputs": [],
   "source": [
    "#get sum of streams for each region for each artist\n",
    "a = pd.DataFrame(df.groupby(['artist','region'])['streams'].sum()).reset_index(level=[1])\n",
    "a = a.pivot_table(values='streams',index=a.index,columns='region',aggfunc='first')\n",
    "a.to_csv('artist_streams.csv')"
   ]
  },
  {
   "cell_type": "code",
   "execution_count": 221,
   "metadata": {},
   "outputs": [],
   "source": [
    "s = pd.DataFrame(df.groupby(['track_name','region'])['streams'].sum()).reset_index(level=[1]).pivot_table(values='streams',index=a.index,columns='region',aggfunc='first')\n",
    "s.to_csv('song_streams.csv')"
   ]
  },
  {
   "cell_type": "code",
   "execution_count": 176,
   "metadata": {},
   "outputs": [],
   "source": [
    "#get country of origin of popular artists\n",
    "df_artist = pd.read_csv('artists.csv')\n",
    "df_artist = df_artist.drop(columns=['mbid','listeners_lastfm','scrobbles_lastfm','ambiguous_artist'])"
   ]
  },
  {
   "cell_type": "code",
   "execution_count": 178,
   "metadata": {},
   "outputs": [
    {
     "output_type": "execute_result",
     "data": {
      "text/plain": [
       "Angel            50\n",
       "Alex             37\n",
       "Aura             34\n",
       "Oasis            30\n",
       "Nina             29\n",
       "                 ..\n",
       "First Aid Kit     2\n",
       "Xen               2\n",
       "Aegis             2\n",
       "Snowstorm         2\n",
       "Terri             2\n",
       "Name: artist, Length: 736, dtype: int64"
      ]
     },
     "metadata": {},
     "execution_count": 178
    }
   ],
   "source": [
    "#df_artist[df_artist['artist_mb'] != df_artist['artist_lastfm']]\n",
    "#Get all MB artists in dataframe, and use lastfm artists as backup where missing\n",
    "df_artist['artist'] = df_artist['artist_mb'].where(df_artist['artist_mb'].isin(df['artist']),df_artist['artist_lastfm'])\n",
    "\n",
    "#Find duplicate artists\n",
    "df_artist['artist'].value_counts()[df_artist['artist'].value_counts() > 1]"
   ]
  },
  {
   "cell_type": "code",
   "execution_count": 171,
   "metadata": {},
   "outputs": [],
   "source": [
    "#test function to aggregate duplicate artists\n",
    "\n",
    "\n",
    "#aggregate duplicate artists\n",
    "duplicates = df_artist.groupby(df_artist['artist']).agg({'artist' : ','.join})\n",
    "#keep only duplicate artists\n",
    "duplicates = duplicates[duplicates.index != duplicates['artist']]"
   ]
  },
  {
   "cell_type": "code",
   "execution_count": 172,
   "metadata": {},
   "outputs": [
    {
     "output_type": "execute_result",
     "data": {
      "text/plain": [
       "              artist_mb                artist_lastfm      country_mb  \\\n",
       "7               Nirvana                      Nirvana   United States   \n",
       "8                  Muse                         Muse  United Kingdom   \n",
       "9                 Queen                        Queen  United Kingdom   \n",
       "18                Oasis                        Oasis  United Kingdom   \n",
       "21      Michael Jackson              Michael Jackson   United States   \n",
       "...                 ...                          ...             ...   \n",
       "132828            Crush  Crush & Alexandra Ungureanu         Romania   \n",
       "205991         Dick Lee                     Dick Lee       Singapore   \n",
       "206609            Nicol                        Nicol          Latvia   \n",
       "363419             ALMA               Alma Miettinen         Finland   \n",
       "945806    Artful Dodger                Artful Dodger   United States   \n",
       "\n",
       "         country_lastfm                                            tags_mb  \\\n",
       "7         United States  rock; alternative rock; 90s; punk; american; e...   \n",
       "8        United Kingdom  rock; electronic; synthpop; alternative rock; ...   \n",
       "9        United Kingdom  rock; progressive rock; 70s; 80s; 90s; pop-roc...   \n",
       "18       United Kingdom  rock; alternative rock; british; uk; britanniq...   \n",
       "21        United States  rock; pop; american; blues; singer; usa; funk;...   \n",
       "...                 ...                                                ...   \n",
       "132828          Romania                             romanian; romanian duo   \n",
       "205991        Singapore                              chinese; likedis auto   \n",
       "206609  Germany; Latvia                                            latvian   \n",
       "363419          Finland                                  singer-songwriter   \n",
       "945806   United Kingdom                                    rock; power pop   \n",
       "\n",
       "                                              tags_lastfm           artist  \n",
       "7       Grunge; rock; alternative; alternative rock; 9...          Nirvana  \n",
       "8       alternative rock; rock; alternative; Progressi...             Muse  \n",
       "9       classic rock; rock; 80s; hard rock; glam rock;...            Queen  \n",
       "18      britpop; rock; british; alternative; indie; se...            Oasis  \n",
       "21      pop; 80s; dance; soul; funk; king of pop; mich...  Michael Jackson  \n",
       "...                                                   ...              ...  \n",
       "132828  Romanian; trance; pop; underrated; electronic;...            Crush  \n",
       "205991  singapore; pop; singer-songwriter; r&b; Asian;...         Dick Lee  \n",
       "206609  latvian; pop; rnb; german; female singer; unde...            Nicol  \n",
       "363419  Hip-Hop; female vocalists; rnb; finland; idols...             ALMA  \n",
       "945806  UK Garage; 2step; british; UK; garage; 2-step;...    Artful Dodger  \n",
       "\n",
       "[402 rows x 7 columns]"
      ],
      "text/html": "<div>\n<style scoped>\n    .dataframe tbody tr th:only-of-type {\n        vertical-align: middle;\n    }\n\n    .dataframe tbody tr th {\n        vertical-align: top;\n    }\n\n    .dataframe thead th {\n        text-align: right;\n    }\n</style>\n<table border=\"1\" class=\"dataframe\">\n  <thead>\n    <tr style=\"text-align: right;\">\n      <th></th>\n      <th>artist_mb</th>\n      <th>artist_lastfm</th>\n      <th>country_mb</th>\n      <th>country_lastfm</th>\n      <th>tags_mb</th>\n      <th>tags_lastfm</th>\n      <th>artist</th>\n    </tr>\n  </thead>\n  <tbody>\n    <tr>\n      <th>7</th>\n      <td>Nirvana</td>\n      <td>Nirvana</td>\n      <td>United States</td>\n      <td>United States</td>\n      <td>rock; alternative rock; 90s; punk; american; e...</td>\n      <td>Grunge; rock; alternative; alternative rock; 9...</td>\n      <td>Nirvana</td>\n    </tr>\n    <tr>\n      <th>8</th>\n      <td>Muse</td>\n      <td>Muse</td>\n      <td>United Kingdom</td>\n      <td>United Kingdom</td>\n      <td>rock; electronic; synthpop; alternative rock; ...</td>\n      <td>alternative rock; rock; alternative; Progressi...</td>\n      <td>Muse</td>\n    </tr>\n    <tr>\n      <th>9</th>\n      <td>Queen</td>\n      <td>Queen</td>\n      <td>United Kingdom</td>\n      <td>United Kingdom</td>\n      <td>rock; progressive rock; 70s; 80s; 90s; pop-roc...</td>\n      <td>classic rock; rock; 80s; hard rock; glam rock;...</td>\n      <td>Queen</td>\n    </tr>\n    <tr>\n      <th>18</th>\n      <td>Oasis</td>\n      <td>Oasis</td>\n      <td>United Kingdom</td>\n      <td>United Kingdom</td>\n      <td>rock; alternative rock; british; uk; britanniq...</td>\n      <td>britpop; rock; british; alternative; indie; se...</td>\n      <td>Oasis</td>\n    </tr>\n    <tr>\n      <th>21</th>\n      <td>Michael Jackson</td>\n      <td>Michael Jackson</td>\n      <td>United States</td>\n      <td>United States</td>\n      <td>rock; pop; american; blues; singer; usa; funk;...</td>\n      <td>pop; 80s; dance; soul; funk; king of pop; mich...</td>\n      <td>Michael Jackson</td>\n    </tr>\n    <tr>\n      <th>...</th>\n      <td>...</td>\n      <td>...</td>\n      <td>...</td>\n      <td>...</td>\n      <td>...</td>\n      <td>...</td>\n      <td>...</td>\n    </tr>\n    <tr>\n      <th>132828</th>\n      <td>Crush</td>\n      <td>Crush &amp; Alexandra Ungureanu</td>\n      <td>Romania</td>\n      <td>Romania</td>\n      <td>romanian; romanian duo</td>\n      <td>Romanian; trance; pop; underrated; electronic;...</td>\n      <td>Crush</td>\n    </tr>\n    <tr>\n      <th>205991</th>\n      <td>Dick Lee</td>\n      <td>Dick Lee</td>\n      <td>Singapore</td>\n      <td>Singapore</td>\n      <td>chinese; likedis auto</td>\n      <td>singapore; pop; singer-songwriter; r&amp;b; Asian;...</td>\n      <td>Dick Lee</td>\n    </tr>\n    <tr>\n      <th>206609</th>\n      <td>Nicol</td>\n      <td>Nicol</td>\n      <td>Latvia</td>\n      <td>Germany; Latvia</td>\n      <td>latvian</td>\n      <td>latvian; pop; rnb; german; female singer; unde...</td>\n      <td>Nicol</td>\n    </tr>\n    <tr>\n      <th>363419</th>\n      <td>ALMA</td>\n      <td>Alma Miettinen</td>\n      <td>Finland</td>\n      <td>Finland</td>\n      <td>singer-songwriter</td>\n      <td>Hip-Hop; female vocalists; rnb; finland; idols...</td>\n      <td>ALMA</td>\n    </tr>\n    <tr>\n      <th>945806</th>\n      <td>Artful Dodger</td>\n      <td>Artful Dodger</td>\n      <td>United States</td>\n      <td>United Kingdom</td>\n      <td>rock; power pop</td>\n      <td>UK Garage; 2step; british; UK; garage; 2-step;...</td>\n      <td>Artful Dodger</td>\n    </tr>\n  </tbody>\n</table>\n<p>402 rows × 7 columns</p>\n</div>"
     },
     "metadata": {},
     "execution_count": 172
    }
   ],
   "source": [
    "#Shows all duplicate artists in df_artist\n",
    "df_artist.where(df_artist['artist'].isin(duplicates.index)).dropna()"
   ]
  },
  {
   "cell_type": "code",
   "execution_count": 71,
   "metadata": {},
   "outputs": [
    {
     "output_type": "execute_result",
     "data": {
      "text/plain": [
       "             artist_mb artist_lastfm country_mb country_lastfm  \\\n",
       "3412            Sigala        Sigala        NaN            NaN   \n",
       "5665       Calum Scott   Calum Scott        NaN            NaN   \n",
       "5913     [traditional]   Traditional        NaN            NaN   \n",
       "5994          James TW      James Tw        NaN            NaN   \n",
       "6531        Tom Walker    Tom Walker        NaN            NaN   \n",
       "...                ...           ...        ...            ...   \n",
       "1418750        iDubbbz           NaN        NaN            NaN   \n",
       "1423663           ÁTOA           NaN        NaN            NaN   \n",
       "1449234             阿達           NaN        NaN            NaN   \n",
       "1459120       Monsta X           NaN        NaN            NaN   \n",
       "1465763           Emms           NaN        NaN            NaN   \n",
       "\n",
       "                                                   tags_mb  \\\n",
       "3412                             dance-pop; tropical house   \n",
       "5665                                                   NaN   \n",
       "5913     special purpose artist; fixme; folk; bogus art...   \n",
       "5994                                                   NaN   \n",
       "6531     rock; metal; british; guitar; progressive; hea...   \n",
       "...                                                    ...   \n",
       "1418750                                                NaN   \n",
       "1423663                                                NaN   \n",
       "1449234                                                NaN   \n",
       "1459120                                                NaN   \n",
       "1465763                                                NaN   \n",
       "\n",
       "                                           tags_lastfm       artist  \n",
       "3412                                               NaN       Sigala  \n",
       "5665                                               NaN  Calum Scott  \n",
       "5913     folk; traditional; ethnic; Bossa Nova; celtic  Traditional  \n",
       "5994                                               NaN     James TW  \n",
       "6531           indie; metal; electronic; heavy; guitar   Tom Walker  \n",
       "...                                                ...          ...  \n",
       "1418750                                            NaN      iDubbbz  \n",
       "1423663                                            NaN         ÁTOA  \n",
       "1449234                                            NaN           阿達  \n",
       "1459120                                            NaN     Monsta X  \n",
       "1465763                                            NaN         Emms  \n",
       "\n",
       "[567 rows x 7 columns]"
      ],
      "text/html": "<div>\n<style scoped>\n    .dataframe tbody tr th:only-of-type {\n        vertical-align: middle;\n    }\n\n    .dataframe tbody tr th {\n        vertical-align: top;\n    }\n\n    .dataframe thead th {\n        text-align: right;\n    }\n</style>\n<table border=\"1\" class=\"dataframe\">\n  <thead>\n    <tr style=\"text-align: right;\">\n      <th></th>\n      <th>artist_mb</th>\n      <th>artist_lastfm</th>\n      <th>country_mb</th>\n      <th>country_lastfm</th>\n      <th>tags_mb</th>\n      <th>tags_lastfm</th>\n      <th>artist</th>\n    </tr>\n  </thead>\n  <tbody>\n    <tr>\n      <th>3412</th>\n      <td>Sigala</td>\n      <td>Sigala</td>\n      <td>NaN</td>\n      <td>NaN</td>\n      <td>dance-pop; tropical house</td>\n      <td>NaN</td>\n      <td>Sigala</td>\n    </tr>\n    <tr>\n      <th>5665</th>\n      <td>Calum Scott</td>\n      <td>Calum Scott</td>\n      <td>NaN</td>\n      <td>NaN</td>\n      <td>NaN</td>\n      <td>NaN</td>\n      <td>Calum Scott</td>\n    </tr>\n    <tr>\n      <th>5913</th>\n      <td>[traditional]</td>\n      <td>Traditional</td>\n      <td>NaN</td>\n      <td>NaN</td>\n      <td>special purpose artist; fixme; folk; bogus art...</td>\n      <td>folk; traditional; ethnic; Bossa Nova; celtic</td>\n      <td>Traditional</td>\n    </tr>\n    <tr>\n      <th>5994</th>\n      <td>James TW</td>\n      <td>James Tw</td>\n      <td>NaN</td>\n      <td>NaN</td>\n      <td>NaN</td>\n      <td>NaN</td>\n      <td>James TW</td>\n    </tr>\n    <tr>\n      <th>6531</th>\n      <td>Tom Walker</td>\n      <td>Tom Walker</td>\n      <td>NaN</td>\n      <td>NaN</td>\n      <td>rock; metal; british; guitar; progressive; hea...</td>\n      <td>indie; metal; electronic; heavy; guitar</td>\n      <td>Tom Walker</td>\n    </tr>\n    <tr>\n      <th>...</th>\n      <td>...</td>\n      <td>...</td>\n      <td>...</td>\n      <td>...</td>\n      <td>...</td>\n      <td>...</td>\n      <td>...</td>\n    </tr>\n    <tr>\n      <th>1418750</th>\n      <td>iDubbbz</td>\n      <td>NaN</td>\n      <td>NaN</td>\n      <td>NaN</td>\n      <td>NaN</td>\n      <td>NaN</td>\n      <td>iDubbbz</td>\n    </tr>\n    <tr>\n      <th>1423663</th>\n      <td>ÁTOA</td>\n      <td>NaN</td>\n      <td>NaN</td>\n      <td>NaN</td>\n      <td>NaN</td>\n      <td>NaN</td>\n      <td>ÁTOA</td>\n    </tr>\n    <tr>\n      <th>1449234</th>\n      <td>阿達</td>\n      <td>NaN</td>\n      <td>NaN</td>\n      <td>NaN</td>\n      <td>NaN</td>\n      <td>NaN</td>\n      <td>阿達</td>\n    </tr>\n    <tr>\n      <th>1459120</th>\n      <td>Monsta X</td>\n      <td>NaN</td>\n      <td>NaN</td>\n      <td>NaN</td>\n      <td>NaN</td>\n      <td>NaN</td>\n      <td>Monsta X</td>\n    </tr>\n    <tr>\n      <th>1465763</th>\n      <td>Emms</td>\n      <td>NaN</td>\n      <td>NaN</td>\n      <td>NaN</td>\n      <td>NaN</td>\n      <td>NaN</td>\n      <td>Emms</td>\n    </tr>\n  </tbody>\n</table>\n<p>567 rows × 7 columns</p>\n</div>"
     },
     "metadata": {},
     "execution_count": 71
    }
   ],
   "source": [
    "df_artist[df_artist['country_mb'].isna() & df_artist['country_lastfm'].isna()]"
   ]
  },
  {
   "cell_type": "code",
   "execution_count": 179,
   "metadata": {},
   "outputs": [],
   "source": [
    "#drop duplicates and keep only the first artist\n",
    "df_artist.drop_duplicates(subset=['artist'],keep='first',inplace=True)"
   ]
  },
  {
   "cell_type": "code",
   "execution_count": 180,
   "metadata": {
    "tags": []
   },
   "outputs": [
    {
     "output_type": "execute_result",
     "data": {
      "text/plain": [
       "                                   artist         country\n",
       "0                                Coldplay  United Kingdom\n",
       "1                               Radiohead  United Kingdom\n",
       "2                   Red Hot Chili Peppers   United States\n",
       "3                                 Rihanna   United States\n",
       "4                                  Eminem   United States\n",
       "...                                   ...             ...\n",
       "1465212                     WALK THE MOON   United States\n",
       "1465372  DJ Jazzy Jeff & The Fresh Prince   United States\n",
       "1465764                            Exiled         Germany\n",
       "1465804                            HARUHI           Japan\n",
       "1465918                              RIRI           Japan\n",
       "\n",
       "[4321 rows x 2 columns]"
      ],
      "text/html": "<div>\n<style scoped>\n    .dataframe tbody tr th:only-of-type {\n        vertical-align: middle;\n    }\n\n    .dataframe tbody tr th {\n        vertical-align: top;\n    }\n\n    .dataframe thead th {\n        text-align: right;\n    }\n</style>\n<table border=\"1\" class=\"dataframe\">\n  <thead>\n    <tr style=\"text-align: right;\">\n      <th></th>\n      <th>artist</th>\n      <th>country</th>\n    </tr>\n  </thead>\n  <tbody>\n    <tr>\n      <th>0</th>\n      <td>Coldplay</td>\n      <td>United Kingdom</td>\n    </tr>\n    <tr>\n      <th>1</th>\n      <td>Radiohead</td>\n      <td>United Kingdom</td>\n    </tr>\n    <tr>\n      <th>2</th>\n      <td>Red Hot Chili Peppers</td>\n      <td>United States</td>\n    </tr>\n    <tr>\n      <th>3</th>\n      <td>Rihanna</td>\n      <td>United States</td>\n    </tr>\n    <tr>\n      <th>4</th>\n      <td>Eminem</td>\n      <td>United States</td>\n    </tr>\n    <tr>\n      <th>...</th>\n      <td>...</td>\n      <td>...</td>\n    </tr>\n    <tr>\n      <th>1465212</th>\n      <td>WALK THE MOON</td>\n      <td>United States</td>\n    </tr>\n    <tr>\n      <th>1465372</th>\n      <td>DJ Jazzy Jeff &amp; The Fresh Prince</td>\n      <td>United States</td>\n    </tr>\n    <tr>\n      <th>1465764</th>\n      <td>Exiled</td>\n      <td>Germany</td>\n    </tr>\n    <tr>\n      <th>1465804</th>\n      <td>HARUHI</td>\n      <td>Japan</td>\n    </tr>\n    <tr>\n      <th>1465918</th>\n      <td>RIRI</td>\n      <td>Japan</td>\n    </tr>\n  </tbody>\n</table>\n<p>4321 rows × 2 columns</p>\n</div>"
     },
     "metadata": {},
     "execution_count": 180
    }
   ],
   "source": [
    "#get countries for artists\n",
    "c = []\n",
    "for mb,fm in zip(df_artist.country_mb,df_artist.country_lastfm):\n",
    "    # if pd.isnull(fm):\n",
    "    #     if not pd.isnull(mb):\n",
    "    #         c.append(mb.split(';')[0])\n",
    "    #     else:\n",
    "    #         c.append(None)\n",
    "    #mb = str(mb)\n",
    "    #fm = str(fm)\n",
    "    if not pd.isnull(fm) and not pd.isnull(mb) and len(mb.split(';')) == 1 and mb in fm:\n",
    "        c.append(mb)\n",
    "    elif not pd.isnull(fm) and len(fm.split(';')) == 1:\n",
    "        c.append(fm)\n",
    "    elif not pd.isnull(mb) and len(mb.split(';')) == 1:\n",
    "        c.append(mb)\n",
    "    elif not pd.isnull(fm):\n",
    "        c.append(fm.split(';')[0])\n",
    "    else:\n",
    "        c.append(None)\n",
    "#add country list\n",
    "df_artist['country'] = c\n",
    "#replace None keyword with NaN and drop artists with no country found\n",
    "df_artist = df_artist.fillna(value=np.nan).dropna(subset=['country'])[['artist','country']]\n",
    "df_artist"
   ]
  },
  {
   "cell_type": "code",
   "execution_count": 192,
   "metadata": {},
   "outputs": [
    {
     "output_type": "execute_result",
     "data": {
      "text/plain": [
       "                                artist country\n",
       "0                             Coldplay     GBR\n",
       "1                            Radiohead     GBR\n",
       "2                Red Hot Chili Peppers     USA\n",
       "3                              Rihanna     USA\n",
       "4                               Eminem     USA\n",
       "...                                ...     ...\n",
       "4316                     WALK THE MOON     USA\n",
       "4317  DJ Jazzy Jeff & The Fresh Prince     USA\n",
       "4318                            Exiled     DEU\n",
       "4319                            HARUHI     JPN\n",
       "4320                              RIRI     JPN\n",
       "\n",
       "[4321 rows x 2 columns]"
      ],
      "text/html": "<div>\n<style scoped>\n    .dataframe tbody tr th:only-of-type {\n        vertical-align: middle;\n    }\n\n    .dataframe tbody tr th {\n        vertical-align: top;\n    }\n\n    .dataframe thead th {\n        text-align: right;\n    }\n</style>\n<table border=\"1\" class=\"dataframe\">\n  <thead>\n    <tr style=\"text-align: right;\">\n      <th></th>\n      <th>artist</th>\n      <th>country</th>\n    </tr>\n  </thead>\n  <tbody>\n    <tr>\n      <th>0</th>\n      <td>Coldplay</td>\n      <td>GBR</td>\n    </tr>\n    <tr>\n      <th>1</th>\n      <td>Radiohead</td>\n      <td>GBR</td>\n    </tr>\n    <tr>\n      <th>2</th>\n      <td>Red Hot Chili Peppers</td>\n      <td>USA</td>\n    </tr>\n    <tr>\n      <th>3</th>\n      <td>Rihanna</td>\n      <td>USA</td>\n    </tr>\n    <tr>\n      <th>4</th>\n      <td>Eminem</td>\n      <td>USA</td>\n    </tr>\n    <tr>\n      <th>...</th>\n      <td>...</td>\n      <td>...</td>\n    </tr>\n    <tr>\n      <th>4316</th>\n      <td>WALK THE MOON</td>\n      <td>USA</td>\n    </tr>\n    <tr>\n      <th>4317</th>\n      <td>DJ Jazzy Jeff &amp; The Fresh Prince</td>\n      <td>USA</td>\n    </tr>\n    <tr>\n      <th>4318</th>\n      <td>Exiled</td>\n      <td>DEU</td>\n    </tr>\n    <tr>\n      <th>4319</th>\n      <td>HARUHI</td>\n      <td>JPN</td>\n    </tr>\n    <tr>\n      <th>4320</th>\n      <td>RIRI</td>\n      <td>JPN</td>\n    </tr>\n  </tbody>\n</table>\n<p>4321 rows × 2 columns</p>\n</div>"
     },
     "metadata": {},
     "execution_count": 192
    }
   ],
   "source": [
    "#to be able to map to country codes\n",
    "df_artist.replace(['United States','British Virgin Islands','United Kingdom','Netherlands','Philippines','Dominican Republic','Czech Republic','Ivory Coast','Kosovo'],['United States of America (the)','Virgin Islands (British)','United Kingdom of Great Britain and Northern Ireland (the)','Netherlands (the)','Philippines (the)','Dominican Republic (the)','Czechia',\"Côte d'Ivoire\",'Albania'],inplace=True)\n",
    "#convert countries to code, then create merge point with df_clean\n",
    "df_artist = df_artist.merge(codes[['country','code_3']],on='country',how='left').drop('country',axis=1).rename(columns={'code_3' : 'country'})\n",
    "df_artist.to_csv('artist-locations.csv',index=False)"
   ]
  }
 ],
 "metadata": {
  "kernelspec": {
   "name": "Python 3.8.6 64-bit",
   "display_name": "Python 3.8.6 64-bit",
   "metadata": {
    "interpreter": {
     "hash": "767d51c1340bd893661ea55ea3124f6de3c7a262a8b4abca0554b478b1e2ff90"
    }
   }
  },
  "language_info": {
   "codemirror_mode": {
    "name": "ipython",
    "version": 3
   },
   "file_extension": ".py",
   "mimetype": "text/x-python",
   "name": "python",
   "nbconvert_exporter": "python",
   "pygments_lexer": "ipython3",
   "version": "3.8.6-final"
  }
 },
 "nbformat": 4,
 "nbformat_minor": 2
}