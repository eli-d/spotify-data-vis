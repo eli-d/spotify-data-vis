{
 "cells": [
  {
   "cell_type": "code",
   "execution_count": 1,
   "metadata": {},
   "outputs": [
    {
     "output_type": "display_data",
     "data": {
      "text/html": "        <script type=\"text/javascript\">\n        window.PlotlyConfig = {MathJaxConfig: 'local'};\n        if (window.MathJax) {MathJax.Hub.Config({SVG: {font: \"STIX-Web\"}});}\n        if (typeof require !== 'undefined') {\n        require.undef(\"plotly\");\n        requirejs.config({\n            paths: {\n                'plotly': ['https://cdn.plot.ly/plotly-latest.min']\n            }\n        });\n        require(['plotly'], function(Plotly) {\n            window._Plotly = Plotly;\n        });\n        }\n        </script>\n        "
     },
     "metadata": {}
    },
    {
     "output_type": "execute_result",
     "data": {
      "text/plain": [
       "         position                  track_name  artist  streams  \\\n",
       "0               1  Reggaetón Lento (Bailemos)    CNCO    19272   \n",
       "1              43                   Tan Fácil    CNCO     4205   \n",
       "2              81                    Quisiera    CNCO     2347   \n",
       "3             119             Para Enamorarte    CNCO     1791   \n",
       "4             153     Tan Fácil - Urban Remix    CNCO     1454   \n",
       "...           ...                         ...     ...      ...   \n",
       "3007235       190                        終止戀愛  E-Kids     2211   \n",
       "3007236       163                        終止戀愛  E-Kids     2489   \n",
       "3007237       172                        終止戀愛  E-Kids     2399   \n",
       "3007238       166                        終止戀愛  E-Kids     2468   \n",
       "3007239       196                        終止戀愛  E-Kids     2084   \n",
       "\n",
       "                             id        date region nationality  \n",
       "0        3AEZUABDXNtecAOSC1qTfo  2017-01-01    ECU         USA  \n",
       "1        1TxgZRcy3kZ7JaEp88MDbC  2017-01-01    ECU         USA  \n",
       "2        4iPV0gcc8keTFl6qxqP73M  2017-01-01    ECU         USA  \n",
       "3        3B21fRFqPLmTd9zAlK0I8A  2017-01-01    ECU         USA  \n",
       "4        6ZvmnulA6jJY3lvveuCz77  2017-01-01    ECU         USA  \n",
       "...                         ...         ...    ...         ...  \n",
       "3007235  5IqINoJbcsew286bOMeJ7N  2018-01-02    HKG         CHN  \n",
       "3007236  5IqINoJbcsew286bOMeJ7N  2018-01-03    HKG         CHN  \n",
       "3007237  5IqINoJbcsew286bOMeJ7N  2018-01-04    HKG         CHN  \n",
       "3007238  5IqINoJbcsew286bOMeJ7N  2018-01-05    HKG         CHN  \n",
       "3007239  5IqINoJbcsew286bOMeJ7N  2018-01-06    HKG         CHN  \n",
       "\n",
       "[3007240 rows x 8 columns]"
      ],
      "text/html": "<div>\n<style scoped>\n    .dataframe tbody tr th:only-of-type {\n        vertical-align: middle;\n    }\n\n    .dataframe tbody tr th {\n        vertical-align: top;\n    }\n\n    .dataframe thead th {\n        text-align: right;\n    }\n</style>\n<table border=\"1\" class=\"dataframe\">\n  <thead>\n    <tr style=\"text-align: right;\">\n      <th></th>\n      <th>position</th>\n      <th>track_name</th>\n      <th>artist</th>\n      <th>streams</th>\n      <th>id</th>\n      <th>date</th>\n      <th>region</th>\n      <th>nationality</th>\n    </tr>\n  </thead>\n  <tbody>\n    <tr>\n      <th>0</th>\n      <td>1</td>\n      <td>Reggaetón Lento (Bailemos)</td>\n      <td>CNCO</td>\n      <td>19272</td>\n      <td>3AEZUABDXNtecAOSC1qTfo</td>\n      <td>2017-01-01</td>\n      <td>ECU</td>\n      <td>USA</td>\n    </tr>\n    <tr>\n      <th>1</th>\n      <td>43</td>\n      <td>Tan Fácil</td>\n      <td>CNCO</td>\n      <td>4205</td>\n      <td>1TxgZRcy3kZ7JaEp88MDbC</td>\n      <td>2017-01-01</td>\n      <td>ECU</td>\n      <td>USA</td>\n    </tr>\n    <tr>\n      <th>2</th>\n      <td>81</td>\n      <td>Quisiera</td>\n      <td>CNCO</td>\n      <td>2347</td>\n      <td>4iPV0gcc8keTFl6qxqP73M</td>\n      <td>2017-01-01</td>\n      <td>ECU</td>\n      <td>USA</td>\n    </tr>\n    <tr>\n      <th>3</th>\n      <td>119</td>\n      <td>Para Enamorarte</td>\n      <td>CNCO</td>\n      <td>1791</td>\n      <td>3B21fRFqPLmTd9zAlK0I8A</td>\n      <td>2017-01-01</td>\n      <td>ECU</td>\n      <td>USA</td>\n    </tr>\n    <tr>\n      <th>4</th>\n      <td>153</td>\n      <td>Tan Fácil - Urban Remix</td>\n      <td>CNCO</td>\n      <td>1454</td>\n      <td>6ZvmnulA6jJY3lvveuCz77</td>\n      <td>2017-01-01</td>\n      <td>ECU</td>\n      <td>USA</td>\n    </tr>\n    <tr>\n      <th>...</th>\n      <td>...</td>\n      <td>...</td>\n      <td>...</td>\n      <td>...</td>\n      <td>...</td>\n      <td>...</td>\n      <td>...</td>\n      <td>...</td>\n    </tr>\n    <tr>\n      <th>3007235</th>\n      <td>190</td>\n      <td>終止戀愛</td>\n      <td>E-Kids</td>\n      <td>2211</td>\n      <td>5IqINoJbcsew286bOMeJ7N</td>\n      <td>2018-01-02</td>\n      <td>HKG</td>\n      <td>CHN</td>\n    </tr>\n    <tr>\n      <th>3007236</th>\n      <td>163</td>\n      <td>終止戀愛</td>\n      <td>E-Kids</td>\n      <td>2489</td>\n      <td>5IqINoJbcsew286bOMeJ7N</td>\n      <td>2018-01-03</td>\n      <td>HKG</td>\n      <td>CHN</td>\n    </tr>\n    <tr>\n      <th>3007237</th>\n      <td>172</td>\n      <td>終止戀愛</td>\n      <td>E-Kids</td>\n      <td>2399</td>\n      <td>5IqINoJbcsew286bOMeJ7N</td>\n      <td>2018-01-04</td>\n      <td>HKG</td>\n      <td>CHN</td>\n    </tr>\n    <tr>\n      <th>3007238</th>\n      <td>166</td>\n      <td>終止戀愛</td>\n      <td>E-Kids</td>\n      <td>2468</td>\n      <td>5IqINoJbcsew286bOMeJ7N</td>\n      <td>2018-01-05</td>\n      <td>HKG</td>\n      <td>CHN</td>\n    </tr>\n    <tr>\n      <th>3007239</th>\n      <td>196</td>\n      <td>終止戀愛</td>\n      <td>E-Kids</td>\n      <td>2084</td>\n      <td>5IqINoJbcsew286bOMeJ7N</td>\n      <td>2018-01-06</td>\n      <td>HKG</td>\n      <td>CHN</td>\n    </tr>\n  </tbody>\n</table>\n<p>3007240 rows × 8 columns</p>\n</div>"
     },
     "metadata": {},
     "execution_count": 1
    }
   ],
   "source": [
    "#notebook to clean/modify data to a suitable format\n",
    "import pandas as pd\n",
    "import numpy as np\n",
    "from plotly.offline import init_notebook_mode, iplot, plot\n",
    "init_notebook_mode(connected=True)\n",
    "import plotly.graph_objs as go\n",
    "import plotly.express as px\n",
    "import math\n",
    "#import map\n",
    "import requests\n",
    "countries_map = requests.get('https://raw.githubusercontent.com/datasets/geo-countries/master/data/countries.geojson').json()\n",
    "df = pd.read_csv('data_clean.csv')\n",
    "#convert dates to pandas date object\n",
    "import datetime\n",
    "#choose template\n",
    "import plotly.io as pio\n",
    "pio.templates.default=\"seaborn\"\n",
    "#take colourmaps from matplotlib\n",
    "import matplotlib\n",
    "import matplotlib.cm as cm\n",
    "import colorcet as cc\n",
    "#df['date'] = pd.to_datetime(arg=df['date'],yearfirst=True)\n",
    "df"
   ]
  },
  {
   "cell_type": "code",
   "execution_count": 56,
   "metadata": {},
   "outputs": [
    {
     "output_type": "execute_result",
     "data": {
      "text/plain": "Timestamp('2018-01-09 00:00:00')"
     },
     "metadata": {},
     "execution_count": 56
    }
   ],
   "source": [
    "df['date'].max()"
   ]
  },
  {
   "cell_type": "code",
   "execution_count": 57,
   "metadata": {},
   "outputs": [
    {
     "output_type": "execute_result",
     "data": {
      "text/plain": "array([  0,   4,   9,  14,  19,  24,  29,  34,  39,  44,  49,  54,  59,\n        64,  68,  73,  78,  83,  88,  93,  98, 103, 108, 113, 118, 123,\n       128, 132, 137, 142, 147, 152, 157, 162, 167, 172, 177, 182, 187,\n       192, 196, 201, 206, 211, 216, 221, 226, 231, 236, 241, 246, 251,\n       256])"
     },
     "metadata": {},
     "execution_count": 57
    }
   ],
   "source": [
    "np.linspace(0,256,len(df_cur_day),dtype=int)"
   ]
  },
  {
   "cell_type": "code",
   "execution_count": 6,
   "metadata": {},
   "outputs": [],
   "source": [
    "#create a colourmap (dont need anymore)\n",
    "cmap = cm.jet(np.linspace(0,10,len(df_cur_day)))\n",
    "cmap_hex = []\n",
    "for col in cmap:\n",
    "    cmap_hex.append(matplotlib.colors.to_hex(col))"
   ]
  },
  {
   "cell_type": "code",
   "execution_count": 59,
   "metadata": {},
   "outputs": [
    {
     "output_type": "execute_result",
     "data": {
      "text/plain": "array([  0,   4,   9,  14,  19,  24,  29,  34,  39,  44,  49,  53,  58,\n        63,  68,  73,  78,  83,  88,  93,  98, 102, 107, 112, 117, 122,\n       127, 132, 137, 142, 147, 152, 156, 161, 166, 171, 176, 181, 186,\n       191, 196, 201, 205, 210, 215, 220, 225, 230, 235, 240, 245, 250,\n       255])"
     },
     "metadata": {},
     "execution_count": 59
    }
   ],
   "source": [
    "np.linspace(0,255,len(df_cur_day),dtype=int)"
   ]
  },
  {
   "cell_type": "code",
   "execution_count": 9,
   "metadata": {
    "tags": []
   },
   "outputs": [],
   "source": [
    "cmap = []\n",
    "for val in np.linspace(0,255,len(df_cur_day),dtype=int):\n",
    "    cmap.append(cc.CET_R2[val])\n",
    "    #print(val)\n",
    "cmap = cc.glasbey_light\n",
    "#https://colorcet.holoviz.org/user_guide/index.html colours"
   ]
  },
  {
   "cell_type": "code",
   "execution_count": 70,
   "metadata": {
    "tags": []
   },
   "outputs": [
    {
     "output_type": "stream",
     "name": "stdout",
     "text": [
      "2017-01-01\n"
     ]
    },
    {
     "output_type": "display_data",
     "data": {
      "application/vnd.plotly.v1+json": {
       "config": {
        "plotlyServerURL": "https://plot.ly"
       },
       "data": [
        {
         "colorscale": [
          [
           0,
           "#d60000"
          ],
          [
           1,
           "#d60000"
          ]
         ],
         "customdata": [
          [
           "MEX",
           "Shakira",
           395069,
           "6mICuAdrwEjh6Y6lroV2Kg"
          ],
          [
           "CHL",
           "Shakira",
           136652,
           "6mICuAdrwEjh6Y6lroV2Kg"
          ],
          [
           "PER",
           "Shakira",
           39602,
           "6mICuAdrwEjh6Y6lroV2Kg"
          ],
          [
           "ESP",
           "Shakira",
           189721,
           "6mICuAdrwEjh6Y6lroV2Kg"
          ],
          [
           "PAN",
           "Shakira",
           9081,
           "6mICuAdrwEjh6Y6lroV2Kg"
          ],
          [
           "ARG",
           "Shakira",
           253019,
           "6mICuAdrwEjh6Y6lroV2Kg"
          ],
          [
           "DOM",
           "Shakira",
           7707,
           "6mICuAdrwEjh6Y6lroV2Kg"
          ],
          [
           "PRY",
           "Shakira",
           8745,
           "6mICuAdrwEjh6Y6lroV2Kg"
          ]
         ],
         "geo": "geo",
         "hovertemplate": "<b>%{hovertext}</b><br><br>Region: %{customdata[0]}<br>Artist: %{customdata[1]}<br>Streams: %{customdata[2]}<extra></extra>",
         "hovertext": [
          "Chantaje",
          "Chantaje",
          "Chantaje",
          "Chantaje",
          "Chantaje",
          "Chantaje",
          "Chantaje",
          "Chantaje"
         ],
         "locations": [
          "MEX",
          "CHL",
          "PER",
          "ESP",
          "PAN",
          "ARG",
          "DOM",
          "PRY"
         ],
         "name": "Chantaje",
         "showlegend": true,
         "showscale": false,
         "type": "choropleth",
         "z": [
          1,
          1,
          1,
          1,
          1,
          1,
          1,
          1
         ]
        },
        {
         "colorscale": [
          [
           0,
           "#018700"
          ],
          [
           1,
           "#018700"
          ]
         ],
         "customdata": [
          [
           "DEU",
           "Clean Bandit",
           229398,
           "5knuzwU65gJK7IF5yJsuaW"
          ],
          [
           "GBR",
           "Clean Bandit",
           272020,
           "5knuzwU65gJK7IF5yJsuaW"
          ],
          [
           "NZL",
           "Clean Bandit",
           28957,
           "5knuzwU65gJK7IF5yJsuaW"
          ],
          [
           "CHE",
           "Clean Bandit",
           14352,
           "5knuzwU65gJK7IF5yJsuaW"
          ],
          [
           "DNK",
           "Clean Bandit",
           50956,
           "5knuzwU65gJK7IF5yJsuaW"
          ],
          [
           "SWE",
           "Clean Bandit",
           129472,
           "5knuzwU65gJK7IF5yJsuaW"
          ],
          [
           "HUN",
           "Clean Bandit",
           6263,
           "5knuzwU65gJK7IF5yJsuaW"
          ],
          [
           "IRL",
           "Clean Bandit",
           24914,
           "5knuzwU65gJK7IF5yJsuaW"
          ],
          [
           "ITA",
           "Clean Bandit",
           71014,
           "5knuzwU65gJK7IF5yJsuaW"
          ]
         ],
         "geo": "geo",
         "hovertemplate": "<b>%{hovertext}</b><br><br>Region: %{customdata[0]}<br>Artist: %{customdata[1]}<br>Streams: %{customdata[2]}<extra></extra>",
         "hovertext": [
          "Rockabye (feat. Sean Paul & Anne-Marie)",
          "Rockabye (feat. Sean Paul & Anne-Marie)",
          "Rockabye (feat. Sean Paul & Anne-Marie)",
          "Rockabye (feat. Sean Paul & Anne-Marie)",
          "Rockabye (feat. Sean Paul & Anne-Marie)",
          "Rockabye (feat. Sean Paul & Anne-Marie)",
          "Rockabye (feat. Sean Paul & Anne-Marie)",
          "Rockabye (feat. Sean Paul & Anne-Marie)",
          "Rockabye (feat. Sean Paul & Anne-Marie)"
         ],
         "locations": [
          "DEU",
          "GBR",
          "NZL",
          "CHE",
          "DNK",
          "SWE",
          "HUN",
          "IRL",
          "ITA"
         ],
         "name": "Rockabye (feat. Sean Paul & Anne-Marie)",
         "showlegend": true,
         "showscale": false,
         "type": "choropleth",
         "z": [
          1,
          1,
          1,
          1,
          1,
          1,
          1,
          1,
          1
         ]
        },
        {
         "colorscale": [
          [
           0,
           "#b500ff"
          ],
          [
           1,
           "#b500ff"
          ]
         ],
         "customdata": [
          [
           "NOR",
           "Alan Walker",
           103886,
           "0JiVRyTJcJnmlwCZ854K4p"
          ],
          [
           "AUT",
           "Alan Walker",
           12990,
           "0JiVRyTJcJnmlwCZ854K4p"
          ]
         ],
         "geo": "geo",
         "hovertemplate": "<b>%{hovertext}</b><br><br>Region: %{customdata[0]}<br>Artist: %{customdata[1]}<br>Streams: %{customdata[2]}<extra></extra>",
         "hovertext": [
          "Alone",
          "Alone"
         ],
         "locations": [
          "NOR",
          "AUT"
         ],
         "name": "Alone",
         "showlegend": true,
         "showscale": false,
         "type": "choropleth",
         "z": [
          1,
          1
         ]
        },
        {
         "colorscale": [
          [
           0,
           "#05acc6"
          ],
          [
           1,
           "#05acc6"
          ]
         ],
         "customdata": [
          [
           "LVA",
           "The Weeknd",
           2059,
           "5aAx2yezTd8zXrkmtKl66Z"
          ],
          [
           "GRC",
           "The Weeknd",
           4209,
           "5aAx2yezTd8zXrkmtKl66Z"
          ],
          [
           "SVK",
           "The Weeknd",
           2197,
           "5aAx2yezTd8zXrkmtKl66Z"
          ],
          [
           "CAN",
           "The Weeknd",
           139175,
           "5aAx2yezTd8zXrkmtKl66Z"
          ],
          [
           "AUS",
           "The Weeknd",
           107350,
           "5aAx2yezTd8zXrkmtKl66Z"
          ],
          [
           "ISL",
           "The Weeknd",
           3311,
           "5aAx2yezTd8zXrkmtKl66Z"
          ],
          [
           "PRT",
           "The Weeknd",
           15397,
           "5aAx2yezTd8zXrkmtKl66Z"
          ],
          [
           "LUX",
           "The Weeknd",
           1020,
           "5aAx2yezTd8zXrkmtKl66Z"
          ],
          [
           "EST",
           "The Weeknd",
           1950,
           "5aAx2yezTd8zXrkmtKl66Z"
          ],
          [
           "LTU",
           "The Weeknd",
           2583,
           "5aAx2yezTd8zXrkmtKl66Z"
          ]
         ],
         "geo": "geo",
         "hovertemplate": "<b>%{hovertext}</b><br><br>Region: %{customdata[0]}<br>Artist: %{customdata[1]}<br>Streams: %{customdata[2]}<extra></extra>",
         "hovertext": [
          "Starboy",
          "Starboy",
          "Starboy",
          "Starboy",
          "Starboy",
          "Starboy",
          "Starboy",
          "Starboy",
          "Starboy",
          "Starboy"
         ],
         "locations": [
          "LVA",
          "GRC",
          "SVK",
          "CAN",
          "AUS",
          "ISL",
          "PRT",
          "LUX",
          "EST",
          "LTU"
         ],
         "name": "Starboy",
         "showlegend": true,
         "showscale": false,
         "type": "choropleth",
         "z": [
          1,
          1,
          1,
          1,
          1,
          1,
          1,
          1,
          1,
          1
         ]
        },
        {
         "colorscale": [
          [
           0,
           "#97ff00"
          ],
          [
           1,
           "#97ff00"
          ]
         ],
         "customdata": [
          [
           "HKG",
           "The Chainsmokers",
           12831,
           "7BKLCZ1jbUBVqRi2FVlTVw"
          ],
          [
           "TWN",
           "The Chainsmokers",
           18651,
           "7BKLCZ1jbUBVqRi2FVlTVw"
          ],
          [
           "IDN",
           "The Chainsmokers",
           45330,
           "7BKLCZ1jbUBVqRi2FVlTVw"
          ],
          [
           "CZE",
           "The Chainsmokers",
           6406,
           "7BKLCZ1jbUBVqRi2FVlTVw"
          ],
          [
           "MYS",
           "The Chainsmokers",
           27062,
           "7BKLCZ1jbUBVqRi2FVlTVw"
          ],
          [
           "SGP",
           "The Chainsmokers",
           30142,
           "7BKLCZ1jbUBVqRi2FVlTVw"
          ],
          [
           "JPN",
           "The Chainsmokers",
           6342,
           "7BKLCZ1jbUBVqRi2FVlTVw"
          ]
         ],
         "geo": "geo",
         "hovertemplate": "<b>%{hovertext}</b><br><br>Region: %{customdata[0]}<br>Artist: %{customdata[1]}<br>Streams: %{customdata[2]}<extra></extra>",
         "hovertext": [
          "Closer",
          "Closer",
          "Closer",
          "Closer",
          "Closer",
          "Closer",
          "Closer"
         ],
         "locations": [
          "HKG",
          "TWN",
          "IDN",
          "CZE",
          "MYS",
          "SGP",
          "JPN"
         ],
         "name": "Closer",
         "showlegend": true,
         "showscale": false,
         "type": "choropleth",
         "z": [
          1,
          1,
          1,
          1,
          1,
          1,
          1
         ]
        },
        {
         "colorscale": [
          [
           0,
           "#ffa52f"
          ],
          [
           1,
           "#ffa52f"
          ]
         ],
         "customdata": [
          [
           "BRA",
           "MC G15",
           612271,
           "0EPxmvsG1BY5td4aTOkWBF"
          ]
         ],
         "geo": "geo",
         "hovertemplate": "<b>%{hovertext}</b><br><br>Region: %{customdata[0]}<br>Artist: %{customdata[1]}<br>Streams: %{customdata[2]}<extra></extra>",
         "hovertext": [
          "Deu Onda"
         ],
         "locations": [
          "BRA"
         ],
         "name": "Deu Onda",
         "showlegend": true,
         "showscale": false,
         "type": "choropleth",
         "z": [
          1
         ]
        },
        {
         "colorscale": [
          [
           0,
           "#ff8ec8"
          ],
          [
           1,
           "#ff8ec8"
          ]
         ],
         "customdata": [
          [
           "GTM",
           "CNCO",
           9124,
           "3AEZUABDXNtecAOSC1qTfo"
          ],
          [
           "CRI",
           "CNCO",
           20171,
           "3AEZUABDXNtecAOSC1qTfo"
          ],
          [
           "SLV",
           "CNCO",
           5981,
           "3AEZUABDXNtecAOSC1qTfo"
          ],
          [
           "ECU",
           "CNCO",
           19272,
           "3AEZUABDXNtecAOSC1qTfo"
          ],
          [
           "BOL",
           "CNCO",
           6784,
           "3AEZUABDXNtecAOSC1qTfo"
          ]
         ],
         "geo": "geo",
         "hovertemplate": "<b>%{hovertext}</b><br><br>Region: %{customdata[0]}<br>Artist: %{customdata[1]}<br>Streams: %{customdata[2]}<extra></extra>",
         "hovertext": [
          "Reggaetón Lento (Bailemos)",
          "Reggaetón Lento (Bailemos)",
          "Reggaetón Lento (Bailemos)",
          "Reggaetón Lento (Bailemos)",
          "Reggaetón Lento (Bailemos)"
         ],
         "locations": [
          "GTM",
          "CRI",
          "SLV",
          "ECU",
          "BOL"
         ],
         "name": "Reggaetón Lento (Bailemos)",
         "showlegend": true,
         "showscale": false,
         "type": "choropleth",
         "z": [
          1,
          1,
          1,
          1,
          1
         ]
        },
        {
         "colorscale": [
          [
           0,
           "#79525e"
          ],
          [
           1,
           "#79525e"
          ]
         ],
         "customdata": [
          [
           "NLD",
           "Ronnie Flex",
           112252,
           "1riPE3NCV1OBmSXqpYiMJY"
          ]
         ],
         "geo": "geo",
         "hovertemplate": "<b>%{hovertext}</b><br><br>Region: %{customdata[0]}<br>Artist: %{customdata[1]}<br>Streams: %{customdata[2]}<extra></extra>",
         "hovertext": [
          "Energie"
         ],
         "locations": [
          "NLD"
         ],
         "name": "Energie",
         "showlegend": true,
         "showscale": false,
         "type": "choropleth",
         "z": [
          1
         ]
        },
        {
         "colorscale": [
          [
           0,
           "#00fdcf"
          ],
          [
           1,
           "#00fdcf"
          ]
         ],
         "customdata": [
          [
           "POL",
           "DJ Snake",
           26290,
           "4pdPtRcBmOSQDlJ3Fk945m"
          ]
         ],
         "geo": "geo",
         "hovertemplate": "<b>%{hovertext}</b><br><br>Region: %{customdata[0]}<br>Artist: %{customdata[1]}<br>Streams: %{customdata[2]}<extra></extra>",
         "hovertext": [
          "Let Me Love You"
         ],
         "locations": [
          "POL"
         ],
         "name": "Let Me Love You",
         "showlegend": true,
         "showscale": false,
         "type": "choropleth",
         "z": [
          1
         ]
        },
        {
         "colorscale": [
          [
           0,
           "#afa5ff"
          ],
          [
           1,
           "#afa5ff"
          ]
         ],
         "customdata": [
          [
           "PHL",
           "Bruno Mars",
           185236,
           "0kN8xEmgMW9mh7UmDYHlJP"
          ]
         ],
         "geo": "geo",
         "hovertemplate": "<b>%{hovertext}</b><br><br>Region: %{customdata[0]}<br>Artist: %{customdata[1]}<br>Streams: %{customdata[2]}<extra></extra>",
         "hovertext": [
          "Versace On The Floor"
         ],
         "locations": [
          "PHL"
         ],
         "name": "Versace On The Floor",
         "showlegend": true,
         "showscale": false,
         "type": "choropleth",
         "z": [
          1
         ]
        },
        {
         "colorscale": [
          [
           0,
           "#93ac83"
          ],
          [
           1,
           "#93ac83"
          ]
         ],
         "customdata": [
          [
           "TUR",
           "Çağatay Akman",
           80607,
           "3P31rcl0ym5paqRdwSiZps"
          ]
         ],
         "geo": "geo",
         "hovertemplate": "<b>%{hovertext}</b><br><br>Region: %{customdata[0]}<br>Artist: %{customdata[1]}<br>Streams: %{customdata[2]}<extra></extra>",
         "hovertext": [
          "Gece Gölgenin Rahatına Bak"
         ],
         "locations": [
          "TUR"
         ],
         "name": "Gece Gölgenin Rahatına Bak",
         "showlegend": true,
         "showscale": false,
         "type": "choropleth",
         "z": [
          1
         ]
        },
        {
         "colorscale": [
          [
           0,
           "#9a6900"
          ],
          [
           1,
           "#9a6900"
          ]
         ],
         "customdata": [
          [
           "USA",
           "Migos",
           1371493,
           "4Km5HrUvYTaSUfiSGPJeQR"
          ]
         ],
         "geo": "geo",
         "hovertemplate": "<b>%{hovertext}</b><br><br>Region: %{customdata[0]}<br>Artist: %{customdata[1]}<br>Streams: %{customdata[2]}<extra></extra>",
         "hovertext": [
          "Bad and Boujee (feat. Lil Uzi Vert)"
         ],
         "locations": [
          "USA"
         ],
         "name": "Bad and Boujee (feat. Lil Uzi Vert)",
         "showlegend": true,
         "showscale": false,
         "type": "choropleth",
         "z": [
          1
         ]
        },
        {
         "colorscale": [
          [
           0,
           "#366962"
          ],
          [
           1,
           "#366962"
          ]
         ],
         "customdata": [
          [
           "FRA",
           "Drake",
           89403,
           "1xznGGDReH1oQq0xzbwXa3"
          ]
         ],
         "geo": "geo",
         "hovertemplate": "<b>%{hovertext}</b><br><br>Region: %{customdata[0]}<br>Artist: %{customdata[1]}<br>Streams: %{customdata[2]}<extra></extra>",
         "hovertext": [
          "One Dance"
         ],
         "locations": [
          "FRA"
         ],
         "name": "One Dance",
         "showlegend": true,
         "showscale": false,
         "type": "choropleth",
         "z": [
          1
         ]
        },
        {
         "colorscale": [
          [
           0,
           "#d3008c"
          ],
          [
           1,
           "#d3008c"
          ]
         ],
         "customdata": [
          [
           "HND",
           "Zion & Lennox",
           6762,
           "3QwBODjSEzelZyVjxPOHdq"
          ],
          [
           "COL",
           "Zion & Lennox",
           38341,
           "3QwBODjSEzelZyVjxPOHdq"
          ]
         ],
         "geo": "geo",
         "hovertemplate": "<b>%{hovertext}</b><br><br>Region: %{customdata[0]}<br>Artist: %{customdata[1]}<br>Streams: %{customdata[2]}<extra></extra>",
         "hovertext": [
          "Otra Vez (feat. J Balvin)",
          "Otra Vez (feat. J Balvin)"
         ],
         "locations": [
          "HND",
          "COL"
         ],
         "name": "Otra Vez (feat. J Balvin)",
         "showlegend": true,
         "showscale": false,
         "type": "choropleth",
         "z": [
          1,
          1
         ]
        },
        {
         "colorscale": [
          [
           0,
           "#fdf490"
          ],
          [
           1,
           "#fdf490"
          ]
         ],
         "customdata": [
          [
           "BEL",
           "Dimitri Vegas & Like Mike",
           23277,
           "6yc377A8qxHIjPUcjGD4ET"
          ]
         ],
         "geo": "geo",
         "hovertemplate": "<b>%{hovertext}</b><br><br>Region: %{customdata[0]}<br>Artist: %{customdata[1]}<br>Streams: %{customdata[2]}<extra></extra>",
         "hovertext": [
          "Hey Baby"
         ],
         "locations": [
          "BEL"
         ],
         "name": "Hey Baby",
         "showlegend": true,
         "showscale": false,
         "type": "choropleth",
         "z": [
          1
         ]
        }
       ],
       "layout": {
        "geo": {
         "center": {},
         "domain": {
          "x": [
           0,
           1
          ],
          "y": [
           0,
           1
          ]
         }
        },
        "legend": {
         "title": {
          "text": "Song name"
         },
         "tracegroupgap": 0
        },
        "margin": {
         "t": 60
        },
        "showlegend": true,
        "template": {
         "data": {
          "bar": [
           {
            "error_x": {
             "color": "rgb(36,36,36)"
            },
            "error_y": {
             "color": "rgb(36,36,36)"
            },
            "marker": {
             "line": {
              "color": "rgb(234,234,242)",
              "width": 0.5
             }
            },
            "type": "bar"
           }
          ],
          "barpolar": [
           {
            "marker": {
             "line": {
              "color": "rgb(234,234,242)",
              "width": 0.5
             }
            },
            "type": "barpolar"
           }
          ],
          "carpet": [
           {
            "aaxis": {
             "endlinecolor": "rgb(36,36,36)",
             "gridcolor": "white",
             "linecolor": "white",
             "minorgridcolor": "white",
             "startlinecolor": "rgb(36,36,36)"
            },
            "baxis": {
             "endlinecolor": "rgb(36,36,36)",
             "gridcolor": "white",
             "linecolor": "white",
             "minorgridcolor": "white",
             "startlinecolor": "rgb(36,36,36)"
            },
            "type": "carpet"
           }
          ],
          "choropleth": [
           {
            "colorbar": {
             "outlinewidth": 0,
             "tickcolor": "rgb(36,36,36)",
             "ticklen": 8,
             "ticks": "outside",
             "tickwidth": 2
            },
            "type": "choropleth"
           }
          ],
          "contour": [
           {
            "colorbar": {
             "outlinewidth": 0,
             "tickcolor": "rgb(36,36,36)",
             "ticklen": 8,
             "ticks": "outside",
             "tickwidth": 2
            },
            "colorscale": [
             [
              0,
              "rgb(2,4,25)"
             ],
             [
              0.06274509803921569,
              "rgb(24,15,41)"
             ],
             [
              0.12549019607843137,
              "rgb(47,23,57)"
             ],
             [
              0.18823529411764706,
              "rgb(71,28,72)"
             ],
             [
              0.25098039215686274,
              "rgb(97,30,82)"
             ],
             [
              0.3137254901960784,
              "rgb(123,30,89)"
             ],
             [
              0.3764705882352941,
              "rgb(150,27,91)"
             ],
             [
              0.4392156862745098,
              "rgb(177,22,88)"
             ],
             [
              0.5019607843137255,
              "rgb(203,26,79)"
             ],
             [
              0.5647058823529412,
              "rgb(223,47,67)"
             ],
             [
              0.6274509803921569,
              "rgb(236,76,61)"
             ],
             [
              0.6901960784313725,
              "rgb(242,107,73)"
             ],
             [
              0.7529411764705882,
              "rgb(244,135,95)"
             ],
             [
              0.8156862745098039,
              "rgb(245,162,122)"
             ],
             [
              0.8784313725490196,
              "rgb(246,188,153)"
             ],
             [
              0.9411764705882353,
              "rgb(247,212,187)"
             ],
             [
              1,
              "rgb(250,234,220)"
             ]
            ],
            "type": "contour"
           }
          ],
          "contourcarpet": [
           {
            "colorbar": {
             "outlinewidth": 0,
             "tickcolor": "rgb(36,36,36)",
             "ticklen": 8,
             "ticks": "outside",
             "tickwidth": 2
            },
            "type": "contourcarpet"
           }
          ],
          "heatmap": [
           {
            "colorbar": {
             "outlinewidth": 0,
             "tickcolor": "rgb(36,36,36)",
             "ticklen": 8,
             "ticks": "outside",
             "tickwidth": 2
            },
            "colorscale": [
             [
              0,
              "rgb(2,4,25)"
             ],
             [
              0.06274509803921569,
              "rgb(24,15,41)"
             ],
             [
              0.12549019607843137,
              "rgb(47,23,57)"
             ],
             [
              0.18823529411764706,
              "rgb(71,28,72)"
             ],
             [
              0.25098039215686274,
              "rgb(97,30,82)"
             ],
             [
              0.3137254901960784,
              "rgb(123,30,89)"
             ],
             [
              0.3764705882352941,
              "rgb(150,27,91)"
             ],
             [
              0.4392156862745098,
              "rgb(177,22,88)"
             ],
             [
              0.5019607843137255,
              "rgb(203,26,79)"
             ],
             [
              0.5647058823529412,
              "rgb(223,47,67)"
             ],
             [
              0.6274509803921569,
              "rgb(236,76,61)"
             ],
             [
              0.6901960784313725,
              "rgb(242,107,73)"
             ],
             [
              0.7529411764705882,
              "rgb(244,135,95)"
             ],
             [
              0.8156862745098039,
              "rgb(245,162,122)"
             ],
             [
              0.8784313725490196,
              "rgb(246,188,153)"
             ],
             [
              0.9411764705882353,
              "rgb(247,212,187)"
             ],
             [
              1,
              "rgb(250,234,220)"
             ]
            ],
            "type": "heatmap"
           }
          ],
          "heatmapgl": [
           {
            "colorbar": {
             "outlinewidth": 0,
             "tickcolor": "rgb(36,36,36)",
             "ticklen": 8,
             "ticks": "outside",
             "tickwidth": 2
            },
            "colorscale": [
             [
              0,
              "rgb(2,4,25)"
             ],
             [
              0.06274509803921569,
              "rgb(24,15,41)"
             ],
             [
              0.12549019607843137,
              "rgb(47,23,57)"
             ],
             [
              0.18823529411764706,
              "rgb(71,28,72)"
             ],
             [
              0.25098039215686274,
              "rgb(97,30,82)"
             ],
             [
              0.3137254901960784,
              "rgb(123,30,89)"
             ],
             [
              0.3764705882352941,
              "rgb(150,27,91)"
             ],
             [
              0.4392156862745098,
              "rgb(177,22,88)"
             ],
             [
              0.5019607843137255,
              "rgb(203,26,79)"
             ],
             [
              0.5647058823529412,
              "rgb(223,47,67)"
             ],
             [
              0.6274509803921569,
              "rgb(236,76,61)"
             ],
             [
              0.6901960784313725,
              "rgb(242,107,73)"
             ],
             [
              0.7529411764705882,
              "rgb(244,135,95)"
             ],
             [
              0.8156862745098039,
              "rgb(245,162,122)"
             ],
             [
              0.8784313725490196,
              "rgb(246,188,153)"
             ],
             [
              0.9411764705882353,
              "rgb(247,212,187)"
             ],
             [
              1,
              "rgb(250,234,220)"
             ]
            ],
            "type": "heatmapgl"
           }
          ],
          "histogram": [
           {
            "marker": {
             "colorbar": {
              "outlinewidth": 0,
              "tickcolor": "rgb(36,36,36)",
              "ticklen": 8,
              "ticks": "outside",
              "tickwidth": 2
             }
            },
            "type": "histogram"
           }
          ],
          "histogram2d": [
           {
            "colorbar": {
             "outlinewidth": 0,
             "tickcolor": "rgb(36,36,36)",
             "ticklen": 8,
             "ticks": "outside",
             "tickwidth": 2
            },
            "colorscale": [
             [
              0,
              "rgb(2,4,25)"
             ],
             [
              0.06274509803921569,
              "rgb(24,15,41)"
             ],
             [
              0.12549019607843137,
              "rgb(47,23,57)"
             ],
             [
              0.18823529411764706,
              "rgb(71,28,72)"
             ],
             [
              0.25098039215686274,
              "rgb(97,30,82)"
             ],
             [
              0.3137254901960784,
              "rgb(123,30,89)"
             ],
             [
              0.3764705882352941,
              "rgb(150,27,91)"
             ],
             [
              0.4392156862745098,
              "rgb(177,22,88)"
             ],
             [
              0.5019607843137255,
              "rgb(203,26,79)"
             ],
             [
              0.5647058823529412,
              "rgb(223,47,67)"
             ],
             [
              0.6274509803921569,
              "rgb(236,76,61)"
             ],
             [
              0.6901960784313725,
              "rgb(242,107,73)"
             ],
             [
              0.7529411764705882,
              "rgb(244,135,95)"
             ],
             [
              0.8156862745098039,
              "rgb(245,162,122)"
             ],
             [
              0.8784313725490196,
              "rgb(246,188,153)"
             ],
             [
              0.9411764705882353,
              "rgb(247,212,187)"
             ],
             [
              1,
              "rgb(250,234,220)"
             ]
            ],
            "type": "histogram2d"
           }
          ],
          "histogram2dcontour": [
           {
            "colorbar": {
             "outlinewidth": 0,
             "tickcolor": "rgb(36,36,36)",
             "ticklen": 8,
             "ticks": "outside",
             "tickwidth": 2
            },
            "colorscale": [
             [
              0,
              "rgb(2,4,25)"
             ],
             [
              0.06274509803921569,
              "rgb(24,15,41)"
             ],
             [
              0.12549019607843137,
              "rgb(47,23,57)"
             ],
             [
              0.18823529411764706,
              "rgb(71,28,72)"
             ],
             [
              0.25098039215686274,
              "rgb(97,30,82)"
             ],
             [
              0.3137254901960784,
              "rgb(123,30,89)"
             ],
             [
              0.3764705882352941,
              "rgb(150,27,91)"
             ],
             [
              0.4392156862745098,
              "rgb(177,22,88)"
             ],
             [
              0.5019607843137255,
              "rgb(203,26,79)"
             ],
             [
              0.5647058823529412,
              "rgb(223,47,67)"
             ],
             [
              0.6274509803921569,
              "rgb(236,76,61)"
             ],
             [
              0.6901960784313725,
              "rgb(242,107,73)"
             ],
             [
              0.7529411764705882,
              "rgb(244,135,95)"
             ],
             [
              0.8156862745098039,
              "rgb(245,162,122)"
             ],
             [
              0.8784313725490196,
              "rgb(246,188,153)"
             ],
             [
              0.9411764705882353,
              "rgb(247,212,187)"
             ],
             [
              1,
              "rgb(250,234,220)"
             ]
            ],
            "type": "histogram2dcontour"
           }
          ],
          "mesh3d": [
           {
            "colorbar": {
             "outlinewidth": 0,
             "tickcolor": "rgb(36,36,36)",
             "ticklen": 8,
             "ticks": "outside",
             "tickwidth": 2
            },
            "type": "mesh3d"
           }
          ],
          "parcoords": [
           {
            "line": {
             "colorbar": {
              "outlinewidth": 0,
              "tickcolor": "rgb(36,36,36)",
              "ticklen": 8,
              "ticks": "outside",
              "tickwidth": 2
             }
            },
            "type": "parcoords"
           }
          ],
          "pie": [
           {
            "automargin": true,
            "type": "pie"
           }
          ],
          "scatter": [
           {
            "marker": {
             "colorbar": {
              "outlinewidth": 0,
              "tickcolor": "rgb(36,36,36)",
              "ticklen": 8,
              "ticks": "outside",
              "tickwidth": 2
             }
            },
            "type": "scatter"
           }
          ],
          "scatter3d": [
           {
            "line": {
             "colorbar": {
              "outlinewidth": 0,
              "tickcolor": "rgb(36,36,36)",
              "ticklen": 8,
              "ticks": "outside",
              "tickwidth": 2
             }
            },
            "marker": {
             "colorbar": {
              "outlinewidth": 0,
              "tickcolor": "rgb(36,36,36)",
              "ticklen": 8,
              "ticks": "outside",
              "tickwidth": 2
             }
            },
            "type": "scatter3d"
           }
          ],
          "scattercarpet": [
           {
            "marker": {
             "colorbar": {
              "outlinewidth": 0,
              "tickcolor": "rgb(36,36,36)",
              "ticklen": 8,
              "ticks": "outside",
              "tickwidth": 2
             }
            },
            "type": "scattercarpet"
           }
          ],
          "scattergeo": [
           {
            "marker": {
             "colorbar": {
              "outlinewidth": 0,
              "tickcolor": "rgb(36,36,36)",
              "ticklen": 8,
              "ticks": "outside",
              "tickwidth": 2
             }
            },
            "type": "scattergeo"
           }
          ],
          "scattergl": [
           {
            "marker": {
             "colorbar": {
              "outlinewidth": 0,
              "tickcolor": "rgb(36,36,36)",
              "ticklen": 8,
              "ticks": "outside",
              "tickwidth": 2
             }
            },
            "type": "scattergl"
           }
          ],
          "scattermapbox": [
           {
            "marker": {
             "colorbar": {
              "outlinewidth": 0,
              "tickcolor": "rgb(36,36,36)",
              "ticklen": 8,
              "ticks": "outside",
              "tickwidth": 2
             }
            },
            "type": "scattermapbox"
           }
          ],
          "scatterpolar": [
           {
            "marker": {
             "colorbar": {
              "outlinewidth": 0,
              "tickcolor": "rgb(36,36,36)",
              "ticklen": 8,
              "ticks": "outside",
              "tickwidth": 2
             }
            },
            "type": "scatterpolar"
           }
          ],
          "scatterpolargl": [
           {
            "marker": {
             "colorbar": {
              "outlinewidth": 0,
              "tickcolor": "rgb(36,36,36)",
              "ticklen": 8,
              "ticks": "outside",
              "tickwidth": 2
             }
            },
            "type": "scatterpolargl"
           }
          ],
          "scatterternary": [
           {
            "marker": {
             "colorbar": {
              "outlinewidth": 0,
              "tickcolor": "rgb(36,36,36)",
              "ticklen": 8,
              "ticks": "outside",
              "tickwidth": 2
             }
            },
            "type": "scatterternary"
           }
          ],
          "surface": [
           {
            "colorbar": {
             "outlinewidth": 0,
             "tickcolor": "rgb(36,36,36)",
             "ticklen": 8,
             "ticks": "outside",
             "tickwidth": 2
            },
            "colorscale": [
             [
              0,
              "rgb(2,4,25)"
             ],
             [
              0.06274509803921569,
              "rgb(24,15,41)"
             ],
             [
              0.12549019607843137,
              "rgb(47,23,57)"
             ],
             [
              0.18823529411764706,
              "rgb(71,28,72)"
             ],
             [
              0.25098039215686274,
              "rgb(97,30,82)"
             ],
             [
              0.3137254901960784,
              "rgb(123,30,89)"
             ],
             [
              0.3764705882352941,
              "rgb(150,27,91)"
             ],
             [
              0.4392156862745098,
              "rgb(177,22,88)"
             ],
             [
              0.5019607843137255,
              "rgb(203,26,79)"
             ],
             [
              0.5647058823529412,
              "rgb(223,47,67)"
             ],
             [
              0.6274509803921569,
              "rgb(236,76,61)"
             ],
             [
              0.6901960784313725,
              "rgb(242,107,73)"
             ],
             [
              0.7529411764705882,
              "rgb(244,135,95)"
             ],
             [
              0.8156862745098039,
              "rgb(245,162,122)"
             ],
             [
              0.8784313725490196,
              "rgb(246,188,153)"
             ],
             [
              0.9411764705882353,
              "rgb(247,212,187)"
             ],
             [
              1,
              "rgb(250,234,220)"
             ]
            ],
            "type": "surface"
           }
          ],
          "table": [
           {
            "cells": {
             "fill": {
              "color": "rgb(231,231,240)"
             },
             "line": {
              "color": "white"
             }
            },
            "header": {
             "fill": {
              "color": "rgb(183,183,191)"
             },
             "line": {
              "color": "white"
             }
            },
            "type": "table"
           }
          ]
         },
         "layout": {
          "annotationdefaults": {
           "arrowcolor": "rgb(67,103,167)"
          },
          "coloraxis": {
           "colorbar": {
            "outlinewidth": 0,
            "tickcolor": "rgb(36,36,36)",
            "ticklen": 8,
            "ticks": "outside",
            "tickwidth": 2
           }
          },
          "colorscale": {
           "sequential": [
            [
             0,
             "rgb(2,4,25)"
            ],
            [
             0.06274509803921569,
             "rgb(24,15,41)"
            ],
            [
             0.12549019607843137,
             "rgb(47,23,57)"
            ],
            [
             0.18823529411764706,
             "rgb(71,28,72)"
            ],
            [
             0.25098039215686274,
             "rgb(97,30,82)"
            ],
            [
             0.3137254901960784,
             "rgb(123,30,89)"
            ],
            [
             0.3764705882352941,
             "rgb(150,27,91)"
            ],
            [
             0.4392156862745098,
             "rgb(177,22,88)"
            ],
            [
             0.5019607843137255,
             "rgb(203,26,79)"
            ],
            [
             0.5647058823529412,
             "rgb(223,47,67)"
            ],
            [
             0.6274509803921569,
             "rgb(236,76,61)"
            ],
            [
             0.6901960784313725,
             "rgb(242,107,73)"
            ],
            [
             0.7529411764705882,
             "rgb(244,135,95)"
            ],
            [
             0.8156862745098039,
             "rgb(245,162,122)"
            ],
            [
             0.8784313725490196,
             "rgb(246,188,153)"
            ],
            [
             0.9411764705882353,
             "rgb(247,212,187)"
            ],
            [
             1,
             "rgb(250,234,220)"
            ]
           ],
           "sequentialminus": [
            [
             0,
             "rgb(2,4,25)"
            ],
            [
             0.06274509803921569,
             "rgb(24,15,41)"
            ],
            [
             0.12549019607843137,
             "rgb(47,23,57)"
            ],
            [
             0.18823529411764706,
             "rgb(71,28,72)"
            ],
            [
             0.25098039215686274,
             "rgb(97,30,82)"
            ],
            [
             0.3137254901960784,
             "rgb(123,30,89)"
            ],
            [
             0.3764705882352941,
             "rgb(150,27,91)"
            ],
            [
             0.4392156862745098,
             "rgb(177,22,88)"
            ],
            [
             0.5019607843137255,
             "rgb(203,26,79)"
            ],
            [
             0.5647058823529412,
             "rgb(223,47,67)"
            ],
            [
             0.6274509803921569,
             "rgb(236,76,61)"
            ],
            [
             0.6901960784313725,
             "rgb(242,107,73)"
            ],
            [
             0.7529411764705882,
             "rgb(244,135,95)"
            ],
            [
             0.8156862745098039,
             "rgb(245,162,122)"
            ],
            [
             0.8784313725490196,
             "rgb(246,188,153)"
            ],
            [
             0.9411764705882353,
             "rgb(247,212,187)"
            ],
            [
             1,
             "rgb(250,234,220)"
            ]
           ]
          },
          "colorway": [
           "rgb(76,114,176)",
           "rgb(221,132,82)",
           "rgb(85,168,104)",
           "rgb(196,78,82)",
           "rgb(129,114,179)",
           "rgb(147,120,96)",
           "rgb(218,139,195)",
           "rgb(140,140,140)",
           "rgb(204,185,116)",
           "rgb(100,181,205)"
          ],
          "font": {
           "color": "rgb(36,36,36)"
          },
          "geo": {
           "bgcolor": "white",
           "lakecolor": "white",
           "landcolor": "rgb(234,234,242)",
           "showlakes": true,
           "showland": true,
           "subunitcolor": "white"
          },
          "hoverlabel": {
           "align": "left"
          },
          "hovermode": "closest",
          "paper_bgcolor": "white",
          "plot_bgcolor": "rgb(234,234,242)",
          "polar": {
           "angularaxis": {
            "gridcolor": "white",
            "linecolor": "white",
            "showgrid": true,
            "ticks": ""
           },
           "bgcolor": "rgb(234,234,242)",
           "radialaxis": {
            "gridcolor": "white",
            "linecolor": "white",
            "showgrid": true,
            "ticks": ""
           }
          },
          "scene": {
           "xaxis": {
            "backgroundcolor": "rgb(234,234,242)",
            "gridcolor": "white",
            "gridwidth": 2,
            "linecolor": "white",
            "showbackground": true,
            "showgrid": true,
            "ticks": "",
            "zerolinecolor": "white"
           },
           "yaxis": {
            "backgroundcolor": "rgb(234,234,242)",
            "gridcolor": "white",
            "gridwidth": 2,
            "linecolor": "white",
            "showbackground": true,
            "showgrid": true,
            "ticks": "",
            "zerolinecolor": "white"
           },
           "zaxis": {
            "backgroundcolor": "rgb(234,234,242)",
            "gridcolor": "white",
            "gridwidth": 2,
            "linecolor": "white",
            "showbackground": true,
            "showgrid": true,
            "ticks": "",
            "zerolinecolor": "white"
           }
          },
          "shapedefaults": {
           "fillcolor": "rgb(67,103,167)",
           "line": {
            "width": 0
           },
           "opacity": 0.5
          },
          "ternary": {
           "aaxis": {
            "gridcolor": "white",
            "linecolor": "white",
            "showgrid": true,
            "ticks": ""
           },
           "baxis": {
            "gridcolor": "white",
            "linecolor": "white",
            "showgrid": true,
            "ticks": ""
           },
           "bgcolor": "rgb(234,234,242)",
           "caxis": {
            "gridcolor": "white",
            "linecolor": "white",
            "showgrid": true,
            "ticks": ""
           }
          },
          "xaxis": {
           "automargin": true,
           "gridcolor": "white",
           "linecolor": "white",
           "showgrid": true,
           "ticks": "",
           "title": {
            "standoff": 15
           },
           "zerolinecolor": "white"
          },
          "yaxis": {
           "automargin": true,
           "gridcolor": "white",
           "linecolor": "white",
           "showgrid": true,
           "ticks": "",
           "title": {
            "standoff": 15
           },
           "zerolinecolor": "white"
          }
         }
        }
       }
      },
      "text/html": "<div>                            <div id=\"51b49db6-11f4-41b7-936e-a57b9a5f1114\" class=\"plotly-graph-div\" style=\"height:525px; width:100%;\"></div>            <script type=\"text/javascript\">                require([\"plotly\"], function(Plotly) {                    window.PLOTLYENV=window.PLOTLYENV || {};                                    if (document.getElementById(\"51b49db6-11f4-41b7-936e-a57b9a5f1114\")) {                    Plotly.newPlot(                        \"51b49db6-11f4-41b7-936e-a57b9a5f1114\",                        [{\"colorscale\": [[0.0, \"#d60000\"], [1.0, \"#d60000\"]], \"customdata\": [[\"MEX\", \"Shakira\", 395069, \"6mICuAdrwEjh6Y6lroV2Kg\"], [\"CHL\", \"Shakira\", 136652, \"6mICuAdrwEjh6Y6lroV2Kg\"], [\"PER\", \"Shakira\", 39602, \"6mICuAdrwEjh6Y6lroV2Kg\"], [\"ESP\", \"Shakira\", 189721, \"6mICuAdrwEjh6Y6lroV2Kg\"], [\"PAN\", \"Shakira\", 9081, \"6mICuAdrwEjh6Y6lroV2Kg\"], [\"ARG\", \"Shakira\", 253019, \"6mICuAdrwEjh6Y6lroV2Kg\"], [\"DOM\", \"Shakira\", 7707, \"6mICuAdrwEjh6Y6lroV2Kg\"], [\"PRY\", \"Shakira\", 8745, \"6mICuAdrwEjh6Y6lroV2Kg\"]], \"geo\": \"geo\", \"hovertemplate\": \"<b>%{hovertext}</b><br><br>Region: %{customdata[0]}<br>Artist: %{customdata[1]}<br>Streams: %{customdata[2]}<extra></extra>\", \"hovertext\": [\"Chantaje\", \"Chantaje\", \"Chantaje\", \"Chantaje\", \"Chantaje\", \"Chantaje\", \"Chantaje\", \"Chantaje\"], \"locations\": [\"MEX\", \"CHL\", \"PER\", \"ESP\", \"PAN\", \"ARG\", \"DOM\", \"PRY\"], \"name\": \"Chantaje\", \"showlegend\": true, \"showscale\": false, \"type\": \"choropleth\", \"z\": [1, 1, 1, 1, 1, 1, 1, 1]}, {\"colorscale\": [[0.0, \"#018700\"], [1.0, \"#018700\"]], \"customdata\": [[\"DEU\", \"Clean Bandit\", 229398, \"5knuzwU65gJK7IF5yJsuaW\"], [\"GBR\", \"Clean Bandit\", 272020, \"5knuzwU65gJK7IF5yJsuaW\"], [\"NZL\", \"Clean Bandit\", 28957, \"5knuzwU65gJK7IF5yJsuaW\"], [\"CHE\", \"Clean Bandit\", 14352, \"5knuzwU65gJK7IF5yJsuaW\"], [\"DNK\", \"Clean Bandit\", 50956, \"5knuzwU65gJK7IF5yJsuaW\"], [\"SWE\", \"Clean Bandit\", 129472, \"5knuzwU65gJK7IF5yJsuaW\"], [\"HUN\", \"Clean Bandit\", 6263, \"5knuzwU65gJK7IF5yJsuaW\"], [\"IRL\", \"Clean Bandit\", 24914, \"5knuzwU65gJK7IF5yJsuaW\"], [\"ITA\", \"Clean Bandit\", 71014, \"5knuzwU65gJK7IF5yJsuaW\"]], \"geo\": \"geo\", \"hovertemplate\": \"<b>%{hovertext}</b><br><br>Region: %{customdata[0]}<br>Artist: %{customdata[1]}<br>Streams: %{customdata[2]}<extra></extra>\", \"hovertext\": [\"Rockabye (feat. Sean Paul & Anne-Marie)\", \"Rockabye (feat. Sean Paul & Anne-Marie)\", \"Rockabye (feat. Sean Paul & Anne-Marie)\", \"Rockabye (feat. Sean Paul & Anne-Marie)\", \"Rockabye (feat. Sean Paul & Anne-Marie)\", \"Rockabye (feat. Sean Paul & Anne-Marie)\", \"Rockabye (feat. Sean Paul & Anne-Marie)\", \"Rockabye (feat. Sean Paul & Anne-Marie)\", \"Rockabye (feat. Sean Paul & Anne-Marie)\"], \"locations\": [\"DEU\", \"GBR\", \"NZL\", \"CHE\", \"DNK\", \"SWE\", \"HUN\", \"IRL\", \"ITA\"], \"name\": \"Rockabye (feat. Sean Paul & Anne-Marie)\", \"showlegend\": true, \"showscale\": false, \"type\": \"choropleth\", \"z\": [1, 1, 1, 1, 1, 1, 1, 1, 1]}, {\"colorscale\": [[0.0, \"#b500ff\"], [1.0, \"#b500ff\"]], \"customdata\": [[\"NOR\", \"Alan Walker\", 103886, \"0JiVRyTJcJnmlwCZ854K4p\"], [\"AUT\", \"Alan Walker\", 12990, \"0JiVRyTJcJnmlwCZ854K4p\"]], \"geo\": \"geo\", \"hovertemplate\": \"<b>%{hovertext}</b><br><br>Region: %{customdata[0]}<br>Artist: %{customdata[1]}<br>Streams: %{customdata[2]}<extra></extra>\", \"hovertext\": [\"Alone\", \"Alone\"], \"locations\": [\"NOR\", \"AUT\"], \"name\": \"Alone\", \"showlegend\": true, \"showscale\": false, \"type\": \"choropleth\", \"z\": [1, 1]}, {\"colorscale\": [[0.0, \"#05acc6\"], [1.0, \"#05acc6\"]], \"customdata\": [[\"LVA\", \"The Weeknd\", 2059, \"5aAx2yezTd8zXrkmtKl66Z\"], [\"GRC\", \"The Weeknd\", 4209, \"5aAx2yezTd8zXrkmtKl66Z\"], [\"SVK\", \"The Weeknd\", 2197, \"5aAx2yezTd8zXrkmtKl66Z\"], [\"CAN\", \"The Weeknd\", 139175, \"5aAx2yezTd8zXrkmtKl66Z\"], [\"AUS\", \"The Weeknd\", 107350, \"5aAx2yezTd8zXrkmtKl66Z\"], [\"ISL\", \"The Weeknd\", 3311, \"5aAx2yezTd8zXrkmtKl66Z\"], [\"PRT\", \"The Weeknd\", 15397, \"5aAx2yezTd8zXrkmtKl66Z\"], [\"LUX\", \"The Weeknd\", 1020, \"5aAx2yezTd8zXrkmtKl66Z\"], [\"EST\", \"The Weeknd\", 1950, \"5aAx2yezTd8zXrkmtKl66Z\"], [\"LTU\", \"The Weeknd\", 2583, \"5aAx2yezTd8zXrkmtKl66Z\"]], \"geo\": \"geo\", \"hovertemplate\": \"<b>%{hovertext}</b><br><br>Region: %{customdata[0]}<br>Artist: %{customdata[1]}<br>Streams: %{customdata[2]}<extra></extra>\", \"hovertext\": [\"Starboy\", \"Starboy\", \"Starboy\", \"Starboy\", \"Starboy\", \"Starboy\", \"Starboy\", \"Starboy\", \"Starboy\", \"Starboy\"], \"locations\": [\"LVA\", \"GRC\", \"SVK\", \"CAN\", \"AUS\", \"ISL\", \"PRT\", \"LUX\", \"EST\", \"LTU\"], \"name\": \"Starboy\", \"showlegend\": true, \"showscale\": false, \"type\": \"choropleth\", \"z\": [1, 1, 1, 1, 1, 1, 1, 1, 1, 1]}, {\"colorscale\": [[0.0, \"#97ff00\"], [1.0, \"#97ff00\"]], \"customdata\": [[\"HKG\", \"The Chainsmokers\", 12831, \"7BKLCZ1jbUBVqRi2FVlTVw\"], [\"TWN\", \"The Chainsmokers\", 18651, \"7BKLCZ1jbUBVqRi2FVlTVw\"], [\"IDN\", \"The Chainsmokers\", 45330, \"7BKLCZ1jbUBVqRi2FVlTVw\"], [\"CZE\", \"The Chainsmokers\", 6406, \"7BKLCZ1jbUBVqRi2FVlTVw\"], [\"MYS\", \"The Chainsmokers\", 27062, \"7BKLCZ1jbUBVqRi2FVlTVw\"], [\"SGP\", \"The Chainsmokers\", 30142, \"7BKLCZ1jbUBVqRi2FVlTVw\"], [\"JPN\", \"The Chainsmokers\", 6342, \"7BKLCZ1jbUBVqRi2FVlTVw\"]], \"geo\": \"geo\", \"hovertemplate\": \"<b>%{hovertext}</b><br><br>Region: %{customdata[0]}<br>Artist: %{customdata[1]}<br>Streams: %{customdata[2]}<extra></extra>\", \"hovertext\": [\"Closer\", \"Closer\", \"Closer\", \"Closer\", \"Closer\", \"Closer\", \"Closer\"], \"locations\": [\"HKG\", \"TWN\", \"IDN\", \"CZE\", \"MYS\", \"SGP\", \"JPN\"], \"name\": \"Closer\", \"showlegend\": true, \"showscale\": false, \"type\": \"choropleth\", \"z\": [1, 1, 1, 1, 1, 1, 1]}, {\"colorscale\": [[0.0, \"#ffa52f\"], [1.0, \"#ffa52f\"]], \"customdata\": [[\"BRA\", \"MC G15\", 612271, \"0EPxmvsG1BY5td4aTOkWBF\"]], \"geo\": \"geo\", \"hovertemplate\": \"<b>%{hovertext}</b><br><br>Region: %{customdata[0]}<br>Artist: %{customdata[1]}<br>Streams: %{customdata[2]}<extra></extra>\", \"hovertext\": [\"Deu Onda\"], \"locations\": [\"BRA\"], \"name\": \"Deu Onda\", \"showlegend\": true, \"showscale\": false, \"type\": \"choropleth\", \"z\": [1]}, {\"colorscale\": [[0.0, \"#ff8ec8\"], [1.0, \"#ff8ec8\"]], \"customdata\": [[\"GTM\", \"CNCO\", 9124, \"3AEZUABDXNtecAOSC1qTfo\"], [\"CRI\", \"CNCO\", 20171, \"3AEZUABDXNtecAOSC1qTfo\"], [\"SLV\", \"CNCO\", 5981, \"3AEZUABDXNtecAOSC1qTfo\"], [\"ECU\", \"CNCO\", 19272, \"3AEZUABDXNtecAOSC1qTfo\"], [\"BOL\", \"CNCO\", 6784, \"3AEZUABDXNtecAOSC1qTfo\"]], \"geo\": \"geo\", \"hovertemplate\": \"<b>%{hovertext}</b><br><br>Region: %{customdata[0]}<br>Artist: %{customdata[1]}<br>Streams: %{customdata[2]}<extra></extra>\", \"hovertext\": [\"Reggaet\\u00f3n Lento (Bailemos)\", \"Reggaet\\u00f3n Lento (Bailemos)\", \"Reggaet\\u00f3n Lento (Bailemos)\", \"Reggaet\\u00f3n Lento (Bailemos)\", \"Reggaet\\u00f3n Lento (Bailemos)\"], \"locations\": [\"GTM\", \"CRI\", \"SLV\", \"ECU\", \"BOL\"], \"name\": \"Reggaet\\u00f3n Lento (Bailemos)\", \"showlegend\": true, \"showscale\": false, \"type\": \"choropleth\", \"z\": [1, 1, 1, 1, 1]}, {\"colorscale\": [[0.0, \"#79525e\"], [1.0, \"#79525e\"]], \"customdata\": [[\"NLD\", \"Ronnie Flex\", 112252, \"1riPE3NCV1OBmSXqpYiMJY\"]], \"geo\": \"geo\", \"hovertemplate\": \"<b>%{hovertext}</b><br><br>Region: %{customdata[0]}<br>Artist: %{customdata[1]}<br>Streams: %{customdata[2]}<extra></extra>\", \"hovertext\": [\"Energie\"], \"locations\": [\"NLD\"], \"name\": \"Energie\", \"showlegend\": true, \"showscale\": false, \"type\": \"choropleth\", \"z\": [1]}, {\"colorscale\": [[0.0, \"#00fdcf\"], [1.0, \"#00fdcf\"]], \"customdata\": [[\"POL\", \"DJ Snake\", 26290, \"4pdPtRcBmOSQDlJ3Fk945m\"]], \"geo\": \"geo\", \"hovertemplate\": \"<b>%{hovertext}</b><br><br>Region: %{customdata[0]}<br>Artist: %{customdata[1]}<br>Streams: %{customdata[2]}<extra></extra>\", \"hovertext\": [\"Let Me Love You\"], \"locations\": [\"POL\"], \"name\": \"Let Me Love You\", \"showlegend\": true, \"showscale\": false, \"type\": \"choropleth\", \"z\": [1]}, {\"colorscale\": [[0.0, \"#afa5ff\"], [1.0, \"#afa5ff\"]], \"customdata\": [[\"PHL\", \"Bruno Mars\", 185236, \"0kN8xEmgMW9mh7UmDYHlJP\"]], \"geo\": \"geo\", \"hovertemplate\": \"<b>%{hovertext}</b><br><br>Region: %{customdata[0]}<br>Artist: %{customdata[1]}<br>Streams: %{customdata[2]}<extra></extra>\", \"hovertext\": [\"Versace On The Floor\"], \"locations\": [\"PHL\"], \"name\": \"Versace On The Floor\", \"showlegend\": true, \"showscale\": false, \"type\": \"choropleth\", \"z\": [1]}, {\"colorscale\": [[0.0, \"#93ac83\"], [1.0, \"#93ac83\"]], \"customdata\": [[\"TUR\", \"\\u00c7a\\u011fatay Akman\", 80607, \"3P31rcl0ym5paqRdwSiZps\"]], \"geo\": \"geo\", \"hovertemplate\": \"<b>%{hovertext}</b><br><br>Region: %{customdata[0]}<br>Artist: %{customdata[1]}<br>Streams: %{customdata[2]}<extra></extra>\", \"hovertext\": [\"Gece G\\u00f6lgenin Rahat\\u0131na Bak\"], \"locations\": [\"TUR\"], \"name\": \"Gece G\\u00f6lgenin Rahat\\u0131na Bak\", \"showlegend\": true, \"showscale\": false, \"type\": \"choropleth\", \"z\": [1]}, {\"colorscale\": [[0.0, \"#9a6900\"], [1.0, \"#9a6900\"]], \"customdata\": [[\"USA\", \"Migos\", 1371493, \"4Km5HrUvYTaSUfiSGPJeQR\"]], \"geo\": \"geo\", \"hovertemplate\": \"<b>%{hovertext}</b><br><br>Region: %{customdata[0]}<br>Artist: %{customdata[1]}<br>Streams: %{customdata[2]}<extra></extra>\", \"hovertext\": [\"Bad and Boujee (feat. Lil Uzi Vert)\"], \"locations\": [\"USA\"], \"name\": \"Bad and Boujee (feat. Lil Uzi Vert)\", \"showlegend\": true, \"showscale\": false, \"type\": \"choropleth\", \"z\": [1]}, {\"colorscale\": [[0.0, \"#366962\"], [1.0, \"#366962\"]], \"customdata\": [[\"FRA\", \"Drake\", 89403, \"1xznGGDReH1oQq0xzbwXa3\"]], \"geo\": \"geo\", \"hovertemplate\": \"<b>%{hovertext}</b><br><br>Region: %{customdata[0]}<br>Artist: %{customdata[1]}<br>Streams: %{customdata[2]}<extra></extra>\", \"hovertext\": [\"One Dance\"], \"locations\": [\"FRA\"], \"name\": \"One Dance\", \"showlegend\": true, \"showscale\": false, \"type\": \"choropleth\", \"z\": [1]}, {\"colorscale\": [[0.0, \"#d3008c\"], [1.0, \"#d3008c\"]], \"customdata\": [[\"HND\", \"Zion & Lennox\", 6762, \"3QwBODjSEzelZyVjxPOHdq\"], [\"COL\", \"Zion & Lennox\", 38341, \"3QwBODjSEzelZyVjxPOHdq\"]], \"geo\": \"geo\", \"hovertemplate\": \"<b>%{hovertext}</b><br><br>Region: %{customdata[0]}<br>Artist: %{customdata[1]}<br>Streams: %{customdata[2]}<extra></extra>\", \"hovertext\": [\"Otra Vez (feat. J Balvin)\", \"Otra Vez (feat. J Balvin)\"], \"locations\": [\"HND\", \"COL\"], \"name\": \"Otra Vez (feat. J Balvin)\", \"showlegend\": true, \"showscale\": false, \"type\": \"choropleth\", \"z\": [1, 1]}, {\"colorscale\": [[0.0, \"#fdf490\"], [1.0, \"#fdf490\"]], \"customdata\": [[\"BEL\", \"Dimitri Vegas & Like Mike\", 23277, \"6yc377A8qxHIjPUcjGD4ET\"]], \"geo\": \"geo\", \"hovertemplate\": \"<b>%{hovertext}</b><br><br>Region: %{customdata[0]}<br>Artist: %{customdata[1]}<br>Streams: %{customdata[2]}<extra></extra>\", \"hovertext\": [\"Hey Baby\"], \"locations\": [\"BEL\"], \"name\": \"Hey Baby\", \"showlegend\": true, \"showscale\": false, \"type\": \"choropleth\", \"z\": [1]}],                        {\"geo\": {\"center\": {}, \"domain\": {\"x\": [0.0, 1.0], \"y\": [0.0, 1.0]}}, \"legend\": {\"title\": {\"text\": \"Song name\"}, \"tracegroupgap\": 0}, \"margin\": {\"t\": 60}, \"showlegend\": true, \"template\": {\"data\": {\"bar\": [{\"error_x\": {\"color\": \"rgb(36,36,36)\"}, \"error_y\": {\"color\": \"rgb(36,36,36)\"}, \"marker\": {\"line\": {\"color\": \"rgb(234,234,242)\", \"width\": 0.5}}, \"type\": \"bar\"}], \"barpolar\": [{\"marker\": {\"line\": {\"color\": \"rgb(234,234,242)\", \"width\": 0.5}}, \"type\": \"barpolar\"}], \"carpet\": [{\"aaxis\": {\"endlinecolor\": \"rgb(36,36,36)\", \"gridcolor\": \"white\", \"linecolor\": \"white\", \"minorgridcolor\": \"white\", \"startlinecolor\": \"rgb(36,36,36)\"}, \"baxis\": {\"endlinecolor\": \"rgb(36,36,36)\", \"gridcolor\": \"white\", \"linecolor\": \"white\", \"minorgridcolor\": \"white\", \"startlinecolor\": \"rgb(36,36,36)\"}, \"type\": \"carpet\"}], \"choropleth\": [{\"colorbar\": {\"outlinewidth\": 0, \"tickcolor\": \"rgb(36,36,36)\", \"ticklen\": 8, \"ticks\": \"outside\", \"tickwidth\": 2}, \"type\": \"choropleth\"}], \"contour\": [{\"colorbar\": {\"outlinewidth\": 0, \"tickcolor\": \"rgb(36,36,36)\", \"ticklen\": 8, \"ticks\": \"outside\", \"tickwidth\": 2}, \"colorscale\": [[0.0, \"rgb(2,4,25)\"], [0.06274509803921569, \"rgb(24,15,41)\"], [0.12549019607843137, \"rgb(47,23,57)\"], [0.18823529411764706, \"rgb(71,28,72)\"], [0.25098039215686274, \"rgb(97,30,82)\"], [0.3137254901960784, \"rgb(123,30,89)\"], [0.3764705882352941, \"rgb(150,27,91)\"], [0.4392156862745098, \"rgb(177,22,88)\"], [0.5019607843137255, \"rgb(203,26,79)\"], [0.5647058823529412, \"rgb(223,47,67)\"], [0.6274509803921569, \"rgb(236,76,61)\"], [0.6901960784313725, \"rgb(242,107,73)\"], [0.7529411764705882, \"rgb(244,135,95)\"], [0.8156862745098039, \"rgb(245,162,122)\"], [0.8784313725490196, \"rgb(246,188,153)\"], [0.9411764705882353, \"rgb(247,212,187)\"], [1.0, \"rgb(250,234,220)\"]], \"type\": \"contour\"}], \"contourcarpet\": [{\"colorbar\": {\"outlinewidth\": 0, \"tickcolor\": \"rgb(36,36,36)\", \"ticklen\": 8, \"ticks\": \"outside\", \"tickwidth\": 2}, \"type\": \"contourcarpet\"}], \"heatmap\": [{\"colorbar\": {\"outlinewidth\": 0, \"tickcolor\": \"rgb(36,36,36)\", \"ticklen\": 8, \"ticks\": \"outside\", \"tickwidth\": 2}, \"colorscale\": [[0.0, \"rgb(2,4,25)\"], [0.06274509803921569, \"rgb(24,15,41)\"], [0.12549019607843137, \"rgb(47,23,57)\"], [0.18823529411764706, \"rgb(71,28,72)\"], [0.25098039215686274, \"rgb(97,30,82)\"], [0.3137254901960784, \"rgb(123,30,89)\"], [0.3764705882352941, \"rgb(150,27,91)\"], [0.4392156862745098, \"rgb(177,22,88)\"], [0.5019607843137255, \"rgb(203,26,79)\"], [0.5647058823529412, \"rgb(223,47,67)\"], [0.6274509803921569, \"rgb(236,76,61)\"], [0.6901960784313725, \"rgb(242,107,73)\"], [0.7529411764705882, \"rgb(244,135,95)\"], [0.8156862745098039, \"rgb(245,162,122)\"], [0.8784313725490196, \"rgb(246,188,153)\"], [0.9411764705882353, \"rgb(247,212,187)\"], [1.0, \"rgb(250,234,220)\"]], \"type\": \"heatmap\"}], \"heatmapgl\": [{\"colorbar\": {\"outlinewidth\": 0, \"tickcolor\": \"rgb(36,36,36)\", \"ticklen\": 8, \"ticks\": \"outside\", \"tickwidth\": 2}, \"colorscale\": [[0.0, \"rgb(2,4,25)\"], [0.06274509803921569, \"rgb(24,15,41)\"], [0.12549019607843137, \"rgb(47,23,57)\"], [0.18823529411764706, \"rgb(71,28,72)\"], [0.25098039215686274, \"rgb(97,30,82)\"], [0.3137254901960784, \"rgb(123,30,89)\"], [0.3764705882352941, \"rgb(150,27,91)\"], [0.4392156862745098, \"rgb(177,22,88)\"], [0.5019607843137255, \"rgb(203,26,79)\"], [0.5647058823529412, \"rgb(223,47,67)\"], [0.6274509803921569, \"rgb(236,76,61)\"], [0.6901960784313725, \"rgb(242,107,73)\"], [0.7529411764705882, \"rgb(244,135,95)\"], [0.8156862745098039, \"rgb(245,162,122)\"], [0.8784313725490196, \"rgb(246,188,153)\"], [0.9411764705882353, \"rgb(247,212,187)\"], [1.0, \"rgb(250,234,220)\"]], \"type\": \"heatmapgl\"}], \"histogram\": [{\"marker\": {\"colorbar\": {\"outlinewidth\": 0, \"tickcolor\": \"rgb(36,36,36)\", \"ticklen\": 8, \"ticks\": \"outside\", \"tickwidth\": 2}}, \"type\": \"histogram\"}], \"histogram2d\": [{\"colorbar\": {\"outlinewidth\": 0, \"tickcolor\": \"rgb(36,36,36)\", \"ticklen\": 8, \"ticks\": \"outside\", \"tickwidth\": 2}, \"colorscale\": [[0.0, \"rgb(2,4,25)\"], [0.06274509803921569, \"rgb(24,15,41)\"], [0.12549019607843137, \"rgb(47,23,57)\"], [0.18823529411764706, \"rgb(71,28,72)\"], [0.25098039215686274, \"rgb(97,30,82)\"], [0.3137254901960784, \"rgb(123,30,89)\"], [0.3764705882352941, \"rgb(150,27,91)\"], [0.4392156862745098, \"rgb(177,22,88)\"], [0.5019607843137255, \"rgb(203,26,79)\"], [0.5647058823529412, \"rgb(223,47,67)\"], [0.6274509803921569, \"rgb(236,76,61)\"], [0.6901960784313725, \"rgb(242,107,73)\"], [0.7529411764705882, \"rgb(244,135,95)\"], [0.8156862745098039, \"rgb(245,162,122)\"], [0.8784313725490196, \"rgb(246,188,153)\"], [0.9411764705882353, \"rgb(247,212,187)\"], [1.0, \"rgb(250,234,220)\"]], \"type\": \"histogram2d\"}], \"histogram2dcontour\": [{\"colorbar\": {\"outlinewidth\": 0, \"tickcolor\": \"rgb(36,36,36)\", \"ticklen\": 8, \"ticks\": \"outside\", \"tickwidth\": 2}, \"colorscale\": [[0.0, \"rgb(2,4,25)\"], [0.06274509803921569, \"rgb(24,15,41)\"], [0.12549019607843137, \"rgb(47,23,57)\"], [0.18823529411764706, \"rgb(71,28,72)\"], [0.25098039215686274, \"rgb(97,30,82)\"], [0.3137254901960784, \"rgb(123,30,89)\"], [0.3764705882352941, \"rgb(150,27,91)\"], [0.4392156862745098, \"rgb(177,22,88)\"], [0.5019607843137255, \"rgb(203,26,79)\"], [0.5647058823529412, \"rgb(223,47,67)\"], [0.6274509803921569, \"rgb(236,76,61)\"], [0.6901960784313725, \"rgb(242,107,73)\"], [0.7529411764705882, \"rgb(244,135,95)\"], [0.8156862745098039, \"rgb(245,162,122)\"], [0.8784313725490196, \"rgb(246,188,153)\"], [0.9411764705882353, \"rgb(247,212,187)\"], [1.0, \"rgb(250,234,220)\"]], \"type\": \"histogram2dcontour\"}], \"mesh3d\": [{\"colorbar\": {\"outlinewidth\": 0, \"tickcolor\": \"rgb(36,36,36)\", \"ticklen\": 8, \"ticks\": \"outside\", \"tickwidth\": 2}, \"type\": \"mesh3d\"}], \"parcoords\": [{\"line\": {\"colorbar\": {\"outlinewidth\": 0, \"tickcolor\": \"rgb(36,36,36)\", \"ticklen\": 8, \"ticks\": \"outside\", \"tickwidth\": 2}}, \"type\": \"parcoords\"}], \"pie\": [{\"automargin\": true, \"type\": \"pie\"}], \"scatter\": [{\"marker\": {\"colorbar\": {\"outlinewidth\": 0, \"tickcolor\": \"rgb(36,36,36)\", \"ticklen\": 8, \"ticks\": \"outside\", \"tickwidth\": 2}}, \"type\": \"scatter\"}], \"scatter3d\": [{\"line\": {\"colorbar\": {\"outlinewidth\": 0, \"tickcolor\": \"rgb(36,36,36)\", \"ticklen\": 8, \"ticks\": \"outside\", \"tickwidth\": 2}}, \"marker\": {\"colorbar\": {\"outlinewidth\": 0, \"tickcolor\": \"rgb(36,36,36)\", \"ticklen\": 8, \"ticks\": \"outside\", \"tickwidth\": 2}}, \"type\": \"scatter3d\"}], \"scattercarpet\": [{\"marker\": {\"colorbar\": {\"outlinewidth\": 0, \"tickcolor\": \"rgb(36,36,36)\", \"ticklen\": 8, \"ticks\": \"outside\", \"tickwidth\": 2}}, \"type\": \"scattercarpet\"}], \"scattergeo\": [{\"marker\": {\"colorbar\": {\"outlinewidth\": 0, \"tickcolor\": \"rgb(36,36,36)\", \"ticklen\": 8, \"ticks\": \"outside\", \"tickwidth\": 2}}, \"type\": \"scattergeo\"}], \"scattergl\": [{\"marker\": {\"colorbar\": {\"outlinewidth\": 0, \"tickcolor\": \"rgb(36,36,36)\", \"ticklen\": 8, \"ticks\": \"outside\", \"tickwidth\": 2}}, \"type\": \"scattergl\"}], \"scattermapbox\": [{\"marker\": {\"colorbar\": {\"outlinewidth\": 0, \"tickcolor\": \"rgb(36,36,36)\", \"ticklen\": 8, \"ticks\": \"outside\", \"tickwidth\": 2}}, \"type\": \"scattermapbox\"}], \"scatterpolar\": [{\"marker\": {\"colorbar\": {\"outlinewidth\": 0, \"tickcolor\": \"rgb(36,36,36)\", \"ticklen\": 8, \"ticks\": \"outside\", \"tickwidth\": 2}}, \"type\": \"scatterpolar\"}], \"scatterpolargl\": [{\"marker\": {\"colorbar\": {\"outlinewidth\": 0, \"tickcolor\": \"rgb(36,36,36)\", \"ticklen\": 8, \"ticks\": \"outside\", \"tickwidth\": 2}}, \"type\": \"scatterpolargl\"}], \"scatterternary\": [{\"marker\": {\"colorbar\": {\"outlinewidth\": 0, \"tickcolor\": \"rgb(36,36,36)\", \"ticklen\": 8, \"ticks\": \"outside\", \"tickwidth\": 2}}, \"type\": \"scatterternary\"}], \"surface\": [{\"colorbar\": {\"outlinewidth\": 0, \"tickcolor\": \"rgb(36,36,36)\", \"ticklen\": 8, \"ticks\": \"outside\", \"tickwidth\": 2}, \"colorscale\": [[0.0, \"rgb(2,4,25)\"], [0.06274509803921569, \"rgb(24,15,41)\"], [0.12549019607843137, \"rgb(47,23,57)\"], [0.18823529411764706, \"rgb(71,28,72)\"], [0.25098039215686274, \"rgb(97,30,82)\"], [0.3137254901960784, \"rgb(123,30,89)\"], [0.3764705882352941, \"rgb(150,27,91)\"], [0.4392156862745098, \"rgb(177,22,88)\"], [0.5019607843137255, \"rgb(203,26,79)\"], [0.5647058823529412, \"rgb(223,47,67)\"], [0.6274509803921569, \"rgb(236,76,61)\"], [0.6901960784313725, \"rgb(242,107,73)\"], [0.7529411764705882, \"rgb(244,135,95)\"], [0.8156862745098039, \"rgb(245,162,122)\"], [0.8784313725490196, \"rgb(246,188,153)\"], [0.9411764705882353, \"rgb(247,212,187)\"], [1.0, \"rgb(250,234,220)\"]], \"type\": \"surface\"}], \"table\": [{\"cells\": {\"fill\": {\"color\": \"rgb(231,231,240)\"}, \"line\": {\"color\": \"white\"}}, \"header\": {\"fill\": {\"color\": \"rgb(183,183,191)\"}, \"line\": {\"color\": \"white\"}}, \"type\": \"table\"}]}, \"layout\": {\"annotationdefaults\": {\"arrowcolor\": \"rgb(67,103,167)\"}, \"coloraxis\": {\"colorbar\": {\"outlinewidth\": 0, \"tickcolor\": \"rgb(36,36,36)\", \"ticklen\": 8, \"ticks\": \"outside\", \"tickwidth\": 2}}, \"colorscale\": {\"sequential\": [[0.0, \"rgb(2,4,25)\"], [0.06274509803921569, \"rgb(24,15,41)\"], [0.12549019607843137, \"rgb(47,23,57)\"], [0.18823529411764706, \"rgb(71,28,72)\"], [0.25098039215686274, \"rgb(97,30,82)\"], [0.3137254901960784, \"rgb(123,30,89)\"], [0.3764705882352941, \"rgb(150,27,91)\"], [0.4392156862745098, \"rgb(177,22,88)\"], [0.5019607843137255, \"rgb(203,26,79)\"], [0.5647058823529412, \"rgb(223,47,67)\"], [0.6274509803921569, \"rgb(236,76,61)\"], [0.6901960784313725, \"rgb(242,107,73)\"], [0.7529411764705882, \"rgb(244,135,95)\"], [0.8156862745098039, \"rgb(245,162,122)\"], [0.8784313725490196, \"rgb(246,188,153)\"], [0.9411764705882353, \"rgb(247,212,187)\"], [1.0, \"rgb(250,234,220)\"]], \"sequentialminus\": [[0.0, \"rgb(2,4,25)\"], [0.06274509803921569, \"rgb(24,15,41)\"], [0.12549019607843137, \"rgb(47,23,57)\"], [0.18823529411764706, \"rgb(71,28,72)\"], [0.25098039215686274, \"rgb(97,30,82)\"], [0.3137254901960784, \"rgb(123,30,89)\"], [0.3764705882352941, \"rgb(150,27,91)\"], [0.4392156862745098, \"rgb(177,22,88)\"], [0.5019607843137255, \"rgb(203,26,79)\"], [0.5647058823529412, \"rgb(223,47,67)\"], [0.6274509803921569, \"rgb(236,76,61)\"], [0.6901960784313725, \"rgb(242,107,73)\"], [0.7529411764705882, \"rgb(244,135,95)\"], [0.8156862745098039, \"rgb(245,162,122)\"], [0.8784313725490196, \"rgb(246,188,153)\"], [0.9411764705882353, \"rgb(247,212,187)\"], [1.0, \"rgb(250,234,220)\"]]}, \"colorway\": [\"rgb(76,114,176)\", \"rgb(221,132,82)\", \"rgb(85,168,104)\", \"rgb(196,78,82)\", \"rgb(129,114,179)\", \"rgb(147,120,96)\", \"rgb(218,139,195)\", \"rgb(140,140,140)\", \"rgb(204,185,116)\", \"rgb(100,181,205)\"], \"font\": {\"color\": \"rgb(36,36,36)\"}, \"geo\": {\"bgcolor\": \"white\", \"lakecolor\": \"white\", \"landcolor\": \"rgb(234,234,242)\", \"showlakes\": true, \"showland\": true, \"subunitcolor\": \"white\"}, \"hoverlabel\": {\"align\": \"left\"}, \"hovermode\": \"closest\", \"paper_bgcolor\": \"white\", \"plot_bgcolor\": \"rgb(234,234,242)\", \"polar\": {\"angularaxis\": {\"gridcolor\": \"white\", \"linecolor\": \"white\", \"showgrid\": true, \"ticks\": \"\"}, \"bgcolor\": \"rgb(234,234,242)\", \"radialaxis\": {\"gridcolor\": \"white\", \"linecolor\": \"white\", \"showgrid\": true, \"ticks\": \"\"}}, \"scene\": {\"xaxis\": {\"backgroundcolor\": \"rgb(234,234,242)\", \"gridcolor\": \"white\", \"gridwidth\": 2, \"linecolor\": \"white\", \"showbackground\": true, \"showgrid\": true, \"ticks\": \"\", \"zerolinecolor\": \"white\"}, \"yaxis\": {\"backgroundcolor\": \"rgb(234,234,242)\", \"gridcolor\": \"white\", \"gridwidth\": 2, \"linecolor\": \"white\", \"showbackground\": true, \"showgrid\": true, \"ticks\": \"\", \"zerolinecolor\": \"white\"}, \"zaxis\": {\"backgroundcolor\": \"rgb(234,234,242)\", \"gridcolor\": \"white\", \"gridwidth\": 2, \"linecolor\": \"white\", \"showbackground\": true, \"showgrid\": true, \"ticks\": \"\", \"zerolinecolor\": \"white\"}}, \"shapedefaults\": {\"fillcolor\": \"rgb(67,103,167)\", \"line\": {\"width\": 0}, \"opacity\": 0.5}, \"ternary\": {\"aaxis\": {\"gridcolor\": \"white\", \"linecolor\": \"white\", \"showgrid\": true, \"ticks\": \"\"}, \"baxis\": {\"gridcolor\": \"white\", \"linecolor\": \"white\", \"showgrid\": true, \"ticks\": \"\"}, \"bgcolor\": \"rgb(234,234,242)\", \"caxis\": {\"gridcolor\": \"white\", \"linecolor\": \"white\", \"showgrid\": true, \"ticks\": \"\"}}, \"xaxis\": {\"automargin\": true, \"gridcolor\": \"white\", \"linecolor\": \"white\", \"showgrid\": true, \"ticks\": \"\", \"title\": {\"standoff\": 15}, \"zerolinecolor\": \"white\"}, \"yaxis\": {\"automargin\": true, \"gridcolor\": \"white\", \"linecolor\": \"white\", \"showgrid\": true, \"ticks\": \"\", \"title\": {\"standoff\": 15}, \"zerolinecolor\": \"white\"}}}},                        {\"responsive\": true}                    ).then(function(){\n                            \nvar gd = document.getElementById('51b49db6-11f4-41b7-936e-a57b9a5f1114');\nvar x = new MutationObserver(function (mutations, observer) {{\n        var display = window.getComputedStyle(gd).display;\n        if (!display || display === 'none') {{\n            console.log([gd, 'removed!']);\n            Plotly.purge(gd);\n            observer.disconnect();\n        }}\n}});\n\n// Listen for the removal of the full notebook cells\nvar notebookContainer = gd.closest('#notebook-container');\nif (notebookContainer) {{\n    x.observe(notebookContainer, {childList: true});\n}}\n\n// Listen for the clearing of the current output cell\nvar outputEl = gd.closest('.output');\nif (outputEl) {{\n    x.observe(outputEl, {childList: true});\n}}\n\n                        })                };                });            </script>        </div>"
     },
     "metadata": {}
    }
   ],
   "source": [
    "#plot the most popular song in each country on a certain date\n",
    "#choose date/artist\n",
    "date = '2017-01-01'\n",
    "df_small = df[df['date'] == date]\n",
    "df_cur_day = pd.DataFrame(columns=df_small.columns)\n",
    "for reg in set(df_small['region']):\n",
    "    df_cur_day = df_cur_day.append(df_small[(df_small['position'] == 1) & (df_small['region'] == reg)])\n",
    "print(date)\n",
    "template = '<b>%{hovertext}</b><br><br>Region: %{customdata[0]}<br>Artist: %{customdata[1]}<br>Streams: %{customdata[2]}<extra></extra>'\n",
    "\n",
    "#(use this for streams) df_cur_day['streams'] = df_cur_day['streams'].astype(int)\n",
    "#plot data\n",
    "fig = px.choropleth(df_cur_day, locations=\"region\",\n",
    "                    color=\"id\", # lifeExp is a column of gapminder\n",
    "                    hover_name=\"track_name\", # column to add to hover information\n",
    "                    #color_discrete_sequence=px.colors.qualitative.Set3,\n",
    "                    color_discrete_sequence=cmap,#px.colors.cyclical.HSV,\n",
    "                    labels={\"id\" : \"Song name\"},\n",
    "                    hover_data={'region': True, 'artist': True,'streams': True, 'id': False})\n",
    "fig.update_layout(showlegend = True)\n",
    "fig.update_traces(hovertemplate=template)\n",
    "for i in range(len(fig.data)):\n",
    "    fig.data[i].name = fig.data[i].hovertext[0]\n",
    "fig.show()"
   ]
  },
  {
   "cell_type": "code",
   "execution_count": 152,
   "metadata": {
    "tags": []
   },
   "outputs": [
    {
     "output_type": "stream",
     "name": "stdout",
     "text": "EST - 265\nLTU - 302\nSVK - 367\nMYS - 370\nLUX - 217\nLVA - 348\n"
    }
   ],
   "source": [
    "#these countries do not have the full 371 day range of number one songs?\n",
    "for reg in set(df['region']):\n",
    "    if len(df[(df['position'] == 1) & (df['region'] == reg)]['date']) != 371:\n",
    "        print(reg + ' - ' + str(len(df[(df['position'] == 1) & (df['region'] == reg)]['date'])))"
   ]
  },
  {
   "cell_type": "code",
   "execution_count": 48,
   "metadata": {},
   "outputs": [
    {
     "output_type": "execute_result",
     "data": {
      "text/plain": "         position    track_name      artist  streams                      id  \\\n1174714         1  Shape of You  Ed Sheeran    24325  7qiZfU4dY1lWllzX7mPBI3   \n\n              date region  \n1174714 2017-12-15    JPN  ",
      "text/html": "<div>\n<style scoped>\n    .dataframe tbody tr th:only-of-type {\n        vertical-align: middle;\n    }\n\n    .dataframe tbody tr th {\n        vertical-align: top;\n    }\n\n    .dataframe thead th {\n        text-align: right;\n    }\n</style>\n<table border=\"1\" class=\"dataframe\">\n  <thead>\n    <tr style=\"text-align: right;\">\n      <th></th>\n      <th>position</th>\n      <th>track_name</th>\n      <th>artist</th>\n      <th>streams</th>\n      <th>id</th>\n      <th>date</th>\n      <th>region</th>\n    </tr>\n  </thead>\n  <tbody>\n    <tr>\n      <th>1174714</th>\n      <td>1</td>\n      <td>Shape of You</td>\n      <td>Ed Sheeran</td>\n      <td>24325</td>\n      <td>7qiZfU4dY1lWllzX7mPBI3</td>\n      <td>2017-12-15</td>\n      <td>JPN</td>\n    </tr>\n  </tbody>\n</table>\n</div>"
     },
     "metadata": {},
     "execution_count": 48
    }
   ],
   "source": [
    "df_small[df_small['streams'] == df_small[df_small['region'] == reg].streams.max()] #taking the highest streamed song in a particular region"
   ]
  },
  {
   "cell_type": "code",
   "execution_count": 437,
   "metadata": {},
   "outputs": [
    {
     "output_type": "execute_result",
     "data": {
      "text/plain": "0        2017-01-01\n800      2017-01-05\n1600     2017-01-09\n2400     2017-01-13\n3200     2017-01-17\n            ...    \n70409    2017-12-24\n71209    2017-12-28\n72009    2018-01-01\n72809    2018-01-05\n73609    2018-01-09\nName: date, Length: 930, dtype: object"
     },
     "metadata": {},
     "execution_count": 437
    }
   ],
   "source": [
    "df_global_third_day = pd.DataFrame(columns=df_global.columns)\n",
    "for i in range(10):\n",
    "    df_global_third_day = df_global_third_day.append(df_global[df_global['position'] <= 10][i::40])\n",
    "df_global_third_day['date']"
   ]
  },
  {
   "cell_type": "code",
   "execution_count": 440,
   "metadata": {
    "tags": []
   },
   "outputs": [
    {
     "output_type": "stream",
     "name": "stdout",
     "text": "here\n"
    },
    {
     "output_type": "execute_result",
     "data": {
      "text/plain": "'temp-plot.html'"
     },
     "metadata": {},
     "execution_count": 440
    }
   ],
   "source": [
    "#gives the top streamed songs globally    \n",
    "df_global = pd.read_csv('data_global.csv')\n",
    "df_fig = df_global[df_global['position'] <= 10]\n",
    "#df_fig = df_global_third_day\n",
    "fig = px.bar(df_fig,x='streams',y='position',animation_frame='date',animation_group='id',orientation='h',hover_data={'track_name': True}, color='id',color_discrete_sequence=cmap,title='10 Most Popular Songs Each Day',labels={'id' : 'Track name'})\n",
    "fig.update_layout(transition={'easing' : 'exp','duration' : 10000}, yaxis={'tickmode' : 'linear'})\n",
    "print('here')\n",
    "#fig.frames[0].data[0]['name'] = df[df['id'] == '5aAx2yezTd8zXrkmtKl66Z']['track_name'].iloc[0]\n",
    "#change names from ID to track name\n",
    "\n",
    "for frame in range(len(fig.frames)):\n",
    "    for name in range(len(fig.frames[frame].data)):\n",
    "        #track_name = df[df['id'] == '5aAx2yezTd8zXrkmtKl66Z']['track_name'].iloc[0]\n",
    "        track_name = fig.frames[frame].data[name]['customdata'][0][0]\n",
    "        fig.frames[frame].data[name]['name'] = track_name\n",
    "        #print(str(frame) + ',' + str(name))\n",
    "#slow down animation\n",
    "time = 5000\n",
    "# fig.layout.updatemenus[0].buttons[0].args[1]['frame']['duration'] = time - 1000\n",
    "# fig.layout.updatemenus[0].buttons[0].args[1]['transition']['duration'] = time\n",
    "# fig.layout.updatemenus[0].buttons[1].args[1]['frame']['duration'] = time - 1000\n",
    "# fig.layout.updatemenus[0].buttons[1].args[1]['transition']['duration'] = time\n",
    "#fig.update_traces(name='s') 'id' : 'track_name'}\n",
    "#fig.show()\n",
    "#iplot(fig,show_link=True)\n",
    "plot(fig)"
   ]
  },
  {
   "cell_type": "code",
   "execution_count": 363,
   "metadata": {},
   "outputs": [
    {
     "output_type": "execute_result",
     "data": {
      "text/plain": "(layout.Updatemenu({\n     'buttons': [{'args': [None, {'frame': {'duration': 10000, 'redraw': True},\n                           'mode': 'immediate', 'fromcurrent': True, 'transition':\n                           {'duration': 10000, 'easing': 'linear'}}],\n                  'label': '&#9654;',\n                  'method': 'animate'},\n                 {'args': [[None], {'frame': {'duration': 10000, 'redraw': True},\n                           'mode': 'immediate', 'fromcurrent': True, 'transition':\n                           {'duration': 10000, 'easing': 'linear'}}],\n                  'label': '&#9724;',\n                  'method': 'animate'}],\n     'direction': 'left',\n     'pad': {'r': 10, 't': 70},\n     'showactive': False,\n     'type': 'buttons',\n     'x': 0.1,\n     'xanchor': 'right',\n     'y': 0,\n     'yanchor': 'top'\n }),)"
     },
     "metadata": {},
     "execution_count": 363
    }
   ],
   "source": [
    "fig.layout.updatemenus#[0].buttons[0].args[1]['transition']['duration']"
   ]
  },
  {
   "cell_type": "code",
   "execution_count": 238,
   "metadata": {},
   "outputs": [
    {
     "output_type": "execute_result",
     "data": {
      "text/plain": "'temp-plot.html'"
     },
     "metadata": {},
     "execution_count": 238
    }
   ],
   "source": [
    "#testing version of above\n",
    "#gives the top streamed songs globally    \n",
    "df_global = pd.read_csv('data_global.csv')\n",
    "df_global\n",
    "fig = px.bar(df_global[df_global['position'] <= 10].head(600),x='streams',y='track_name',animation_frame='date',animation_group='id',orientation='h',hover_data={'track_name': True, 'id' : 'track_name'}, color='id',color_discrete_sequence=cmap,title='10 Most Popular Songs Each Day',labels={'id' : 'Track name'},category_orders={'track_name' : 'max descending'})\n",
    "fig.update_layout(transition={'easing' : 'linear','duration' : 1000, 'ordering' : 'traces first'},updatemenus=[dict(buttons=list([dict(args=args,label=label,method=method)]))])#, yaxis={'tickmode' : 'array', 'tickvals': list(range(11)), 'ticktext' : df_global['track_name']})\n",
    "#fig.show()\n",
    "#iplot(fig,show_link=True)\n",
    "plot(fig)"
   ]
  },
  {
   "cell_type": "code",
   "execution_count": 235,
   "metadata": {},
   "outputs": [],
   "source": [
    "fig.frames[0].data[0]['name'] = df[df['id'] == '5aAx2yezTd8zXrkmtKl66Z']['track_name'].iloc[0]\n",
    "\n",
    "#['hovertemplate']"
   ]
  },
  {
   "cell_type": "code",
   "execution_count": 258,
   "metadata": {},
   "outputs": [
    {
     "output_type": "execute_result",
     "data": {
      "text/plain": "'Starboy'"
     },
     "metadata": {},
     "execution_count": 258
    }
   ],
   "source": [
    "fig.frames[0].data[0]['customdata'][0][0]"
   ]
  },
  {
   "cell_type": "code",
   "execution_count": null,
   "metadata": {},
   "outputs": [],
   "source": [
    "df[df['id'] == '5aAx2yezTd8zXrkmtKl66Z']['track_name']"
   ]
  },
  {
   "cell_type": "code",
   "execution_count": 243,
   "metadata": {},
   "outputs": [
    {
     "output_type": "execute_result",
     "data": {
      "text/plain": "60"
     },
     "metadata": {},
     "execution_count": 243
    }
   ],
   "source": [
    "for frame in len(fig.frames):\n",
    "    for name in len(fig.frames[frame].data):\n",
    "        track_name = df[df['id'] == '5aAx2yezTd8zXrkmtKl66Z']['track_name'].iloc[0]\n",
    "        fig.frames[frame].data[name]['name'] = track_name"
   ]
  },
  {
   "cell_type": "code",
   "execution_count": 234,
   "metadata": {},
   "outputs": [
    {
     "output_type": "execute_result",
     "data": {
      "text/plain": "'Starboy'"
     },
     "metadata": {},
     "execution_count": 234
    }
   ],
   "source": [
    "df[df['id'] == '5aAx2yezTd8zXrkmtKl66Z']['track_name'].iloc[0]"
   ]
  },
  {
   "cell_type": "code",
   "execution_count": 25,
   "metadata": {},
   "outputs": [
    {
     "output_type": "error",
     "ename": "ValueError",
     "evalue": "Invalid property specified for object of type plotly.graph_objs.layout.YAxis: 't'\n\n    Valid properties:\n        anchor\n            If set to an opposite-letter axis id (e.g. `x2`, `y`),\n            this axis is bound to the corresponding opposite-letter\n            axis. If set to \"free\", this axis' position is\n            determined by `position`.\n        automargin\n            Determines whether long tick labels automatically grow\n            the figure margins.\n        autorange\n            Determines whether or not the range of this axis is\n            computed in relation to the input data. See `rangemode`\n            for more info. If `range` is provided, then `autorange`\n            is set to False.\n        calendar\n            Sets the calendar system to use for `range` and `tick0`\n            if this is a date axis. This does not set the calendar\n            for interpreting data on this axis, that's specified in\n            the trace or via the global `layout.calendar`\n        categoryarray\n            Sets the order in which categories on this axis appear.\n            Only has an effect if `categoryorder` is set to\n            \"array\". Used with `categoryorder`.\n        categoryarraysrc\n            Sets the source reference on Chart Studio Cloud for\n            categoryarray .\n        categoryorder\n            Specifies the ordering logic for the case of\n            categorical variables. By default, plotly uses \"trace\",\n            which specifies the order that is present in the data\n            supplied. Set `categoryorder` to *category ascending*\n            or *category descending* if order should be determined\n            by the alphanumerical order of the category names. Set\n            `categoryorder` to \"array\" to derive the ordering from\n            the attribute `categoryarray`. If a category is not\n            found in the `categoryarray` array, the sorting\n            behavior for that attribute will be identical to the\n            \"trace\" mode. The unspecified categories will follow\n            the categories in `categoryarray`. Set `categoryorder`\n            to *total ascending* or *total descending* if order\n            should be determined by the numerical order of the\n            values. Similarly, the order can be determined by the\n            min, max, sum, mean or median of all the values.\n        color\n            Sets default for all colors associated with this axis\n            all at once: line, font, tick, and grid colors. Grid\n            color is lightened by blending this with the plot\n            background Individual pieces can override this.\n        constrain\n            If this axis needs to be compressed (either due to its\n            own `scaleanchor` and `scaleratio` or those of the\n            other axis), determines how that happens: by increasing\n            the \"range\" (default), or by decreasing the \"domain\".\n        constraintoward\n            If this axis needs to be compressed (either due to its\n            own `scaleanchor` and `scaleratio` or those of the\n            other axis), determines which direction we push the\n            originally specified plot area. Options are \"left\",\n            \"center\" (default), and \"right\" for x axes, and \"top\",\n            \"middle\" (default), and \"bottom\" for y axes.\n        dividercolor\n            Sets the color of the dividers Only has an effect on\n            \"multicategory\" axes.\n        dividerwidth\n            Sets the width (in px) of the dividers Only has an\n            effect on \"multicategory\" axes.\n        domain\n            Sets the domain of this axis (in plot fraction).\n        dtick\n            Sets the step in-between ticks on this axis. Use with\n            `tick0`. Must be a positive number, or special strings\n            available to \"log\" and \"date\" axes. If the axis `type`\n            is \"log\", then ticks are set every 10^(n*dtick) where n\n            is the tick number. For example, to set a tick mark at\n            1, 10, 100, 1000, ... set dtick to 1. To set tick marks\n            at 1, 100, 10000, ... set dtick to 2. To set tick marks\n            at 1, 5, 25, 125, 625, 3125, ... set dtick to\n            log_10(5), or 0.69897000433. \"log\" has several special\n            values; \"L<f>\", where `f` is a positive number, gives\n            ticks linearly spaced in value (but not position). For\n            example `tick0` = 0.1, `dtick` = \"L0.5\" will put ticks\n            at 0.1, 0.6, 1.1, 1.6 etc. To show powers of 10 plus\n            small digits between, use \"D1\" (all digits) or \"D2\"\n            (only 2 and 5). `tick0` is ignored for \"D1\" and \"D2\".\n            If the axis `type` is \"date\", then you must convert the\n            time to milliseconds. For example, to set the interval\n            between ticks to one day, set `dtick` to 86400000.0.\n            \"date\" also has special values \"M<n>\" gives ticks\n            spaced by a number of months. `n` must be a positive\n            integer. To set ticks on the 15th of every third month,\n            set `tick0` to \"2000-01-15\" and `dtick` to \"M3\". To set\n            ticks every 4 years, set `dtick` to \"M48\"\n        exponentformat\n            Determines a formatting rule for the tick exponents.\n            For example, consider the number 1,000,000,000. If\n            \"none\", it appears as 1,000,000,000. If \"e\", 1e+9. If\n            \"E\", 1E+9. If \"power\", 1x10^9 (with 9 in a super\n            script). If \"SI\", 1G. If \"B\", 1B.\n        fixedrange\n            Determines whether or not this axis is zoom-able. If\n            true, then zoom is disabled.\n        gridcolor\n            Sets the color of the grid lines.\n        gridwidth\n            Sets the width (in px) of the grid lines.\n        hoverformat\n            Sets the hover text formatting rule using d3 formatting\n            mini-languages which are very similar to those in\n            Python. For numbers, see:\n            https://github.com/d3/d3-3.x-api-\n            reference/blob/master/Formatting.md#d3_format And for\n            dates see: https://github.com/d3/d3-time-\n            format#locale_format We add one item to d3's date\n            formatter: \"%{n}f\" for fractional seconds with n\n            digits. For example, *2016-10-13 09:15:23.456* with\n            tickformat \"%H~%M~%S.%2f\" would display \"09~15~23.46\"\n        layer\n            Sets the layer on which this axis is displayed. If\n            *above traces*, this axis is displayed above all the\n            subplot's traces If *below traces*, this axis is\n            displayed below all the subplot's traces, but above the\n            grid lines. Useful when used together with scatter-like\n            traces with `cliponaxis` set to False to show markers\n            and/or text nodes above this axis.\n        linecolor\n            Sets the axis line color.\n        linewidth\n            Sets the width (in px) of the axis line.\n        matches\n            If set to another axis id (e.g. `x2`, `y`), the range\n            of this axis will match the range of the corresponding\n            axis in data-coordinates space. Moreover, matching axes\n            share auto-range values, category lists and histogram\n            auto-bins. Note that setting axes simultaneously in\n            both a `scaleanchor` and a `matches` constraint is\n            currently forbidden. Moreover, note that matching axes\n            must have the same `type`.\n        mirror\n            Determines if the axis lines or/and ticks are mirrored\n            to the opposite side of the plotting area. If True, the\n            axis lines are mirrored. If \"ticks\", the axis lines and\n            ticks are mirrored. If False, mirroring is disable. If\n            \"all\", axis lines are mirrored on all shared-axes\n            subplots. If \"allticks\", axis lines and ticks are\n            mirrored on all shared-axes subplots.\n        nticks\n            Specifies the maximum number of ticks for the\n            particular axis. The actual number of ticks will be\n            chosen automatically to be less than or equal to\n            `nticks`. Has an effect only if `tickmode` is set to\n            \"auto\".\n        overlaying\n            If set a same-letter axis id, this axis is overlaid on\n            top of the corresponding same-letter axis, with traces\n            and axes visible for both axes. If False, this axis\n            does not overlay any same-letter axes. In this case,\n            for axes with overlapping domains only the highest-\n            numbered axis will be visible.\n        position\n            Sets the position of this axis in the plotting space\n            (in normalized coordinates). Only has an effect if\n            `anchor` is set to \"free\".\n        range\n            Sets the range of this axis. If the axis `type` is\n            \"log\", then you must take the log of your desired range\n            (e.g. to set the range from 1 to 100, set the range\n            from 0 to 2). If the axis `type` is \"date\", it should\n            be date strings, like date data, though Date objects\n            and unix milliseconds will be accepted and converted to\n            strings. If the axis `type` is \"category\", it should be\n            numbers, using the scale where each category is\n            assigned a serial number from zero in the order it\n            appears.\n        rangebreaks\n            A tuple of\n            :class:`plotly.graph_objects.layout.yaxis.Rangebreak`\n            instances or dicts with compatible properties\n        rangebreakdefaults\n            When used in a template (as\n            layout.template.layout.yaxis.rangebreakdefaults), sets\n            the default property values to use for elements of\n            layout.yaxis.rangebreaks\n        rangemode\n            If \"normal\", the range is computed in relation to the\n            extrema of the input data. If *tozero*`, the range\n            extends to 0, regardless of the input data If\n            \"nonnegative\", the range is non-negative, regardless of\n            the input data. Applies only to linear axes.\n        scaleanchor\n            If set to another axis id (e.g. `x2`, `y`), the range\n            of this axis changes together with the range of the\n            corresponding axis such that the scale of pixels per\n            unit is in a constant ratio. Both axes are still\n            zoomable, but when you zoom one, the other will zoom\n            the same amount, keeping a fixed midpoint. `constrain`\n            and `constraintoward` determine how we enforce the\n            constraint. You can chain these, ie `yaxis:\n            {scaleanchor: *x*}, xaxis2: {scaleanchor: *y*}` but you\n            can only link axes of the same `type`. The linked axis\n            can have the opposite letter (to constrain the aspect\n            ratio) or the same letter (to match scales across\n            subplots). Loops (`yaxis: {scaleanchor: *x*}, xaxis:\n            {scaleanchor: *y*}` or longer) are redundant and the\n            last constraint encountered will be ignored to avoid\n            possible inconsistent constraints via `scaleratio`.\n            Note that setting axes simultaneously in both a\n            `scaleanchor` and a `matches` constraint is currently\n            forbidden.\n        scaleratio\n            If this axis is linked to another by `scaleanchor`,\n            this determines the pixel to unit scale ratio. For\n            example, if this value is 10, then every unit on this\n            axis spans 10 times the number of pixels as a unit on\n            the linked axis. Use this for example to create an\n            elevation profile where the vertical scale is\n            exaggerated a fixed amount with respect to the\n            horizontal.\n        separatethousands\n            If \"true\", even 4-digit integers are separated\n        showdividers\n            Determines whether or not a dividers are drawn between\n            the category levels of this axis. Only has an effect on\n            \"multicategory\" axes.\n        showexponent\n            If \"all\", all exponents are shown besides their\n            significands. If \"first\", only the exponent of the\n            first tick is shown. If \"last\", only the exponent of\n            the last tick is shown. If \"none\", no exponents appear.\n        showgrid\n            Determines whether or not grid lines are drawn. If\n            True, the grid lines are drawn at every tick mark.\n        showline\n            Determines whether or not a line bounding this axis is\n            drawn.\n        showspikes\n            Determines whether or not spikes (aka droplines) are\n            drawn for this axis. Note: This only takes affect when\n            hovermode = closest\n        showticklabels\n            Determines whether or not the tick labels are drawn.\n        showtickprefix\n            If \"all\", all tick labels are displayed with a prefix.\n            If \"first\", only the first tick is displayed with a\n            prefix. If \"last\", only the last tick is displayed with\n            a suffix. If \"none\", tick prefixes are hidden.\n        showticksuffix\n            Same as `showtickprefix` but for tick suffixes.\n        side\n            Determines whether a x (y) axis is positioned at the\n            \"bottom\" (\"left\") or \"top\" (\"right\") of the plotting\n            area.\n        spikecolor\n            Sets the spike color. If undefined, will use the series\n            color\n        spikedash\n            Sets the dash style of lines. Set to a dash type string\n            (\"solid\", \"dot\", \"dash\", \"longdash\", \"dashdot\", or\n            \"longdashdot\") or a dash length list in px (eg\n            \"5px,10px,2px,2px\").\n        spikemode\n            Determines the drawing mode for the spike line If\n            \"toaxis\", the line is drawn from the data point to the\n            axis the  series is plotted on. If \"across\", the line\n            is drawn across the entire plot area, and supercedes\n            \"toaxis\". If \"marker\", then a marker dot is drawn on\n            the axis the series is plotted on\n        spikesnap\n            Determines whether spikelines are stuck to the cursor\n            or to the closest datapoints.\n        spikethickness\n            Sets the width (in px) of the zero line.\n        tick0\n            Sets the placement of the first tick on this axis. Use\n            with `dtick`. If the axis `type` is \"log\", then you\n            must take the log of your starting tick (e.g. to set\n            the starting tick to 100, set the `tick0` to 2) except\n            when `dtick`=*L<f>* (see `dtick` for more info). If the\n            axis `type` is \"date\", it should be a date string, like\n            date data. If the axis `type` is \"category\", it should\n            be a number, using the scale where each category is\n            assigned a serial number from zero in the order it\n            appears.\n        tickangle\n            Sets the angle of the tick labels with respect to the\n            horizontal. For example, a `tickangle` of -90 draws the\n            tick labels vertically.\n        tickcolor\n            Sets the tick color.\n        tickfont\n            Sets the tick font.\n        tickformat\n            Sets the tick label formatting rule using d3 formatting\n            mini-languages which are very similar to those in\n            Python. For numbers, see:\n            https://github.com/d3/d3-3.x-api-\n            reference/blob/master/Formatting.md#d3_format And for\n            dates see: https://github.com/d3/d3-time-\n            format#locale_format We add one item to d3's date\n            formatter: \"%{n}f\" for fractional seconds with n\n            digits. For example, *2016-10-13 09:15:23.456* with\n            tickformat \"%H~%M~%S.%2f\" would display \"09~15~23.46\"\n        tickformatstops\n            A tuple of :class:`plotly.graph_objects.layout.yaxis.Ti\n            ckformatstop` instances or dicts with compatible\n            properties\n        tickformatstopdefaults\n            When used in a template (as\n            layout.template.layout.yaxis.tickformatstopdefaults),\n            sets the default property values to use for elements of\n            layout.yaxis.tickformatstops\n        ticklabelmode\n            Determines where tick labels are drawn with respect to\n            their corresponding ticks and grid lines. Only has an\n            effect for axes of `type` \"date\" When set to \"period\",\n            tick labels are drawn in the middle of the period\n            between ticks.\n        ticklen\n            Sets the tick length (in px).\n        tickmode\n            Sets the tick mode for this axis. If \"auto\", the number\n            of ticks is set via `nticks`. If \"linear\", the\n            placement of the ticks is determined by a starting\n            position `tick0` and a tick step `dtick` (\"linear\" is\n            the default value if `tick0` and `dtick` are provided).\n            If \"array\", the placement of the ticks is set via\n            `tickvals` and the tick text is `ticktext`. (\"array\" is\n            the default value if `tickvals` is provided).\n        tickprefix\n            Sets a tick label prefix.\n        ticks\n            Determines whether ticks are drawn or not. If \"\", this\n            axis' ticks are not drawn. If \"outside\" (\"inside\"),\n            this axis' are drawn outside (inside) the axis lines.\n        tickson\n            Determines where ticks and grid lines are drawn with\n            respect to their corresponding tick labels. Only has an\n            effect for axes of `type` \"category\" or\n            \"multicategory\". When set to \"boundaries\", ticks and\n            grid lines are drawn half a category to the left/bottom\n            of labels.\n        ticksuffix\n            Sets a tick label suffix.\n        ticktext\n            Sets the text displayed at the ticks position via\n            `tickvals`. Only has an effect if `tickmode` is set to\n            \"array\". Used with `tickvals`.\n        ticktextsrc\n            Sets the source reference on Chart Studio Cloud for\n            ticktext .\n        tickvals\n            Sets the values at which ticks on this axis appear.\n            Only has an effect if `tickmode` is set to \"array\".\n            Used with `ticktext`.\n        tickvalssrc\n            Sets the source reference on Chart Studio Cloud for\n            tickvals .\n        tickwidth\n            Sets the tick width (in px).\n        title\n            :class:`plotly.graph_objects.layout.yaxis.Title`\n            instance or dict with compatible properties\n        titlefont\n            Deprecated: Please use layout.yaxis.title.font instead.\n            Sets this axis' title font. Note that the title's font\n            used to be customized by the now deprecated `titlefont`\n            attribute.\n        type\n            Sets the axis type. By default, plotly attempts to\n            determined the axis type by looking into the data of\n            the traces that referenced the axis in question.\n        uirevision\n            Controls persistence of user-driven changes in axis\n            `range`, `autorange`, and `title` if in `editable:\n            true` configuration. Defaults to `layout.uirevision`.\n        visible\n            A single toggle to hide the axis while preserving\n            interaction like dragging. Default is true when a\n            cheater plot is present on the axis, otherwise false\n        zeroline\n            Determines whether or not a line is drawn at along the\n            0 value of this axis. If True, the zero line is drawn\n            on top of the grid lines.\n        zerolinecolor\n            Sets the line color of the zero line.\n        zerolinewidth\n            Sets the width (in px) of the zero line.\n        ",
     "traceback": [
      "\u001b[0;31m---------------------------------------------------------------------------\u001b[0m",
      "\u001b[0;31mValueError\u001b[0m                                Traceback (most recent call last)",
      "\u001b[0;32m<ipython-input-25-bceed5c98e6b>\u001b[0m in \u001b[0;36m<module>\u001b[0;34m\u001b[0m\n\u001b[0;32m----> 1\u001b[0;31m \u001b[0mfig\u001b[0m\u001b[0;34m.\u001b[0m\u001b[0mupdate_layout\u001b[0m\u001b[0;34m(\u001b[0m\u001b[0myaxis\u001b[0m\u001b[0;34m=\u001b[0m\u001b[0;34m{\u001b[0m\u001b[0;34m't'\u001b[0m\u001b[0;34m:\u001b[0m \u001b[0;34m'a'\u001b[0m\u001b[0;34m}\u001b[0m\u001b[0;34m)\u001b[0m\u001b[0;34m\u001b[0m\u001b[0;34m\u001b[0m\u001b[0m\n\u001b[0m",
      "\u001b[0;32m/usr/lib/python3.8/site-packages/plotly/basedatatypes.py\u001b[0m in \u001b[0;36mupdate_layout\u001b[0;34m(self, dict1, overwrite, **kwargs)\u001b[0m\n\u001b[1;32m    963\u001b[0m             \u001b[0mThe\u001b[0m \u001b[0mFigure\u001b[0m \u001b[0mobject\u001b[0m \u001b[0mthat\u001b[0m \u001b[0mthe\u001b[0m \u001b[0mupdate_layout\u001b[0m \u001b[0mmethod\u001b[0m \u001b[0mwas\u001b[0m \u001b[0mcalled\u001b[0m \u001b[0mon\u001b[0m\u001b[0;34m\u001b[0m\u001b[0;34m\u001b[0m\u001b[0m\n\u001b[1;32m    964\u001b[0m         \"\"\"\n\u001b[0;32m--> 965\u001b[0;31m         \u001b[0mself\u001b[0m\u001b[0;34m.\u001b[0m\u001b[0mlayout\u001b[0m\u001b[0;34m.\u001b[0m\u001b[0mupdate\u001b[0m\u001b[0;34m(\u001b[0m\u001b[0mdict1\u001b[0m\u001b[0;34m,\u001b[0m \u001b[0moverwrite\u001b[0m\u001b[0;34m=\u001b[0m\u001b[0moverwrite\u001b[0m\u001b[0;34m,\u001b[0m \u001b[0;34m**\u001b[0m\u001b[0mkwargs\u001b[0m\u001b[0;34m)\u001b[0m\u001b[0;34m\u001b[0m\u001b[0;34m\u001b[0m\u001b[0m\n\u001b[0m\u001b[1;32m    966\u001b[0m         \u001b[0;32mreturn\u001b[0m \u001b[0mself\u001b[0m\u001b[0;34m\u001b[0m\u001b[0;34m\u001b[0m\u001b[0m\n\u001b[1;32m    967\u001b[0m \u001b[0;34m\u001b[0m\u001b[0m\n",
      "\u001b[0;32m/usr/lib/python3.8/site-packages/plotly/basedatatypes.py\u001b[0m in \u001b[0;36mupdate\u001b[0;34m(self, dict1, overwrite, **kwargs)\u001b[0m\n\u001b[1;32m   4254\u001b[0m             \u001b[0;32mwith\u001b[0m \u001b[0mself\u001b[0m\u001b[0;34m.\u001b[0m\u001b[0mfigure\u001b[0m\u001b[0;34m.\u001b[0m\u001b[0mbatch_update\u001b[0m\u001b[0;34m(\u001b[0m\u001b[0;34m)\u001b[0m\u001b[0;34m:\u001b[0m\u001b[0;34m\u001b[0m\u001b[0;34m\u001b[0m\u001b[0m\n\u001b[1;32m   4255\u001b[0m                 \u001b[0mBaseFigure\u001b[0m\u001b[0;34m.\u001b[0m\u001b[0m_perform_update\u001b[0m\u001b[0;34m(\u001b[0m\u001b[0mself\u001b[0m\u001b[0;34m,\u001b[0m \u001b[0mdict1\u001b[0m\u001b[0;34m,\u001b[0m \u001b[0moverwrite\u001b[0m\u001b[0;34m=\u001b[0m\u001b[0moverwrite\u001b[0m\u001b[0;34m)\u001b[0m\u001b[0;34m\u001b[0m\u001b[0;34m\u001b[0m\u001b[0m\n\u001b[0;32m-> 4256\u001b[0;31m                 \u001b[0mBaseFigure\u001b[0m\u001b[0;34m.\u001b[0m\u001b[0m_perform_update\u001b[0m\u001b[0;34m(\u001b[0m\u001b[0mself\u001b[0m\u001b[0;34m,\u001b[0m \u001b[0mkwargs\u001b[0m\u001b[0;34m,\u001b[0m \u001b[0moverwrite\u001b[0m\u001b[0;34m=\u001b[0m\u001b[0moverwrite\u001b[0m\u001b[0;34m)\u001b[0m\u001b[0;34m\u001b[0m\u001b[0;34m\u001b[0m\u001b[0m\n\u001b[0m\u001b[1;32m   4257\u001b[0m         \u001b[0;32melse\u001b[0m\u001b[0;34m:\u001b[0m\u001b[0;34m\u001b[0m\u001b[0;34m\u001b[0m\u001b[0m\n\u001b[1;32m   4258\u001b[0m             \u001b[0mBaseFigure\u001b[0m\u001b[0;34m.\u001b[0m\u001b[0m_perform_update\u001b[0m\u001b[0;34m(\u001b[0m\u001b[0mself\u001b[0m\u001b[0;34m,\u001b[0m \u001b[0mdict1\u001b[0m\u001b[0;34m,\u001b[0m \u001b[0moverwrite\u001b[0m\u001b[0;34m=\u001b[0m\u001b[0moverwrite\u001b[0m\u001b[0;34m)\u001b[0m\u001b[0;34m\u001b[0m\u001b[0;34m\u001b[0m\u001b[0m\n",
      "\u001b[0;32m/usr/lib/python3.8/site-packages/plotly/basedatatypes.py\u001b[0m in \u001b[0;36m_perform_update\u001b[0;34m(plotly_obj, update_obj, overwrite)\u001b[0m\n\u001b[1;32m   3356\u001b[0m                     \u001b[0;31m# Update compound objects recursively\u001b[0m\u001b[0;34m\u001b[0m\u001b[0;34m\u001b[0m\u001b[0;34m\u001b[0m\u001b[0m\n\u001b[1;32m   3357\u001b[0m                     \u001b[0;31m# plotly_obj[key].update(val)\u001b[0m\u001b[0;34m\u001b[0m\u001b[0;34m\u001b[0m\u001b[0;34m\u001b[0m\u001b[0m\n\u001b[0;32m-> 3358\u001b[0;31m                     \u001b[0mBaseFigure\u001b[0m\u001b[0;34m.\u001b[0m\u001b[0m_perform_update\u001b[0m\u001b[0;34m(\u001b[0m\u001b[0mplotly_obj\u001b[0m\u001b[0;34m[\u001b[0m\u001b[0mkey\u001b[0m\u001b[0;34m]\u001b[0m\u001b[0;34m,\u001b[0m \u001b[0mval\u001b[0m\u001b[0;34m)\u001b[0m\u001b[0;34m\u001b[0m\u001b[0;34m\u001b[0m\u001b[0m\n\u001b[0m\u001b[1;32m   3359\u001b[0m                 \u001b[0;32melif\u001b[0m \u001b[0misinstance\u001b[0m\u001b[0;34m(\u001b[0m\u001b[0mvalidator\u001b[0m\u001b[0;34m,\u001b[0m \u001b[0mCompoundArrayValidator\u001b[0m\u001b[0;34m)\u001b[0m\u001b[0;34m:\u001b[0m\u001b[0;34m\u001b[0m\u001b[0;34m\u001b[0m\u001b[0m\n\u001b[1;32m   3360\u001b[0m                     \u001b[0;32mif\u001b[0m \u001b[0mplotly_obj\u001b[0m\u001b[0;34m[\u001b[0m\u001b[0mkey\u001b[0m\u001b[0;34m]\u001b[0m\u001b[0;34m:\u001b[0m\u001b[0;34m\u001b[0m\u001b[0;34m\u001b[0m\u001b[0m\n",
      "\u001b[0;32m/usr/lib/python3.8/site-packages/plotly/basedatatypes.py\u001b[0m in \u001b[0;36m_perform_update\u001b[0;34m(plotly_obj, update_obj, overwrite)\u001b[0m\n\u001b[1;32m   3333\u001b[0m             \u001b[0minvalid_props\u001b[0m \u001b[0;34m=\u001b[0m \u001b[0;34m[\u001b[0m\u001b[0mk\u001b[0m \u001b[0;32mfor\u001b[0m \u001b[0mk\u001b[0m \u001b[0;32min\u001b[0m \u001b[0mupdate_obj\u001b[0m \u001b[0;32mif\u001b[0m \u001b[0mk\u001b[0m \u001b[0;32mnot\u001b[0m \u001b[0;32min\u001b[0m \u001b[0mplotly_obj\u001b[0m\u001b[0;34m]\u001b[0m\u001b[0;34m\u001b[0m\u001b[0;34m\u001b[0m\u001b[0m\n\u001b[1;32m   3334\u001b[0m \u001b[0;34m\u001b[0m\u001b[0m\n\u001b[0;32m-> 3335\u001b[0;31m             \u001b[0mplotly_obj\u001b[0m\u001b[0;34m.\u001b[0m\u001b[0m_raise_on_invalid_property_error\u001b[0m\u001b[0;34m(\u001b[0m\u001b[0;34m*\u001b[0m\u001b[0minvalid_props\u001b[0m\u001b[0;34m)\u001b[0m\u001b[0;34m\u001b[0m\u001b[0;34m\u001b[0m\u001b[0m\n\u001b[0m\u001b[1;32m   3336\u001b[0m \u001b[0;34m\u001b[0m\u001b[0m\n\u001b[1;32m   3337\u001b[0m             \u001b[0;31m# Convert update_obj to dict\u001b[0m\u001b[0;34m\u001b[0m\u001b[0;34m\u001b[0m\u001b[0;34m\u001b[0m\u001b[0m\n",
      "\u001b[0;32m/usr/lib/python3.8/site-packages/plotly/basedatatypes.py\u001b[0m in \u001b[0;36m_raise_on_invalid_property_error\u001b[0;34m(self, *args)\u001b[0m\n\u001b[1;32m   4215\u001b[0m                 \u001b[0mfull_obj_name\u001b[0m \u001b[0;34m=\u001b[0m \u001b[0mmodule_root\u001b[0m \u001b[0;34m+\u001b[0m \u001b[0mself\u001b[0m\u001b[0;34m.\u001b[0m\u001b[0m__class__\u001b[0m\u001b[0;34m.\u001b[0m\u001b[0m__name__\u001b[0m\u001b[0;34m\u001b[0m\u001b[0;34m\u001b[0m\u001b[0m\n\u001b[1;32m   4216\u001b[0m \u001b[0;34m\u001b[0m\u001b[0m\n\u001b[0;32m-> 4217\u001b[0;31m             raise ValueError(\n\u001b[0m\u001b[1;32m   4218\u001b[0m                 \u001b[0;34m\"Invalid {prop_str} specified for object of type \"\u001b[0m\u001b[0;34m\u001b[0m\u001b[0;34m\u001b[0m\u001b[0m\n\u001b[1;32m   4219\u001b[0m                 \u001b[0;34m\"{full_obj_name}: {invalid_str}\\n\\n\"\u001b[0m\u001b[0;34m\u001b[0m\u001b[0;34m\u001b[0m\u001b[0m\n",
      "\u001b[0;31mValueError\u001b[0m: Invalid property specified for object of type plotly.graph_objs.layout.YAxis: 't'\n\n    Valid properties:\n        anchor\n            If set to an opposite-letter axis id (e.g. `x2`, `y`),\n            this axis is bound to the corresponding opposite-letter\n            axis. If set to \"free\", this axis' position is\n            determined by `position`.\n        automargin\n            Determines whether long tick labels automatically grow\n            the figure margins.\n        autorange\n            Determines whether or not the range of this axis is\n            computed in relation to the input data. See `rangemode`\n            for more info. If `range` is provided, then `autorange`\n            is set to False.\n        calendar\n            Sets the calendar system to use for `range` and `tick0`\n            if this is a date axis. This does not set the calendar\n            for interpreting data on this axis, that's specified in\n            the trace or via the global `layout.calendar`\n        categoryarray\n            Sets the order in which categories on this axis appear.\n            Only has an effect if `categoryorder` is set to\n            \"array\". Used with `categoryorder`.\n        categoryarraysrc\n            Sets the source reference on Chart Studio Cloud for\n            categoryarray .\n        categoryorder\n            Specifies the ordering logic for the case of\n            categorical variables. By default, plotly uses \"trace\",\n            which specifies the order that is present in the data\n            supplied. Set `categoryorder` to *category ascending*\n            or *category descending* if order should be determined\n            by the alphanumerical order of the category names. Set\n            `categoryorder` to \"array\" to derive the ordering from\n            the attribute `categoryarray`. If a category is not\n            found in the `categoryarray` array, the sorting\n            behavior for that attribute will be identical to the\n            \"trace\" mode. The unspecified categories will follow\n            the categories in `categoryarray`. Set `categoryorder`\n            to *total ascending* or *total descending* if order\n            should be determined by the numerical order of the\n            values. Similarly, the order can be determined by the\n            min, max, sum, mean or median of all the values.\n        color\n            Sets default for all colors associated with this axis\n            all at once: line, font, tick, and grid colors. Grid\n            color is lightened by blending this with the plot\n            background Individual pieces can override this.\n        constrain\n            If this axis needs to be compressed (either due to its\n            own `scaleanchor` and `scaleratio` or those of the\n            other axis), determines how that happens: by increasing\n            the \"range\" (default), or by decreasing the \"domain\".\n        constraintoward\n            If this axis needs to be compressed (either due to its\n            own `scaleanchor` and `scaleratio` or those of the\n            other axis), determines which direction we push the\n            originally specified plot area. Options are \"left\",\n            \"center\" (default), and \"right\" for x axes, and \"top\",\n            \"middle\" (default), and \"bottom\" for y axes.\n        dividercolor\n            Sets the color of the dividers Only has an effect on\n            \"multicategory\" axes.\n        dividerwidth\n            Sets the width (in px) of the dividers Only has an\n            effect on \"multicategory\" axes.\n        domain\n            Sets the domain of this axis (in plot fraction).\n        dtick\n            Sets the step in-between ticks on this axis. Use with\n            `tick0`. Must be a positive number, or special strings\n            available to \"log\" and \"date\" axes. If the axis `type`\n            is \"log\", then ticks are set every 10^(n*dtick) where n\n            is the tick number. For example, to set a tick mark at\n            1, 10, 100, 1000, ... set dtick to 1. To set tick marks\n            at 1, 100, 10000, ... set dtick to 2. To set tick marks\n            at 1, 5, 25, 125, 625, 3125, ... set dtick to\n            log_10(5), or 0.69897000433. \"log\" has several special\n            values; \"L<f>\", where `f` is a positive number, gives\n            ticks linearly spaced in value (but not position). For\n            example `tick0` = 0.1, `dtick` = \"L0.5\" will put ticks\n            at 0.1, 0.6, 1.1, 1.6 etc. To show powers of 10 plus\n            small digits between, use \"D1\" (all digits) or \"D2\"\n            (only 2 and 5). `tick0` is ignored for \"D1\" and \"D2\".\n            If the axis `type` is \"date\", then you must convert the\n            time to milliseconds. For example, to set the interval\n            between ticks to one day, set `dtick` to 86400000.0.\n            \"date\" also has special values \"M<n>\" gives ticks\n            spaced by a number of months. `n` must be a positive\n            integer. To set ticks on the 15th of every third month,\n            set `tick0` to \"2000-01-15\" and `dtick` to \"M3\". To set\n            ticks every 4 years, set `dtick` to \"M48\"\n        exponentformat\n            Determines a formatting rule for the tick exponents.\n            For example, consider the number 1,000,000,000. If\n            \"none\", it appears as 1,000,000,000. If \"e\", 1e+9. If\n            \"E\", 1E+9. If \"power\", 1x10^9 (with 9 in a super\n            script). If \"SI\", 1G. If \"B\", 1B.\n        fixedrange\n            Determines whether or not this axis is zoom-able. If\n            true, then zoom is disabled.\n        gridcolor\n            Sets the color of the grid lines.\n        gridwidth\n            Sets the width (in px) of the grid lines.\n        hoverformat\n            Sets the hover text formatting rule using d3 formatting\n            mini-languages which are very similar to those in\n            Python. For numbers, see:\n            https://github.com/d3/d3-3.x-api-\n            reference/blob/master/Formatting.md#d3_format And for\n            dates see: https://github.com/d3/d3-time-\n            format#locale_format We add one item to d3's date\n            formatter: \"%{n}f\" for fractional seconds with n\n            digits. For example, *2016-10-13 09:15:23.456* with\n            tickformat \"%H~%M~%S.%2f\" would display \"09~15~23.46\"\n        layer\n            Sets the layer on which this axis is displayed. If\n            *above traces*, this axis is displayed above all the\n            subplot's traces If *below traces*, this axis is\n            displayed below all the subplot's traces, but above the\n            grid lines. Useful when used together with scatter-like\n            traces with `cliponaxis` set to False to show markers\n            and/or text nodes above this axis.\n        linecolor\n            Sets the axis line color.\n        linewidth\n            Sets the width (in px) of the axis line.\n        matches\n            If set to another axis id (e.g. `x2`, `y`), the range\n            of this axis will match the range of the corresponding\n            axis in data-coordinates space. Moreover, matching axes\n            share auto-range values, category lists and histogram\n            auto-bins. Note that setting axes simultaneously in\n            both a `scaleanchor` and a `matches` constraint is\n            currently forbidden. Moreover, note that matching axes\n            must have the same `type`.\n        mirror\n            Determines if the axis lines or/and ticks are mirrored\n            to the opposite side of the plotting area. If True, the\n            axis lines are mirrored. If \"ticks\", the axis lines and\n            ticks are mirrored. If False, mirroring is disable. If\n            \"all\", axis lines are mirrored on all shared-axes\n            subplots. If \"allticks\", axis lines and ticks are\n            mirrored on all shared-axes subplots.\n        nticks\n            Specifies the maximum number of ticks for the\n            particular axis. The actual number of ticks will be\n            chosen automatically to be less than or equal to\n            `nticks`. Has an effect only if `tickmode` is set to\n            \"auto\".\n        overlaying\n            If set a same-letter axis id, this axis is overlaid on\n            top of the corresponding same-letter axis, with traces\n            and axes visible for both axes. If False, this axis\n            does not overlay any same-letter axes. In this case,\n            for axes with overlapping domains only the highest-\n            numbered axis will be visible.\n        position\n            Sets the position of this axis in the plotting space\n            (in normalized coordinates). Only has an effect if\n            `anchor` is set to \"free\".\n        range\n            Sets the range of this axis. If the axis `type` is\n            \"log\", then you must take the log of your desired range\n            (e.g. to set the range from 1 to 100, set the range\n            from 0 to 2). If the axis `type` is \"date\", it should\n            be date strings, like date data, though Date objects\n            and unix milliseconds will be accepted and converted to\n            strings. If the axis `type` is \"category\", it should be\n            numbers, using the scale where each category is\n            assigned a serial number from zero in the order it\n            appears.\n        rangebreaks\n            A tuple of\n            :class:`plotly.graph_objects.layout.yaxis.Rangebreak`\n            instances or dicts with compatible properties\n        rangebreakdefaults\n            When used in a template (as\n            layout.template.layout.yaxis.rangebreakdefaults), sets\n            the default property values to use for elements of\n            layout.yaxis.rangebreaks\n        rangemode\n            If \"normal\", the range is computed in relation to the\n            extrema of the input data. If *tozero*`, the range\n            extends to 0, regardless of the input data If\n            \"nonnegative\", the range is non-negative, regardless of\n            the input data. Applies only to linear axes.\n        scaleanchor\n            If set to another axis id (e.g. `x2`, `y`), the range\n            of this axis changes together with the range of the\n            corresponding axis such that the scale of pixels per\n            unit is in a constant ratio. Both axes are still\n            zoomable, but when you zoom one, the other will zoom\n            the same amount, keeping a fixed midpoint. `constrain`\n            and `constraintoward` determine how we enforce the\n            constraint. You can chain these, ie `yaxis:\n            {scaleanchor: *x*}, xaxis2: {scaleanchor: *y*}` but you\n            can only link axes of the same `type`. The linked axis\n            can have the opposite letter (to constrain the aspect\n            ratio) or the same letter (to match scales across\n            subplots). Loops (`yaxis: {scaleanchor: *x*}, xaxis:\n            {scaleanchor: *y*}` or longer) are redundant and the\n            last constraint encountered will be ignored to avoid\n            possible inconsistent constraints via `scaleratio`.\n            Note that setting axes simultaneously in both a\n            `scaleanchor` and a `matches` constraint is currently\n            forbidden.\n        scaleratio\n            If this axis is linked to another by `scaleanchor`,\n            this determines the pixel to unit scale ratio. For\n            example, if this value is 10, then every unit on this\n            axis spans 10 times the number of pixels as a unit on\n            the linked axis. Use this for example to create an\n            elevation profile where the vertical scale is\n            exaggerated a fixed amount with respect to the\n            horizontal.\n        separatethousands\n            If \"true\", even 4-digit integers are separated\n        showdividers\n            Determines whether or not a dividers are drawn between\n            the category levels of this axis. Only has an effect on\n            \"multicategory\" axes.\n        showexponent\n            If \"all\", all exponents are shown besides their\n            significands. If \"first\", only the exponent of the\n            first tick is shown. If \"last\", only the exponent of\n            the last tick is shown. If \"none\", no exponents appear.\n        showgrid\n            Determines whether or not grid lines are drawn. If\n            True, the grid lines are drawn at every tick mark.\n        showline\n            Determines whether or not a line bounding this axis is\n            drawn.\n        showspikes\n            Determines whether or not spikes (aka droplines) are\n            drawn for this axis. Note: This only takes affect when\n            hovermode = closest\n        showticklabels\n            Determines whether or not the tick labels are drawn.\n        showtickprefix\n            If \"all\", all tick labels are displayed with a prefix.\n            If \"first\", only the first tick is displayed with a\n            prefix. If \"last\", only the last tick is displayed with\n            a suffix. If \"none\", tick prefixes are hidden.\n        showticksuffix\n            Same as `showtickprefix` but for tick suffixes.\n        side\n            Determines whether a x (y) axis is positioned at the\n            \"bottom\" (\"left\") or \"top\" (\"right\") of the plotting\n            area.\n        spikecolor\n            Sets the spike color. If undefined, will use the series\n            color\n        spikedash\n            Sets the dash style of lines. Set to a dash type string\n            (\"solid\", \"dot\", \"dash\", \"longdash\", \"dashdot\", or\n            \"longdashdot\") or a dash length list in px (eg\n            \"5px,10px,2px,2px\").\n        spikemode\n            Determines the drawing mode for the spike line If\n            \"toaxis\", the line is drawn from the data point to the\n            axis the  series is plotted on. If \"across\", the line\n            is drawn across the entire plot area, and supercedes\n            \"toaxis\". If \"marker\", then a marker dot is drawn on\n            the axis the series is plotted on\n        spikesnap\n            Determines whether spikelines are stuck to the cursor\n            or to the closest datapoints.\n        spikethickness\n            Sets the width (in px) of the zero line.\n        tick0\n            Sets the placement of the first tick on this axis. Use\n            with `dtick`. If the axis `type` is \"log\", then you\n            must take the log of your starting tick (e.g. to set\n            the starting tick to 100, set the `tick0` to 2) except\n            when `dtick`=*L<f>* (see `dtick` for more info). If the\n            axis `type` is \"date\", it should be a date string, like\n            date data. If the axis `type` is \"category\", it should\n            be a number, using the scale where each category is\n            assigned a serial number from zero in the order it\n            appears.\n        tickangle\n            Sets the angle of the tick labels with respect to the\n            horizontal. For example, a `tickangle` of -90 draws the\n            tick labels vertically.\n        tickcolor\n            Sets the tick color.\n        tickfont\n            Sets the tick font.\n        tickformat\n            Sets the tick label formatting rule using d3 formatting\n            mini-languages which are very similar to those in\n            Python. For numbers, see:\n            https://github.com/d3/d3-3.x-api-\n            reference/blob/master/Formatting.md#d3_format And for\n            dates see: https://github.com/d3/d3-time-\n            format#locale_format We add one item to d3's date\n            formatter: \"%{n}f\" for fractional seconds with n\n            digits. For example, *2016-10-13 09:15:23.456* with\n            tickformat \"%H~%M~%S.%2f\" would display \"09~15~23.46\"\n        tickformatstops\n            A tuple of :class:`plotly.graph_objects.layout.yaxis.Ti\n            ckformatstop` instances or dicts with compatible\n            properties\n        tickformatstopdefaults\n            When used in a template (as\n            layout.template.layout.yaxis.tickformatstopdefaults),\n            sets the default property values to use for elements of\n            layout.yaxis.tickformatstops\n        ticklabelmode\n            Determines where tick labels are drawn with respect to\n            their corresponding ticks and grid lines. Only has an\n            effect for axes of `type` \"date\" When set to \"period\",\n            tick labels are drawn in the middle of the period\n            between ticks.\n        ticklen\n            Sets the tick length (in px).\n        tickmode\n            Sets the tick mode for this axis. If \"auto\", the number\n            of ticks is set via `nticks`. If \"linear\", the\n            placement of the ticks is determined by a starting\n            position `tick0` and a tick step `dtick` (\"linear\" is\n            the default value if `tick0` and `dtick` are provided).\n            If \"array\", the placement of the ticks is set via\n            `tickvals` and the tick text is `ticktext`. (\"array\" is\n            the default value if `tickvals` is provided).\n        tickprefix\n            Sets a tick label prefix.\n        ticks\n            Determines whether ticks are drawn or not. If \"\", this\n            axis' ticks are not drawn. If \"outside\" (\"inside\"),\n            this axis' are drawn outside (inside) the axis lines.\n        tickson\n            Determines where ticks and grid lines are drawn with\n            respect to their corresponding tick labels. Only has an\n            effect for axes of `type` \"category\" or\n            \"multicategory\". When set to \"boundaries\", ticks and\n            grid lines are drawn half a category to the left/bottom\n            of labels.\n        ticksuffix\n            Sets a tick label suffix.\n        ticktext\n            Sets the text displayed at the ticks position via\n            `tickvals`. Only has an effect if `tickmode` is set to\n            \"array\". Used with `tickvals`.\n        ticktextsrc\n            Sets the source reference on Chart Studio Cloud for\n            ticktext .\n        tickvals\n            Sets the values at which ticks on this axis appear.\n            Only has an effect if `tickmode` is set to \"array\".\n            Used with `ticktext`.\n        tickvalssrc\n            Sets the source reference on Chart Studio Cloud for\n            tickvals .\n        tickwidth\n            Sets the tick width (in px).\n        title\n            :class:`plotly.graph_objects.layout.yaxis.Title`\n            instance or dict with compatible properties\n        titlefont\n            Deprecated: Please use layout.yaxis.title.font instead.\n            Sets this axis' title font. Note that the title's font\n            used to be customized by the now deprecated `titlefont`\n            attribute.\n        type\n            Sets the axis type. By default, plotly attempts to\n            determined the axis type by looking into the data of\n            the traces that referenced the axis in question.\n        uirevision\n            Controls persistence of user-driven changes in axis\n            `range`, `autorange`, and `title` if in `editable:\n            true` configuration. Defaults to `layout.uirevision`.\n        visible\n            A single toggle to hide the axis while preserving\n            interaction like dragging. Default is true when a\n            cheater plot is present on the axis, otherwise false\n        zeroline\n            Determines whether or not a line is drawn at along the\n            0 value of this axis. If True, the zero line is drawn\n            on top of the grid lines.\n        zerolinecolor\n            Sets the line color of the zero line.\n        zerolinewidth\n            Sets the width (in px) of the zero line.\n        "
     ]
    }
   ],
   "source": [
    "fig.update_layout(yaxis={'t': 'a'})"
   ]
  },
  {
   "cell_type": "code",
   "execution_count": 161,
   "metadata": {},
   "outputs": [
    {
     "output_type": "execute_result",
     "data": {
      "text/plain": "(None,\n {'frame': {'duration': 500, 'redraw': True},\n  'mode': 'immediate',\n  'fromcurrent': False,\n  'transition': {'duration': 500, 'easing': 'linear'}})"
     },
     "metadata": {},
     "execution_count": 161
    }
   ],
   "source": [
    "a[1]['fromcurrent'] = False\n",
    "a"
   ]
  },
  {
   "cell_type": "code",
   "execution_count": 181,
   "metadata": {},
   "outputs": [],
   "source": [
    "args = fig.layout.updatemenus[0]['buttons'][0]['args']\n",
    "args[1]['fromcurrent'] = False\n",
    "label = fig.layout.updatemenus[0]['buttons'][0]['label']\n",
    "method = fig.layout.updatemenus[0]['buttons'][0]['method']"
   ]
  },
  {
   "cell_type": "code",
   "execution_count": 188,
   "metadata": {},
   "outputs": [
    {
     "output_type": "execute_result",
     "data": {
      "text/plain": "layout.updatemenu.Button({\n    'args': [None, {'frame': {'duration': 500, 'redraw': True}, 'mode':\n             'immediate', 'fromcurrent': False, 'transition': {'duration': 500,\n             'easing': 'linear'}}],\n    'label': '&#9654;',\n    'method': 'animate'\n})"
     },
     "metadata": {},
     "execution_count": 188
    }
   ],
   "source": [
    "fig.layout.updatemenus[0]['buttons'][1]"
   ]
  },
  {
   "cell_type": "code",
   "execution_count": 132,
   "metadata": {},
   "outputs": [
    {
     "output_type": "execute_result",
     "data": {
      "text/plain": "5aAx2yezTd8zXrkmtKl66Z    53\n5MFzQMkrl1FOOng9tq6R9r    52\n5knuzwU65gJK7IF5yJsuaW    52\n1xznGGDReH1oQq0xzbwXa3    52\n5GXAXm5YOmYT0kL5jHvYBt    52\n                          ..\n3CE1HoJJ0FVKo7JHsWIuvC     1\n6KSrm7psP1KvqBRXcD42AS     1\n4LeP389CNcbrQX8ZECZlPw     1\n31L9yLXSj6LpCFupyMV6CR     1\n15AN6WwAraTEuS0SGDl4Xr     1\nName: id, Length: 2361, dtype: int64"
     },
     "metadata": {},
     "execution_count": 132
    }
   ],
   "source": [
    "df[df['date'] == '2017-01-01']['id'].value_counts()"
   ]
  },
  {
   "cell_type": "code",
   "execution_count": 124,
   "metadata": {},
   "outputs": [
    {
     "output_type": "execute_result",
     "data": {
      "text/plain": "                        position  streams\nid                                       \n5aAx2yezTd8zXrkmtKl66Z       421  3130581\n7BKLCZ1jbUBVqRi2FVlTVw       539  3010132\n4pdPtRcBmOSQDlJ3Fk945m       464  2540156\n5knuzwU65gJK7IF5yJsuaW       926  2352144\n1xznGGDReH1oQq0xzbwXa3      1010  2255673\n...                          ...      ...\n30CenAPBR2VmH91r4Um32b       108     1020\n7uTBq4YIpKyCBWMf1tGap2       195     1018\n0NEj7uUWXkaDgKzMwnwSbh        73     1009\n4LEzZn6vpMkQAQuwFInnSh       197     1005\n7qxgfIAuWUY9VHLn35Sqwg       199     1001\n\n[2361 rows x 2 columns]",
      "text/html": "<div>\n<style scoped>\n    .dataframe tbody tr th:only-of-type {\n        vertical-align: middle;\n    }\n\n    .dataframe tbody tr th {\n        vertical-align: top;\n    }\n\n    .dataframe thead th {\n        text-align: right;\n    }\n</style>\n<table border=\"1\" class=\"dataframe\">\n  <thead>\n    <tr style=\"text-align: right;\">\n      <th></th>\n      <th>position</th>\n      <th>streams</th>\n    </tr>\n    <tr>\n      <th>id</th>\n      <th></th>\n      <th></th>\n    </tr>\n  </thead>\n  <tbody>\n    <tr>\n      <th>5aAx2yezTd8zXrkmtKl66Z</th>\n      <td>421</td>\n      <td>3130581</td>\n    </tr>\n    <tr>\n      <th>7BKLCZ1jbUBVqRi2FVlTVw</th>\n      <td>539</td>\n      <td>3010132</td>\n    </tr>\n    <tr>\n      <th>4pdPtRcBmOSQDlJ3Fk945m</th>\n      <td>464</td>\n      <td>2540156</td>\n    </tr>\n    <tr>\n      <th>5knuzwU65gJK7IF5yJsuaW</th>\n      <td>926</td>\n      <td>2352144</td>\n    </tr>\n    <tr>\n      <th>1xznGGDReH1oQq0xzbwXa3</th>\n      <td>1010</td>\n      <td>2255673</td>\n    </tr>\n    <tr>\n      <th>...</th>\n      <td>...</td>\n      <td>...</td>\n    </tr>\n    <tr>\n      <th>30CenAPBR2VmH91r4Um32b</th>\n      <td>108</td>\n      <td>1020</td>\n    </tr>\n    <tr>\n      <th>7uTBq4YIpKyCBWMf1tGap2</th>\n      <td>195</td>\n      <td>1018</td>\n    </tr>\n    <tr>\n      <th>0NEj7uUWXkaDgKzMwnwSbh</th>\n      <td>73</td>\n      <td>1009</td>\n    </tr>\n    <tr>\n      <th>4LEzZn6vpMkQAQuwFInnSh</th>\n      <td>197</td>\n      <td>1005</td>\n    </tr>\n    <tr>\n      <th>7qxgfIAuWUY9VHLn35Sqwg</th>\n      <td>199</td>\n      <td>1001</td>\n    </tr>\n  </tbody>\n</table>\n<p>2361 rows × 2 columns</p>\n</div>"
     },
     "metadata": {},
     "execution_count": 124
    }
   ],
   "source": [
    "df[df['date'] == '2017-01-01'].groupby(by='id').sum().sort_values(by='streams',ascending=False)"
   ]
  },
  {
   "cell_type": "code",
   "execution_count": 118,
   "metadata": {},
   "outputs": [
    {
     "output_type": "execute_result",
     "data": {
      "text/plain": "                         track_name                      id\n0        Reggaetón Lento (Bailemos)  3AEZUABDXNtecAOSC1qTfo\n1                          Chantaje  6mICuAdrwEjh6Y6lroV2Kg\n2         Otra Vez (feat. J Balvin)  3QwBODjSEzelZyVjxPOHdq\n3                      Vente Pa' Ca  7DM4BPaS7uofFul3ywMe46\n4                            Safari  6rQSrBHf7HlZjtcMZ4S4bO\n...                             ...                     ...\n3367392          More Than You Know  71bBFbfn2OBK5QwUJSLS44\n3367393                      Issues  7vu0JkJh0ldukEYbTVcqd0\n3367394                 Tuo Fei Lun  0pmGleExiQyd0HxV5kAOwK\n3367395                          面具  58SUsgamkW6vFFq0YNKGrf\n3367396                  Let Her Go  2jyjhRf6DVbMPU5zxagN2h\n\n[3367397 rows x 2 columns]",
      "text/html": "<div>\n<style scoped>\n    .dataframe tbody tr th:only-of-type {\n        vertical-align: middle;\n    }\n\n    .dataframe tbody tr th {\n        vertical-align: top;\n    }\n\n    .dataframe thead th {\n        text-align: right;\n    }\n</style>\n<table border=\"1\" class=\"dataframe\">\n  <thead>\n    <tr style=\"text-align: right;\">\n      <th></th>\n      <th>track_name</th>\n      <th>id</th>\n    </tr>\n  </thead>\n  <tbody>\n    <tr>\n      <th>0</th>\n      <td>Reggaetón Lento (Bailemos)</td>\n      <td>3AEZUABDXNtecAOSC1qTfo</td>\n    </tr>\n    <tr>\n      <th>1</th>\n      <td>Chantaje</td>\n      <td>6mICuAdrwEjh6Y6lroV2Kg</td>\n    </tr>\n    <tr>\n      <th>2</th>\n      <td>Otra Vez (feat. J Balvin)</td>\n      <td>3QwBODjSEzelZyVjxPOHdq</td>\n    </tr>\n    <tr>\n      <th>3</th>\n      <td>Vente Pa' Ca</td>\n      <td>7DM4BPaS7uofFul3ywMe46</td>\n    </tr>\n    <tr>\n      <th>4</th>\n      <td>Safari</td>\n      <td>6rQSrBHf7HlZjtcMZ4S4bO</td>\n    </tr>\n    <tr>\n      <th>...</th>\n      <td>...</td>\n      <td>...</td>\n    </tr>\n    <tr>\n      <th>3367392</th>\n      <td>More Than You Know</td>\n      <td>71bBFbfn2OBK5QwUJSLS44</td>\n    </tr>\n    <tr>\n      <th>3367393</th>\n      <td>Issues</td>\n      <td>7vu0JkJh0ldukEYbTVcqd0</td>\n    </tr>\n    <tr>\n      <th>3367394</th>\n      <td>Tuo Fei Lun</td>\n      <td>0pmGleExiQyd0HxV5kAOwK</td>\n    </tr>\n    <tr>\n      <th>3367395</th>\n      <td>面具</td>\n      <td>58SUsgamkW6vFFq0YNKGrf</td>\n    </tr>\n    <tr>\n      <th>3367396</th>\n      <td>Let Her Go</td>\n      <td>2jyjhRf6DVbMPU5zxagN2h</td>\n    </tr>\n  </tbody>\n</table>\n<p>3367397 rows × 2 columns</p>\n</div>"
     },
     "metadata": {},
     "execution_count": 118
    }
   ],
   "source": [
    "df[['track_name','id']]"
   ]
  },
  {
   "cell_type": "code",
   "execution_count": 100,
   "metadata": {},
   "outputs": [
    {
     "output_type": "execute_result",
     "data": {
      "text/plain": "         position track_name      artist  streams                      id  \\\n18             19    Starboy  The Weeknd     7006  5aAx2yezTd8zXrkmtKl66Z   \n214            15    Starboy  The Weeknd     7330  5aAx2yezTd8zXrkmtKl66Z   \n410            11    Starboy  The Weeknd     8676  5aAx2yezTd8zXrkmtKl66Z   \n610            11    Starboy  The Weeknd     8903  5aAx2yezTd8zXrkmtKl66Z   \n811            12    Starboy  The Weeknd     8305  5aAx2yezTd8zXrkmtKl66Z   \n...           ...        ...         ...      ...                     ...   \n3365552       156    Starboy  The Weeknd     2313  5aAx2yezTd8zXrkmtKl66Z   \n3365778       182    Starboy  The Weeknd     1799  5aAx2yezTd8zXrkmtKl66Z   \n3365987       191    Starboy  The Weeknd     2199  5aAx2yezTd8zXrkmtKl66Z   \n3366181       185    Starboy  The Weeknd     2263  5aAx2yezTd8zXrkmtKl66Z   \n3366390       194    Starboy  The Weeknd     2207  5aAx2yezTd8zXrkmtKl66Z   \n\n               date region  \n18       2017-01-01    ECU  \n214      2017-01-02    ECU  \n410      2017-01-03    ECU  \n610      2017-01-04    ECU  \n811      2017-01-05    ECU  \n...             ...    ...  \n3365552  2017-12-31    HKG  \n3365778  2018-01-01    HKG  \n3365987  2018-01-02    HKG  \n3366181  2018-01-03    HKG  \n3366390  2018-01-04    HKG  \n\n[12806 rows x 7 columns]",
      "text/html": "<div>\n<style scoped>\n    .dataframe tbody tr th:only-of-type {\n        vertical-align: middle;\n    }\n\n    .dataframe tbody tr th {\n        vertical-align: top;\n    }\n\n    .dataframe thead th {\n        text-align: right;\n    }\n</style>\n<table border=\"1\" class=\"dataframe\">\n  <thead>\n    <tr style=\"text-align: right;\">\n      <th></th>\n      <th>position</th>\n      <th>track_name</th>\n      <th>artist</th>\n      <th>streams</th>\n      <th>id</th>\n      <th>date</th>\n      <th>region</th>\n    </tr>\n  </thead>\n  <tbody>\n    <tr>\n      <th>18</th>\n      <td>19</td>\n      <td>Starboy</td>\n      <td>The Weeknd</td>\n      <td>7006</td>\n      <td>5aAx2yezTd8zXrkmtKl66Z</td>\n      <td>2017-01-01</td>\n      <td>ECU</td>\n    </tr>\n    <tr>\n      <th>214</th>\n      <td>15</td>\n      <td>Starboy</td>\n      <td>The Weeknd</td>\n      <td>7330</td>\n      <td>5aAx2yezTd8zXrkmtKl66Z</td>\n      <td>2017-01-02</td>\n      <td>ECU</td>\n    </tr>\n    <tr>\n      <th>410</th>\n      <td>11</td>\n      <td>Starboy</td>\n      <td>The Weeknd</td>\n      <td>8676</td>\n      <td>5aAx2yezTd8zXrkmtKl66Z</td>\n      <td>2017-01-03</td>\n      <td>ECU</td>\n    </tr>\n    <tr>\n      <th>610</th>\n      <td>11</td>\n      <td>Starboy</td>\n      <td>The Weeknd</td>\n      <td>8903</td>\n      <td>5aAx2yezTd8zXrkmtKl66Z</td>\n      <td>2017-01-04</td>\n      <td>ECU</td>\n    </tr>\n    <tr>\n      <th>811</th>\n      <td>12</td>\n      <td>Starboy</td>\n      <td>The Weeknd</td>\n      <td>8305</td>\n      <td>5aAx2yezTd8zXrkmtKl66Z</td>\n      <td>2017-01-05</td>\n      <td>ECU</td>\n    </tr>\n    <tr>\n      <th>...</th>\n      <td>...</td>\n      <td>...</td>\n      <td>...</td>\n      <td>...</td>\n      <td>...</td>\n      <td>...</td>\n      <td>...</td>\n    </tr>\n    <tr>\n      <th>3365552</th>\n      <td>156</td>\n      <td>Starboy</td>\n      <td>The Weeknd</td>\n      <td>2313</td>\n      <td>5aAx2yezTd8zXrkmtKl66Z</td>\n      <td>2017-12-31</td>\n      <td>HKG</td>\n    </tr>\n    <tr>\n      <th>3365778</th>\n      <td>182</td>\n      <td>Starboy</td>\n      <td>The Weeknd</td>\n      <td>1799</td>\n      <td>5aAx2yezTd8zXrkmtKl66Z</td>\n      <td>2018-01-01</td>\n      <td>HKG</td>\n    </tr>\n    <tr>\n      <th>3365987</th>\n      <td>191</td>\n      <td>Starboy</td>\n      <td>The Weeknd</td>\n      <td>2199</td>\n      <td>5aAx2yezTd8zXrkmtKl66Z</td>\n      <td>2018-01-02</td>\n      <td>HKG</td>\n    </tr>\n    <tr>\n      <th>3366181</th>\n      <td>185</td>\n      <td>Starboy</td>\n      <td>The Weeknd</td>\n      <td>2263</td>\n      <td>5aAx2yezTd8zXrkmtKl66Z</td>\n      <td>2018-01-03</td>\n      <td>HKG</td>\n    </tr>\n    <tr>\n      <th>3366390</th>\n      <td>194</td>\n      <td>Starboy</td>\n      <td>The Weeknd</td>\n      <td>2207</td>\n      <td>5aAx2yezTd8zXrkmtKl66Z</td>\n      <td>2018-01-04</td>\n      <td>HKG</td>\n    </tr>\n  </tbody>\n</table>\n<p>12806 rows × 7 columns</p>\n</div>"
     },
     "metadata": {},
     "execution_count": 100
    }
   ],
   "source": [
    "df[df['id'] == '5aAx2yezTd8zXrkmtKl66Z']"
   ]
  }
 ],
 "metadata": {
  "kernelspec": {
   "name": "Python 3.8.6 64-bit",
   "display_name": "Python 3.8.6 64-bit",
   "metadata": {
    "interpreter": {
     "hash": "d2152fd7f0bbc62aa1baff8c990435d1e2c7175d001561303988032604c11a48"
    }
   }
  },
  "language_info": {
   "codemirror_mode": {
    "name": "ipython",
    "version": 3
   },
   "file_extension": ".py",
   "mimetype": "text/x-python",
   "name": "python",
   "nbconvert_exporter": "python",
   "pygments_lexer": "ipython3",
   "version": "3.8.6-final"
  }
 },
 "nbformat": 4,
 "nbformat_minor": 2
}